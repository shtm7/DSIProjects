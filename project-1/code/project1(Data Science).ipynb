{
 "cells": [
  {
   "cell_type": "markdown",
   "metadata": {},
   "source": [
    "# Project 1: Driving Licenses, Traffic Accidents and Casualties Analysis"
   ]
  },
  {
   "cell_type": "markdown",
   "metadata": {},
   "source": [
    "## Problem Statment\n",
    "\n"
   ]
  },
  {
   "cell_type": "markdown",
   "metadata": {},
   "source": [
    "Traffic accidents are the main problem in the Kingdom of Saudi Arabia, which has increased over the past years in various regions, and there are also many license holders during the past years from different regions in the Kingdom of Saudi Arabia, and by knowing the percentage of license holders in each region that can be find out the number of drivers per year, knowing the rates of traffic accidents and checking them to find solutions."
   ]
  },
  {
   "cell_type": "markdown",
   "metadata": {},
   "source": [
    "## Executive Summary\n",
    "\n",
    "In 2021, I began to analyze and study traffic accidents and driving licenses datasets in the Kingdom of Saudi Arabia in order to an exploration of the regions that record the highest rate of traffic accidents during the past years, this dataset contains data up to 2017.  The dataset was cleaned, analysis by graphs and statistical calculations were used.  I would like to find in the end of study and analyze this data to recommends some solutions to reduce accidents in Saudi Arabia."
   ]
  },
  {
   "cell_type": "markdown",
   "metadata": {},
   "source": []
  },
  {
   "cell_type": "markdown",
   "metadata": {},
   "source": [
    "### Contents:\n",
    "- [Datasets Description](#Datasets-Description)\n",
    "- [Data Import & Cleaning](#Data-Import-and-Cleaning)\n",
    "- [Exploratory Data Analysis](#Exploratory-Data-Analysis)\n",
    "- [Data Visualization](#Visualize-the-data)\n",
    "- [Descriptive and Inferential Statistics](#Descriptive-and-Inferential-Statistics)\n",
    "- [Outside Research](#Outside-Research)\n",
    "- [Conclusions and Recommendations](#Conclusions-and-Recommendations)"
   ]
  },
  {
   "cell_type": "markdown",
   "metadata": {},
   "source": [
    "**If you combine your problem statement, executive summary, data dictionary, and conclusions/recommendations, you have an amazing README.md file that quickly aligns your audience to the contents of your project.** Don't forget to cite your data sources!"
   ]
  },
  {
   "cell_type": "markdown",
   "metadata": {},
   "source": [
    "*All libraries used should be added here, including any Jupyter magic commands*"
   ]
  },
  {
   "cell_type": "code",
   "execution_count": 1,
   "metadata": {},
   "outputs": [],
   "source": [
    "# Some imports for the project \n",
    "import numpy as np\n",
    "import pandas as pd\n",
    "import matplotlib.pyplot as plt\n",
    "import seaborn as sns\n",
    "sns.set_style('whitegrid')\n",
    "%matplotlib inline\n",
    "\n",
    "\n",
    "from math import sqrt\n",
    "#Setting display format to retina in matplotlib to see better quality images.\n",
    "from IPython.display import set_matplotlib_formats\n",
    "set_matplotlib_formats('retina')"
   ]
  },
  {
   "cell_type": "markdown",
   "metadata": {},
   "source": [
    "## Datasets Description\n",
    "\n",
    "[Driving Licenses](https://datasource.kapsarc.org/explore/dataset/saudi-arabia-driving-licenses-issued-in-the-kingdom-2004-2008/information/?disjunctive.administritive_area&sort=time_period&location=5,24.37495,45.08024&basemap=jawg.streets)\n",
    "This dataset contains Saudi Arabia Driving Licenses Issued By Administrative Area for 1993 - 2016. Data from General Authority for Statistics . Follow datasource.kapsarc.org for timely data to advance energy economics research.\n",
    "\n",
    "[Traffic Accidents and Casualties](https://datasource.kapsarc.org/explore/dataset/saudi-arabia-traffic-accidents-and-casualties-injured-dead-2008/export/?disjunctive.region&disjunctive.indicator&sort=time_period)\n",
    "This dataset contains Saudi Arabia Traffic Accidents and Casualties by Region for 2016. Data from General Authority for Statistics. Follow datasource.kapsarc.org for timely data to advance energy economics research.\n"
   ]
  },
  {
   "cell_type": "markdown",
   "metadata": {},
   "source": [
    "## Data Import and Cleaning"
   ]
  },
  {
   "cell_type": "markdown",
   "metadata": {},
   "source": [
    "#### 1. Read In Driving Licenses & Traffic Accidents Data\n",
    "Read in the `saudi-arabia-traffic-accidents-2008.csv` and `saudi-arabia-driving-licenses-2004-2008.csv` files and assign them to appropriately named pandas dataframes."
   ]
  },
  {
   "cell_type": "code",
   "execution_count": 2,
   "metadata": {},
   "outputs": [],
   "source": [
    "traffic_accidents = pd.read_csv('../data/saudi-arabia-traffic-accidents-2008.csv',index_col=None)\n",
    "driving_licenses = pd.read_csv('../data/saudi-arabia-driving-licenses-2004-2008.csv', index_col=0)"
   ]
  },
  {
   "cell_type": "markdown",
   "metadata": {},
   "source": [
    "#### 2. Display data\n",
    "\n",
    "Print the first 10 rows of each dataframe to your jupyter notebook"
   ]
  },
  {
   "cell_type": "code",
   "execution_count": 3,
   "metadata": {},
   "outputs": [
    {
     "data": {
      "text/html": [
       "<div>\n",
       "<style scoped>\n",
       "    .dataframe tbody tr th:only-of-type {\n",
       "        vertical-align: middle;\n",
       "    }\n",
       "\n",
       "    .dataframe tbody tr th {\n",
       "        vertical-align: top;\n",
       "    }\n",
       "\n",
       "    .dataframe thead th {\n",
       "        text-align: right;\n",
       "    }\n",
       "</style>\n",
       "<table border=\"1\" class=\"dataframe\">\n",
       "  <thead>\n",
       "    <tr style=\"text-align: right;\">\n",
       "      <th></th>\n",
       "      <th>;Unnamed: 0;Year;Region;Indicator;Value;geo_point_2d</th>\n",
       "    </tr>\n",
       "  </thead>\n",
       "  <tbody>\n",
       "    <tr>\n",
       "      <th>0;0;(2016);Makkah;No. of Casualties - Injured;12383n;21.628962766</th>\n",
       "      <td>41.263690</td>\n",
       "    </tr>\n",
       "    <tr>\n",
       "      <th>1;1;(2016);Eastern Region;No. of Casualties - Dead;1113n;23.2883307307</th>\n",
       "      <td>50.147830</td>\n",
       "    </tr>\n",
       "    <tr>\n",
       "      <th>2;2;(2016);Tabouk;No. of Casualties - Dead;434n;27.90165499</th>\n",
       "      <td>37.259858</td>\n",
       "    </tr>\n",
       "    <tr>\n",
       "      <th>3;3;(2016);Hail;No. of Casualties - Dead;299n;27.400845724</th>\n",
       "      <td>41.440696</td>\n",
       "    </tr>\n",
       "    <tr>\n",
       "      <th>4;4;(2016);Hail;No. of Accidents;10199n;27.400845724</th>\n",
       "      <td>41.440696</td>\n",
       "    </tr>\n",
       "    <tr>\n",
       "      <th>5;5;(2016);Northern Boarder;No. of Casualties - Dead;193n;30.197074783</th>\n",
       "      <td>41.817119</td>\n",
       "    </tr>\n",
       "    <tr>\n",
       "      <th>6;6;(2017);Jazan;No. of Accidents;22161n;17.2072313962</th>\n",
       "      <td>42.652581</td>\n",
       "    </tr>\n",
       "    <tr>\n",
       "      <th>7;7;(2017);Al-Jouf;No. of Accidents;10469n;29.9677445762</th>\n",
       "      <td>39.557037</td>\n",
       "    </tr>\n",
       "    <tr>\n",
       "      <th>8;8;(2017);Total;No. of Casualties - Dead;7489n;</th>\n",
       "      <td>NaN</td>\n",
       "    </tr>\n",
       "    <tr>\n",
       "      <th>9;9;(2016);Northern Boarder;No. of Casualties - Injured;631n;30.197074783</th>\n",
       "      <td>41.817119</td>\n",
       "    </tr>\n",
       "  </tbody>\n",
       "</table>\n",
       "</div>"
      ],
      "text/plain": [
       "                                                    ;Unnamed: 0;Year;Region;Indicator;Value;geo_point_2d\n",
       "0;0;(2016);Makkah;No. of Casualties - Injured;1...                                          41.263690   \n",
       "1;1;(2016);Eastern Region;No. of Casualties - D...                                          50.147830   \n",
       "2;2;(2016);Tabouk;No. of Casualties - Dead;434n...                                          37.259858   \n",
       "3;3;(2016);Hail;No. of Casualties - Dead;299n;2...                                          41.440696   \n",
       "4;4;(2016);Hail;No. of Accidents;10199n;27.4008...                                          41.440696   \n",
       "5;5;(2016);Northern Boarder;No. of Casualties -...                                          41.817119   \n",
       "6;6;(2017);Jazan;No. of Accidents;22161n;17.207...                                          42.652581   \n",
       "7;7;(2017);Al-Jouf;No. of Accidents;10469n;29.9...                                          39.557037   \n",
       "8;8;(2017);Total;No. of Casualties - Dead;7489n;                                                  NaN   \n",
       "9;9;(2016);Northern Boarder;No. of Casualties -...                                          41.817119   "
      ]
     },
     "execution_count": 3,
     "metadata": {},
     "output_type": "execute_result"
    }
   ],
   "source": [
    "traffic_accidents.head(10)"
   ]
  },
  {
   "cell_type": "code",
   "execution_count": 4,
   "metadata": {},
   "outputs": [
    {
     "data": {
      "text/plain": [
       "(84, 1)"
      ]
     },
     "execution_count": 4,
     "metadata": {},
     "output_type": "execute_result"
    }
   ],
   "source": [
    "traffic_accidents.shape"
   ]
  },
  {
   "cell_type": "code",
   "execution_count": 5,
   "metadata": {},
   "outputs": [
    {
     "data": {
      "text/plain": [
       "Index([';Unnamed: 0;Year;Region;Indicator;Value;geo_point_2d'], dtype='object')"
      ]
     },
     "execution_count": 5,
     "metadata": {},
     "output_type": "execute_result"
    }
   ],
   "source": [
    "traffic_accidents.columns"
   ]
  },
  {
   "cell_type": "code",
   "execution_count": 6,
   "metadata": {},
   "outputs": [
    {
     "data": {
      "text/html": [
       "<div>\n",
       "<style scoped>\n",
       "    .dataframe tbody tr th:only-of-type {\n",
       "        vertical-align: middle;\n",
       "    }\n",
       "\n",
       "    .dataframe tbody tr th {\n",
       "        vertical-align: top;\n",
       "    }\n",
       "\n",
       "    .dataframe thead th {\n",
       "        text-align: right;\n",
       "    }\n",
       "</style>\n",
       "<table border=\"1\" class=\"dataframe\">\n",
       "  <thead>\n",
       "    <tr style=\"text-align: right;\">\n",
       "      <th></th>\n",
       "      <th>;Year;Administritive Area;Driving Liceses;geo_point_2d</th>\n",
       "    </tr>\n",
       "  </thead>\n",
       "  <tbody>\n",
       "    <tr>\n",
       "      <th>0;(2012);Makkah;143954n;21.628962766</th>\n",
       "      <td>41.263690</td>\n",
       "    </tr>\n",
       "    <tr>\n",
       "      <th>1;(1994);Makkah;75349n;21.628962766</th>\n",
       "      <td>41.263690</td>\n",
       "    </tr>\n",
       "    <tr>\n",
       "      <th>2;(1998);Makkah;86082n;21.628962766</th>\n",
       "      <td>41.263690</td>\n",
       "    </tr>\n",
       "    <tr>\n",
       "      <th>3;(2004);Makkah;86636n;21.628962766</th>\n",
       "      <td>41.263690</td>\n",
       "    </tr>\n",
       "    <tr>\n",
       "      <th>4;(2005);Makkah;65099n;21.628962766</th>\n",
       "      <td>41.263690</td>\n",
       "    </tr>\n",
       "    <tr>\n",
       "      <th>5;(2008);Makkah;77013n;21.628962766</th>\n",
       "      <td>41.263690</td>\n",
       "    </tr>\n",
       "    <tr>\n",
       "      <th>6;(2014);Madinah;31447n;24.927534539</th>\n",
       "      <td>39.491824</td>\n",
       "    </tr>\n",
       "    <tr>\n",
       "      <th>7;(2013);Madinah;28513n;24.927534539</th>\n",
       "      <td>39.491824</td>\n",
       "    </tr>\n",
       "    <tr>\n",
       "      <th>8;(2012);Madinah;14459n;24.927534539</th>\n",
       "      <td>39.491824</td>\n",
       "    </tr>\n",
       "    <tr>\n",
       "      <th>9;(1994);Madinah;3767n;24.927534539</th>\n",
       "      <td>39.491824</td>\n",
       "    </tr>\n",
       "  </tbody>\n",
       "</table>\n",
       "</div>"
      ],
      "text/plain": [
       "                                      ;Year;Administritive Area;Driving Liceses;geo_point_2d\n",
       "0;(2012);Makkah;143954n;21.628962766                                          41.263690     \n",
       "1;(1994);Makkah;75349n;21.628962766                                           41.263690     \n",
       "2;(1998);Makkah;86082n;21.628962766                                           41.263690     \n",
       "3;(2004);Makkah;86636n;21.628962766                                           41.263690     \n",
       "4;(2005);Makkah;65099n;21.628962766                                           41.263690     \n",
       "5;(2008);Makkah;77013n;21.628962766                                           41.263690     \n",
       "6;(2014);Madinah;31447n;24.927534539                                          39.491824     \n",
       "7;(2013);Madinah;28513n;24.927534539                                          39.491824     \n",
       "8;(2012);Madinah;14459n;24.927534539                                          39.491824     \n",
       "9;(1994);Madinah;3767n;24.927534539                                           39.491824     "
      ]
     },
     "execution_count": 6,
     "metadata": {},
     "output_type": "execute_result"
    }
   ],
   "source": [
    "driving_licenses.head(10)"
   ]
  },
  {
   "cell_type": "code",
   "execution_count": 7,
   "metadata": {},
   "outputs": [
    {
     "data": {
      "text/plain": [
       "(350, 1)"
      ]
     },
     "execution_count": 7,
     "metadata": {},
     "output_type": "execute_result"
    }
   ],
   "source": [
    "driving_licenses.shape"
   ]
  },
  {
   "cell_type": "code",
   "execution_count": 8,
   "metadata": {},
   "outputs": [
    {
     "data": {
      "text/plain": [
       "Index([';Year;Administritive Area;Driving Liceses;geo_point_2d'], dtype='object')"
      ]
     },
     "execution_count": 8,
     "metadata": {},
     "output_type": "execute_result"
    }
   ],
   "source": [
    "driving_licenses.columns"
   ]
  },
  {
   "cell_type": "markdown",
   "metadata": {},
   "source": [
    "#### 3. Briefly describe the data\n",
    "\n",
    "Take your time looking through the data and briefly describe the data in the markdown cell below. Note things about what the columns might mean, and the general information that is conveyed in the dataframe."
   ]
  },
  {
   "cell_type": "markdown",
   "metadata": {},
   "source": [
    "Answer: \n",
    "\n",
    "Traffic_accident and driving_licenses datasets are:\n",
    "\n",
    "* Thay have index: unnamed and have importent values of these datast sprated with ';'\n",
    "* Traffic_accident Column(;Unnamed: 0;Year;Region;Indicator;Value;geo_point_2d): An column for Total of numbers\n",
    "* driving_licenses Column(;Year;Administritive Area;Driving Liceses;geo_point_2d): An column for Total of numbers\n",
    "* Both files contain one column and one row, as the columns are not named correctly, so each column will be renamed\n",
    "* The traffic accident file contains Index: 84 entries. The file shape(84, 1) needs to formatted to wide the table\n",
    "* The driver's licenses file contains the Index: 350 entries.  The file shape (350, 1) needs to split the entities and clean    the table\n",
    "\n",
    "The conclusion is that I have to rename and split new columns so that the tables will look right\n"
   ]
  },
  {
   "cell_type": "markdown",
   "metadata": {},
   "source": [
    "#### 4a. How complete is the data?\n",
    "\n",
    "Investigate missing values etc."
   ]
  },
  {
   "cell_type": "code",
   "execution_count": 9,
   "metadata": {},
   "outputs": [
    {
     "name": "stdout",
     "output_type": "stream",
     "text": [
      "Ther are 6 missing value in traffic_accidents dataframe\n"
     ]
    },
    {
     "data": {
      "text/html": [
       "<div>\n",
       "<style scoped>\n",
       "    .dataframe tbody tr th:only-of-type {\n",
       "        vertical-align: middle;\n",
       "    }\n",
       "\n",
       "    .dataframe tbody tr th {\n",
       "        vertical-align: top;\n",
       "    }\n",
       "\n",
       "    .dataframe thead th {\n",
       "        text-align: right;\n",
       "    }\n",
       "</style>\n",
       "<table border=\"1\" class=\"dataframe\">\n",
       "  <thead>\n",
       "    <tr style=\"text-align: right;\">\n",
       "      <th></th>\n",
       "      <th>;Unnamed: 0;Year;Region;Indicator;Value;geo_point_2d</th>\n",
       "    </tr>\n",
       "  </thead>\n",
       "  <tbody>\n",
       "    <tr>\n",
       "      <th>count</th>\n",
       "      <td>78.000000</td>\n",
       "    </tr>\n",
       "    <tr>\n",
       "      <th>mean</th>\n",
       "      <td>42.602789</td>\n",
       "    </tr>\n",
       "    <tr>\n",
       "      <th>std</th>\n",
       "      <td>3.270216</td>\n",
       "    </tr>\n",
       "    <tr>\n",
       "      <th>min</th>\n",
       "      <td>37.259858</td>\n",
       "    </tr>\n",
       "    <tr>\n",
       "      <th>25%</th>\n",
       "      <td>41.263690</td>\n",
       "    </tr>\n",
       "    <tr>\n",
       "      <th>50%</th>\n",
       "      <td>41.817119</td>\n",
       "    </tr>\n",
       "    <tr>\n",
       "      <th>75%</th>\n",
       "      <td>43.343000</td>\n",
       "    </tr>\n",
       "    <tr>\n",
       "      <th>max</th>\n",
       "      <td>50.147830</td>\n",
       "    </tr>\n",
       "  </tbody>\n",
       "</table>\n",
       "</div>"
      ],
      "text/plain": [
       "       ;Unnamed: 0;Year;Region;Indicator;Value;geo_point_2d\n",
       "count                                          78.000000   \n",
       "mean                                           42.602789   \n",
       "std                                             3.270216   \n",
       "min                                            37.259858   \n",
       "25%                                            41.263690   \n",
       "50%                                            41.817119   \n",
       "75%                                            43.343000   \n",
       "max                                            50.147830   "
      ]
     },
     "execution_count": 9,
     "metadata": {},
     "output_type": "execute_result"
    }
   ],
   "source": [
    "print('Ther are {} missing value in traffic_accidents dataframe'.format(traffic_accidents.isnull().sum().sum()))\n",
    "traffic_accidents.describe()"
   ]
  },
  {
   "cell_type": "code",
   "execution_count": 10,
   "metadata": {},
   "outputs": [
    {
     "name": "stdout",
     "output_type": "stream",
     "text": [
      "Ther are 25 missing value in traffic_accidents dataframe\n"
     ]
    },
    {
     "data": {
      "text/html": [
       "<div>\n",
       "<style scoped>\n",
       "    .dataframe tbody tr th:only-of-type {\n",
       "        vertical-align: middle;\n",
       "    }\n",
       "\n",
       "    .dataframe tbody tr th {\n",
       "        vertical-align: top;\n",
       "    }\n",
       "\n",
       "    .dataframe thead th {\n",
       "        text-align: right;\n",
       "    }\n",
       "</style>\n",
       "<table border=\"1\" class=\"dataframe\">\n",
       "  <thead>\n",
       "    <tr style=\"text-align: right;\">\n",
       "      <th></th>\n",
       "      <th>;Year;Administritive Area;Driving Liceses;geo_point_2d</th>\n",
       "    </tr>\n",
       "  </thead>\n",
       "  <tbody>\n",
       "    <tr>\n",
       "      <th>count</th>\n",
       "      <td>325.000000</td>\n",
       "    </tr>\n",
       "    <tr>\n",
       "      <th>mean</th>\n",
       "      <td>42.602789</td>\n",
       "    </tr>\n",
       "    <tr>\n",
       "      <th>std</th>\n",
       "      <td>3.254196</td>\n",
       "    </tr>\n",
       "    <tr>\n",
       "      <th>min</th>\n",
       "      <td>37.259858</td>\n",
       "    </tr>\n",
       "    <tr>\n",
       "      <th>25%</th>\n",
       "      <td>41.263690</td>\n",
       "    </tr>\n",
       "    <tr>\n",
       "      <th>50%</th>\n",
       "      <td>41.817119</td>\n",
       "    </tr>\n",
       "    <tr>\n",
       "      <th>75%</th>\n",
       "      <td>43.343000</td>\n",
       "    </tr>\n",
       "    <tr>\n",
       "      <th>max</th>\n",
       "      <td>50.147830</td>\n",
       "    </tr>\n",
       "  </tbody>\n",
       "</table>\n",
       "</div>"
      ],
      "text/plain": [
       "       ;Year;Administritive Area;Driving Liceses;geo_point_2d\n",
       "count                                         325.000000     \n",
       "mean                                           42.602789     \n",
       "std                                             3.254196     \n",
       "min                                            37.259858     \n",
       "25%                                            41.263690     \n",
       "50%                                            41.817119     \n",
       "75%                                            43.343000     \n",
       "max                                            50.147830     "
      ]
     },
     "execution_count": 10,
     "metadata": {},
     "output_type": "execute_result"
    }
   ],
   "source": [
    "print('Ther are {} missing value in traffic_accidents dataframe'.format(driving_licenses.isnull().sum().sum()))\n",
    "driving_licenses.describe()"
   ]
  },
  {
   "cell_type": "markdown",
   "metadata": {},
   "source": [
    "#### 4b. Are there any obvious issues with the observations?\n",
    "\n",
    "**What is the minimum *possible* value for each dataset? What is the maximum *possible* value?**"
   ]
  },
  {
   "cell_type": "code",
   "execution_count": 11,
   "metadata": {},
   "outputs": [
    {
     "name": "stdout",
     "output_type": "stream",
     "text": [
      "The minimum value of traffic_accidents dataframe is:3.2702158502819754 \n",
      "The maximum value of traffic_accidents dataframe is:78.0\n"
     ]
    }
   ],
   "source": [
    "print('The minimum value of traffic_accidents dataframe is:{} '.format(traffic_accidents.describe().min().min()))\n",
    "\n",
    "print('The maximum value of traffic_accidents dataframe is:{}'.format(traffic_accidents.describe().max().max()))"
   ]
  },
  {
   "cell_type": "code",
   "execution_count": 12,
   "metadata": {},
   "outputs": [
    {
     "name": "stdout",
     "output_type": "stream",
     "text": [
      "The minimum value of driving_licenses dataframe is:3.254195616982339 \n",
      "The maximum value of driving_licenses dataframe is:325.0\n"
     ]
    }
   ],
   "source": [
    "print('The minimum value of driving_licenses dataframe is:{} '.format(driving_licenses.describe().min().min()))\n",
    "\n",
    "print('The maximum value of driving_licenses dataframe is:{}'.format(driving_licenses.describe().max().max()))"
   ]
  },
  {
   "cell_type": "markdown",
   "metadata": {},
   "source": [
    "#### 5. What are your data types? \n",
    "Display the data types of each feature. "
   ]
  },
  {
   "cell_type": "code",
   "execution_count": 13,
   "metadata": {},
   "outputs": [
    {
     "name": "stdout",
     "output_type": "stream",
     "text": [
      "The data type column of traffic_accidents dataframe is:\n"
     ]
    },
    {
     "data": {
      "text/plain": [
       ";Unnamed: 0;Year;Region;Indicator;Value;geo_point_2d    float64\n",
       "dtype: object"
      ]
     },
     "execution_count": 13,
     "metadata": {},
     "output_type": "execute_result"
    }
   ],
   "source": [
    "print('The data type column of traffic_accidents dataframe is:')\n",
    "traffic_accidents.dtypes"
   ]
  },
  {
   "cell_type": "code",
   "execution_count": 14,
   "metadata": {
    "scrolled": true
   },
   "outputs": [
    {
     "name": "stdout",
     "output_type": "stream",
     "text": [
      "The data type column of driving_licenses dataframe is:\n"
     ]
    },
    {
     "data": {
      "text/plain": [
       ";Year;Administritive Area;Driving Liceses;geo_point_2d    float64\n",
       "dtype: object"
      ]
     },
     "execution_count": 14,
     "metadata": {},
     "output_type": "execute_result"
    }
   ],
   "source": [
    "print('The data type column of driving_licenses dataframe is:')\n",
    "driving_licenses.dtypes"
   ]
  },
  {
   "cell_type": "markdown",
   "metadata": {},
   "source": [
    "What did you learn?\n",
    "- Do any of them seem odd?  \n",
    "- Which ones are not as they should be?  "
   ]
  },
  {
   "cell_type": "markdown",
   "metadata": {},
   "source": [
    "Answer:\n",
    "\n",
    "In these two data sets, all data is confined to one column, as for the row, it collected all the data, and this matter made the data set unclear and incomprehensible.\n",
    "\n",
    "I want to do some cleaning:\n",
    "\n",
    "* Add new columns by split the column \";Unnamed: 0;Year;Region;Indicator;Value;geo_point_2d\" from traffic_accidents dataset and \";Year;Administritive Area;Driving Liceses;geo_point_2d\" column from driving_licenses dataset.\n",
    "* Drop unnecessary columns for both datasets after the columns selected and assign their values.\n",
    "* Keep only the data value and change there columns for both dataframe.\n",
    "* Remove the Unnamed index from these two dataframes.\n",
    "* Set index in both dataframes.\n",
    "* Change the data types for each column in the datasets  to be match  with column values of these dataframes.\n",
    "\n",
    "After cleaning the traffic_accidents dataset and driving_licenses dataset I have to merege the tables of these datasets\n"
   ]
  },
  {
   "cell_type": "markdown",
   "metadata": {},
   "source": [
    "#### 6. Fix incorrect data types\n",
    "Based on what you discovered above, use appropriate methods to re-type incorrectly typed data.\n",
    "- Define a function that will allow you to convert numerical columns to an appropriate numeric type. Use `map` or `apply` to change these columns in each dataframe."
   ]
  },
  {
   "cell_type": "code",
   "execution_count": 15,
   "metadata": {},
   "outputs": [
    {
     "name": "stdout",
     "output_type": "stream",
     "text": [
      "Index(['Year,Region,Indicator,Value,geo_point_2d'], dtype='object')\n"
     ]
    },
    {
     "data": {
      "text/html": [
       "<div>\n",
       "<style scoped>\n",
       "    .dataframe tbody tr th:only-of-type {\n",
       "        vertical-align: middle;\n",
       "    }\n",
       "\n",
       "    .dataframe tbody tr th {\n",
       "        vertical-align: top;\n",
       "    }\n",
       "\n",
       "    .dataframe thead th {\n",
       "        text-align: right;\n",
       "    }\n",
       "</style>\n",
       "<table border=\"1\" class=\"dataframe\">\n",
       "  <thead>\n",
       "    <tr style=\"text-align: right;\">\n",
       "      <th></th>\n",
       "      <th>index1</th>\n",
       "      <th>Year,Region,Indicator,Value,geo_point_2d</th>\n",
       "    </tr>\n",
       "  </thead>\n",
       "  <tbody>\n",
       "    <tr>\n",
       "      <th>0</th>\n",
       "      <td>0;0;(2016);Makkah;No. of Casualties - Injured;...</td>\n",
       "      <td>41.263690</td>\n",
       "    </tr>\n",
       "    <tr>\n",
       "      <th>1</th>\n",
       "      <td>1;1;(2016);Eastern Region;No. of Casualties - ...</td>\n",
       "      <td>50.147830</td>\n",
       "    </tr>\n",
       "    <tr>\n",
       "      <th>2</th>\n",
       "      <td>2;2;(2016);Tabouk;No. of Casualties - Dead;434...</td>\n",
       "      <td>37.259858</td>\n",
       "    </tr>\n",
       "    <tr>\n",
       "      <th>3</th>\n",
       "      <td>3;3;(2016);Hail;No. of Casualties - Dead;299n;...</td>\n",
       "      <td>41.440696</td>\n",
       "    </tr>\n",
       "    <tr>\n",
       "      <th>4</th>\n",
       "      <td>4;4;(2016);Hail;No. of Accidents;10199n;27.400...</td>\n",
       "      <td>41.440696</td>\n",
       "    </tr>\n",
       "    <tr>\n",
       "      <th>5</th>\n",
       "      <td>5;5;(2016);Northern Boarder;No. of Casualties ...</td>\n",
       "      <td>41.817119</td>\n",
       "    </tr>\n",
       "    <tr>\n",
       "      <th>6</th>\n",
       "      <td>6;6;(2017);Jazan;No. of Accidents;22161n;17.20...</td>\n",
       "      <td>42.652581</td>\n",
       "    </tr>\n",
       "    <tr>\n",
       "      <th>7</th>\n",
       "      <td>7;7;(2017);Al-Jouf;No. of Accidents;10469n;29....</td>\n",
       "      <td>39.557037</td>\n",
       "    </tr>\n",
       "    <tr>\n",
       "      <th>8</th>\n",
       "      <td>8;8;(2017);Total;No. of Casualties - Dead;7489n;</td>\n",
       "      <td>NaN</td>\n",
       "    </tr>\n",
       "    <tr>\n",
       "      <th>9</th>\n",
       "      <td>9;9;(2016);Northern Boarder;No. of Casualties ...</td>\n",
       "      <td>41.817119</td>\n",
       "    </tr>\n",
       "  </tbody>\n",
       "</table>\n",
       "</div>"
      ],
      "text/plain": [
       "                                              index1  \\\n",
       "0  0;0;(2016);Makkah;No. of Casualties - Injured;...   \n",
       "1  1;1;(2016);Eastern Region;No. of Casualties - ...   \n",
       "2  2;2;(2016);Tabouk;No. of Casualties - Dead;434...   \n",
       "3  3;3;(2016);Hail;No. of Casualties - Dead;299n;...   \n",
       "4  4;4;(2016);Hail;No. of Accidents;10199n;27.400...   \n",
       "5  5;5;(2016);Northern Boarder;No. of Casualties ...   \n",
       "6  6;6;(2017);Jazan;No. of Accidents;22161n;17.20...   \n",
       "7  7;7;(2017);Al-Jouf;No. of Accidents;10469n;29....   \n",
       "8   8;8;(2017);Total;No. of Casualties - Dead;7489n;   \n",
       "9  9;9;(2016);Northern Boarder;No. of Casualties ...   \n",
       "\n",
       "   Year,Region,Indicator,Value,geo_point_2d  \n",
       "0                                 41.263690  \n",
       "1                                 50.147830  \n",
       "2                                 37.259858  \n",
       "3                                 41.440696  \n",
       "4                                 41.440696  \n",
       "5                                 41.817119  \n",
       "6                                 42.652581  \n",
       "7                                 39.557037  \n",
       "8                                       NaN  \n",
       "9                                 41.817119  "
      ]
     },
     "execution_count": 15,
     "metadata": {},
     "output_type": "execute_result"
    }
   ],
   "source": [
    "#Befor I start re-type ,I will add new columns and set index \n",
    "#Remove the unamed columns from traffic_accidents DataFrame\n",
    "new_df=' '\n",
    "new_df=traffic_accidents.columns\n",
    "columns_line=new_df.str.replace(';Unnamed: 0;Year;Region;Indicator;Value;geo_point_2d' ,'Year,Region,Indicator,Value,geo_point_2d')\n",
    "columns_line.str.split('\\n')\n",
    "\n",
    "print(columns_line[:3])\n",
    "traffic_accidents.columns=columns_line[:3]\n",
    "traffic_accidents.index.name='index1'\n",
    "traffic_accidents=traffic_accidents.reset_index()\n",
    "traffic_accidents.head(10)"
   ]
  },
  {
   "cell_type": "code",
   "execution_count": 16,
   "metadata": {},
   "outputs": [
    {
     "data": {
      "text/html": [
       "<div>\n",
       "<style scoped>\n",
       "    .dataframe tbody tr th:only-of-type {\n",
       "        vertical-align: middle;\n",
       "    }\n",
       "\n",
       "    .dataframe tbody tr th {\n",
       "        vertical-align: top;\n",
       "    }\n",
       "\n",
       "    .dataframe thead th {\n",
       "        text-align: right;\n",
       "    }\n",
       "</style>\n",
       "<table border=\"1\" class=\"dataframe\">\n",
       "  <thead>\n",
       "    <tr style=\"text-align: right;\">\n",
       "      <th></th>\n",
       "      <th>index1</th>\n",
       "      <th>Year,Region,Indicator,Value,geo_point_2d</th>\n",
       "      <th>id</th>\n",
       "      <th>d</th>\n",
       "      <th>Year</th>\n",
       "      <th>Region</th>\n",
       "      <th>Indicator</th>\n",
       "      <th>Value</th>\n",
       "      <th>geo_point_2d</th>\n",
       "    </tr>\n",
       "  </thead>\n",
       "  <tbody>\n",
       "    <tr>\n",
       "      <th>0</th>\n",
       "      <td>0;0;(2016);Makkah;No. of Casualties - Injured;...</td>\n",
       "      <td>41.263690</td>\n",
       "      <td>0</td>\n",
       "      <td>0</td>\n",
       "      <td>(2016)</td>\n",
       "      <td>Makkah</td>\n",
       "      <td>No. of Casualties - Injured</td>\n",
       "      <td>12383n</td>\n",
       "      <td>21.628962766</td>\n",
       "    </tr>\n",
       "    <tr>\n",
       "      <th>1</th>\n",
       "      <td>1;1;(2016);Eastern Region;No. of Casualties - ...</td>\n",
       "      <td>50.147830</td>\n",
       "      <td>1</td>\n",
       "      <td>1</td>\n",
       "      <td>(2016)</td>\n",
       "      <td>Eastern Region</td>\n",
       "      <td>No. of Casualties - Dead</td>\n",
       "      <td>1113n</td>\n",
       "      <td>23.2883307307</td>\n",
       "    </tr>\n",
       "    <tr>\n",
       "      <th>2</th>\n",
       "      <td>2;2;(2016);Tabouk;No. of Casualties - Dead;434...</td>\n",
       "      <td>37.259858</td>\n",
       "      <td>2</td>\n",
       "      <td>2</td>\n",
       "      <td>(2016)</td>\n",
       "      <td>Tabouk</td>\n",
       "      <td>No. of Casualties - Dead</td>\n",
       "      <td>434n</td>\n",
       "      <td>27.90165499</td>\n",
       "    </tr>\n",
       "  </tbody>\n",
       "</table>\n",
       "</div>"
      ],
      "text/plain": [
       "                                              index1  \\\n",
       "0  0;0;(2016);Makkah;No. of Casualties - Injured;...   \n",
       "1  1;1;(2016);Eastern Region;No. of Casualties - ...   \n",
       "2  2;2;(2016);Tabouk;No. of Casualties - Dead;434...   \n",
       "\n",
       "   Year,Region,Indicator,Value,geo_point_2d id  d    Year          Region  \\\n",
       "0                                 41.263690  0  0  (2016)          Makkah   \n",
       "1                                 50.147830  1  1  (2016)  Eastern Region   \n",
       "2                                 37.259858  2  2  (2016)          Tabouk   \n",
       "\n",
       "                     Indicator   Value   geo_point_2d  \n",
       "0  No. of Casualties - Injured  12383n   21.628962766  \n",
       "1     No. of Casualties - Dead   1113n  23.2883307307  \n",
       "2     No. of Casualties - Dead    434n    27.90165499  "
      ]
     },
     "execution_count": 16,
     "metadata": {},
     "output_type": "execute_result"
    }
   ],
   "source": [
    "df1 = pd.DataFrame(traffic_accidents.index1.str.split(\";\",7).tolist(),columns =['id','d','Year','Region','Indicator','Value','geo_point_2d'])\n",
    "traffic_accidents=traffic_accidents.join(df1)\n",
    "\n",
    "traffic_accidents.head(3)\n"
   ]
  },
  {
   "cell_type": "code",
   "execution_count": 17,
   "metadata": {},
   "outputs": [
    {
     "data": {
      "text/html": [
       "<div>\n",
       "<style scoped>\n",
       "    .dataframe tbody tr th:only-of-type {\n",
       "        vertical-align: middle;\n",
       "    }\n",
       "\n",
       "    .dataframe tbody tr th {\n",
       "        vertical-align: top;\n",
       "    }\n",
       "\n",
       "    .dataframe thead th {\n",
       "        text-align: right;\n",
       "    }\n",
       "</style>\n",
       "<table border=\"1\" class=\"dataframe\">\n",
       "  <thead>\n",
       "    <tr style=\"text-align: right;\">\n",
       "      <th></th>\n",
       "      <th>Year,Region,Indicator,Value,geo_point_2d</th>\n",
       "      <th>id</th>\n",
       "      <th>d</th>\n",
       "      <th>Year</th>\n",
       "      <th>Region</th>\n",
       "      <th>Indicator</th>\n",
       "      <th>Value</th>\n",
       "      <th>geo_point_2d</th>\n",
       "    </tr>\n",
       "  </thead>\n",
       "  <tbody>\n",
       "    <tr>\n",
       "      <th>0</th>\n",
       "      <td>41.263690</td>\n",
       "      <td>0</td>\n",
       "      <td>0</td>\n",
       "      <td>(2016)</td>\n",
       "      <td>Makkah</td>\n",
       "      <td>No. of Casualties - Injured</td>\n",
       "      <td>12383n</td>\n",
       "      <td>21.628962766</td>\n",
       "    </tr>\n",
       "    <tr>\n",
       "      <th>1</th>\n",
       "      <td>50.147830</td>\n",
       "      <td>1</td>\n",
       "      <td>1</td>\n",
       "      <td>(2016)</td>\n",
       "      <td>Eastern Region</td>\n",
       "      <td>No. of Casualties - Dead</td>\n",
       "      <td>1113n</td>\n",
       "      <td>23.2883307307</td>\n",
       "    </tr>\n",
       "    <tr>\n",
       "      <th>2</th>\n",
       "      <td>37.259858</td>\n",
       "      <td>2</td>\n",
       "      <td>2</td>\n",
       "      <td>(2016)</td>\n",
       "      <td>Tabouk</td>\n",
       "      <td>No. of Casualties - Dead</td>\n",
       "      <td>434n</td>\n",
       "      <td>27.90165499</td>\n",
       "    </tr>\n",
       "  </tbody>\n",
       "</table>\n",
       "</div>"
      ],
      "text/plain": [
       "   Year,Region,Indicator,Value,geo_point_2d id  d    Year          Region  \\\n",
       "0                                 41.263690  0  0  (2016)          Makkah   \n",
       "1                                 50.147830  1  1  (2016)  Eastern Region   \n",
       "2                                 37.259858  2  2  (2016)          Tabouk   \n",
       "\n",
       "                     Indicator   Value   geo_point_2d  \n",
       "0  No. of Casualties - Injured  12383n   21.628962766  \n",
       "1     No. of Casualties - Dead   1113n  23.2883307307  \n",
       "2     No. of Casualties - Dead    434n    27.90165499  "
      ]
     },
     "execution_count": 17,
     "metadata": {},
     "output_type": "execute_result"
    }
   ],
   "source": [
    "traffic_accidents.drop('index1',inplace=True , axis=1)\n",
    "traffic_accidents.head(3)\n",
    "#traffic_accidents.index.astype(str).str.split(';',expand=True)"
   ]
  },
  {
   "cell_type": "code",
   "execution_count": 18,
   "metadata": {},
   "outputs": [],
   "source": [
    "traffic_accidents=traffic_accidents.assign(g=traffic_accidents['Year,Region,Indicator,Value,geo_point_2d'])"
   ]
  },
  {
   "cell_type": "code",
   "execution_count": 19,
   "metadata": {},
   "outputs": [
    {
     "data": {
      "text/html": [
       "<div>\n",
       "<style scoped>\n",
       "    .dataframe tbody tr th:only-of-type {\n",
       "        vertical-align: middle;\n",
       "    }\n",
       "\n",
       "    .dataframe tbody tr th {\n",
       "        vertical-align: top;\n",
       "    }\n",
       "\n",
       "    .dataframe thead th {\n",
       "        text-align: right;\n",
       "    }\n",
       "</style>\n",
       "<table border=\"1\" class=\"dataframe\">\n",
       "  <thead>\n",
       "    <tr style=\"text-align: right;\">\n",
       "      <th></th>\n",
       "      <th>id</th>\n",
       "      <th>d</th>\n",
       "      <th>Year</th>\n",
       "      <th>Region</th>\n",
       "      <th>Indicator</th>\n",
       "      <th>Value</th>\n",
       "      <th>geo_point_2d</th>\n",
       "      <th>g</th>\n",
       "    </tr>\n",
       "  </thead>\n",
       "  <tbody>\n",
       "    <tr>\n",
       "      <th>0</th>\n",
       "      <td>0</td>\n",
       "      <td>0</td>\n",
       "      <td>(2016)</td>\n",
       "      <td>Makkah</td>\n",
       "      <td>No. of Casualties - Injured</td>\n",
       "      <td>12383n</td>\n",
       "      <td>21.628962766</td>\n",
       "      <td>41.263690</td>\n",
       "    </tr>\n",
       "    <tr>\n",
       "      <th>1</th>\n",
       "      <td>1</td>\n",
       "      <td>1</td>\n",
       "      <td>(2016)</td>\n",
       "      <td>Eastern Region</td>\n",
       "      <td>No. of Casualties - Dead</td>\n",
       "      <td>1113n</td>\n",
       "      <td>23.2883307307</td>\n",
       "      <td>50.147830</td>\n",
       "    </tr>\n",
       "    <tr>\n",
       "      <th>2</th>\n",
       "      <td>2</td>\n",
       "      <td>2</td>\n",
       "      <td>(2016)</td>\n",
       "      <td>Tabouk</td>\n",
       "      <td>No. of Casualties - Dead</td>\n",
       "      <td>434n</td>\n",
       "      <td>27.90165499</td>\n",
       "      <td>37.259858</td>\n",
       "    </tr>\n",
       "  </tbody>\n",
       "</table>\n",
       "</div>"
      ],
      "text/plain": [
       "  id  d    Year          Region                    Indicator   Value  \\\n",
       "0  0  0  (2016)          Makkah  No. of Casualties - Injured  12383n   \n",
       "1  1  1  (2016)  Eastern Region     No. of Casualties - Dead   1113n   \n",
       "2  2  2  (2016)          Tabouk     No. of Casualties - Dead    434n   \n",
       "\n",
       "    geo_point_2d          g  \n",
       "0   21.628962766  41.263690  \n",
       "1  23.2883307307  50.147830  \n",
       "2    27.90165499  37.259858  "
      ]
     },
     "execution_count": 19,
     "metadata": {},
     "output_type": "execute_result"
    }
   ],
   "source": [
    "traffic_accidents.drop('Year,Region,Indicator,Value,geo_point_2d',inplace=True , axis=1)\n",
    "traffic_accidents.head(3)"
   ]
  },
  {
   "cell_type": "code",
   "execution_count": 20,
   "metadata": {},
   "outputs": [
    {
     "data": {
      "text/html": [
       "<div>\n",
       "<style scoped>\n",
       "    .dataframe tbody tr th:only-of-type {\n",
       "        vertical-align: middle;\n",
       "    }\n",
       "\n",
       "    .dataframe tbody tr th {\n",
       "        vertical-align: top;\n",
       "    }\n",
       "\n",
       "    .dataframe thead th {\n",
       "        text-align: right;\n",
       "    }\n",
       "</style>\n",
       "<table border=\"1\" class=\"dataframe\">\n",
       "  <thead>\n",
       "    <tr style=\"text-align: right;\">\n",
       "      <th></th>\n",
       "      <th>index2</th>\n",
       "      <th>col1</th>\n",
       "    </tr>\n",
       "  </thead>\n",
       "  <tbody>\n",
       "    <tr>\n",
       "      <th>0</th>\n",
       "      <td>0;(2012);Makkah;143954n;21.628962766</td>\n",
       "      <td>41.263690</td>\n",
       "    </tr>\n",
       "    <tr>\n",
       "      <th>1</th>\n",
       "      <td>1;(1994);Makkah;75349n;21.628962766</td>\n",
       "      <td>41.263690</td>\n",
       "    </tr>\n",
       "    <tr>\n",
       "      <th>2</th>\n",
       "      <td>2;(1998);Makkah;86082n;21.628962766</td>\n",
       "      <td>41.263690</td>\n",
       "    </tr>\n",
       "    <tr>\n",
       "      <th>3</th>\n",
       "      <td>3;(2004);Makkah;86636n;21.628962766</td>\n",
       "      <td>41.263690</td>\n",
       "    </tr>\n",
       "    <tr>\n",
       "      <th>4</th>\n",
       "      <td>4;(2005);Makkah;65099n;21.628962766</td>\n",
       "      <td>41.263690</td>\n",
       "    </tr>\n",
       "    <tr>\n",
       "      <th>5</th>\n",
       "      <td>5;(2008);Makkah;77013n;21.628962766</td>\n",
       "      <td>41.263690</td>\n",
       "    </tr>\n",
       "    <tr>\n",
       "      <th>6</th>\n",
       "      <td>6;(2014);Madinah;31447n;24.927534539</td>\n",
       "      <td>39.491824</td>\n",
       "    </tr>\n",
       "    <tr>\n",
       "      <th>7</th>\n",
       "      <td>7;(2013);Madinah;28513n;24.927534539</td>\n",
       "      <td>39.491824</td>\n",
       "    </tr>\n",
       "    <tr>\n",
       "      <th>8</th>\n",
       "      <td>8;(2012);Madinah;14459n;24.927534539</td>\n",
       "      <td>39.491824</td>\n",
       "    </tr>\n",
       "    <tr>\n",
       "      <th>9</th>\n",
       "      <td>9;(1994);Madinah;3767n;24.927534539</td>\n",
       "      <td>39.491824</td>\n",
       "    </tr>\n",
       "  </tbody>\n",
       "</table>\n",
       "</div>"
      ],
      "text/plain": [
       "                                 index2       col1\n",
       "0  0;(2012);Makkah;143954n;21.628962766  41.263690\n",
       "1   1;(1994);Makkah;75349n;21.628962766  41.263690\n",
       "2   2;(1998);Makkah;86082n;21.628962766  41.263690\n",
       "3   3;(2004);Makkah;86636n;21.628962766  41.263690\n",
       "4   4;(2005);Makkah;65099n;21.628962766  41.263690\n",
       "5   5;(2008);Makkah;77013n;21.628962766  41.263690\n",
       "6  6;(2014);Madinah;31447n;24.927534539  39.491824\n",
       "7  7;(2013);Madinah;28513n;24.927534539  39.491824\n",
       "8  8;(2012);Madinah;14459n;24.927534539  39.491824\n",
       "9   9;(1994);Madinah;3767n;24.927534539  39.491824"
      ]
     },
     "execution_count": 20,
     "metadata": {},
     "output_type": "execute_result"
    }
   ],
   "source": [
    "#Now add new columns and split for driving_licenses dataset\n",
    "new_df=' '\n",
    "new_df=driving_licenses.columns\n",
    "columns_line1=new_df.str.replace(';Year;Administritive Area;Driving Liceses;geo_point_2d','col1')\n",
    "columns_line1.str.split(' ',',')\n",
    "\n",
    "driving_licenses.columns=columns_line1[:3]\n",
    "driving_licenses.index.name='index2'\n",
    "driving_licenses=driving_licenses.reset_index()\n",
    "driving_licenses.head(10)"
   ]
  },
  {
   "cell_type": "code",
   "execution_count": 21,
   "metadata": {},
   "outputs": [
    {
     "data": {
      "text/html": [
       "<div>\n",
       "<style scoped>\n",
       "    .dataframe tbody tr th:only-of-type {\n",
       "        vertical-align: middle;\n",
       "    }\n",
       "\n",
       "    .dataframe tbody tr th {\n",
       "        vertical-align: top;\n",
       "    }\n",
       "\n",
       "    .dataframe thead th {\n",
       "        text-align: right;\n",
       "    }\n",
       "</style>\n",
       "<table border=\"1\" class=\"dataframe\">\n",
       "  <thead>\n",
       "    <tr style=\"text-align: right;\">\n",
       "      <th></th>\n",
       "      <th>index2</th>\n",
       "      <th>col1</th>\n",
       "      <th>id</th>\n",
       "      <th>Year</th>\n",
       "      <th>Administritive_Area</th>\n",
       "      <th>Driving_Liceses</th>\n",
       "      <th>geo_point_2d</th>\n",
       "    </tr>\n",
       "  </thead>\n",
       "  <tbody>\n",
       "    <tr>\n",
       "      <th>0</th>\n",
       "      <td>0;(2012);Makkah;143954n;21.628962766</td>\n",
       "      <td>41.26369</td>\n",
       "      <td>0</td>\n",
       "      <td>(2012)</td>\n",
       "      <td>Makkah</td>\n",
       "      <td>143954n</td>\n",
       "      <td>21.628962766</td>\n",
       "    </tr>\n",
       "    <tr>\n",
       "      <th>1</th>\n",
       "      <td>1;(1994);Makkah;75349n;21.628962766</td>\n",
       "      <td>41.26369</td>\n",
       "      <td>1</td>\n",
       "      <td>(1994)</td>\n",
       "      <td>Makkah</td>\n",
       "      <td>75349n</td>\n",
       "      <td>21.628962766</td>\n",
       "    </tr>\n",
       "    <tr>\n",
       "      <th>2</th>\n",
       "      <td>2;(1998);Makkah;86082n;21.628962766</td>\n",
       "      <td>41.26369</td>\n",
       "      <td>2</td>\n",
       "      <td>(1998)</td>\n",
       "      <td>Makkah</td>\n",
       "      <td>86082n</td>\n",
       "      <td>21.628962766</td>\n",
       "    </tr>\n",
       "  </tbody>\n",
       "</table>\n",
       "</div>"
      ],
      "text/plain": [
       "                                 index2      col1 id    Year  \\\n",
       "0  0;(2012);Makkah;143954n;21.628962766  41.26369  0  (2012)   \n",
       "1   1;(1994);Makkah;75349n;21.628962766  41.26369  1  (1994)   \n",
       "2   2;(1998);Makkah;86082n;21.628962766  41.26369  2  (1998)   \n",
       "\n",
       "  Administritive_Area Driving_Liceses  geo_point_2d  \n",
       "0              Makkah         143954n  21.628962766  \n",
       "1              Makkah          75349n  21.628962766  \n",
       "2              Makkah          86082n  21.628962766  "
      ]
     },
     "execution_count": 21,
     "metadata": {},
     "output_type": "execute_result"
    }
   ],
   "source": [
    "df2 = pd.DataFrame(driving_licenses.index2.str.split(\";\",5).tolist(),columns =['id','Year' , 'Administritive_Area' , 'Driving_Liceses' , 'geo_point_2d'])\n",
    "driving_licenses=driving_licenses.join(df2)\n",
    "driving_licenses.head(3)"
   ]
  },
  {
   "cell_type": "code",
   "execution_count": 22,
   "metadata": {},
   "outputs": [
    {
     "data": {
      "text/html": [
       "<div>\n",
       "<style scoped>\n",
       "    .dataframe tbody tr th:only-of-type {\n",
       "        vertical-align: middle;\n",
       "    }\n",
       "\n",
       "    .dataframe tbody tr th {\n",
       "        vertical-align: top;\n",
       "    }\n",
       "\n",
       "    .dataframe thead th {\n",
       "        text-align: right;\n",
       "    }\n",
       "</style>\n",
       "<table border=\"1\" class=\"dataframe\">\n",
       "  <thead>\n",
       "    <tr style=\"text-align: right;\">\n",
       "      <th></th>\n",
       "      <th>col1</th>\n",
       "      <th>id</th>\n",
       "      <th>Year</th>\n",
       "      <th>Administritive_Area</th>\n",
       "      <th>Driving_Liceses</th>\n",
       "      <th>geo_point_2d</th>\n",
       "    </tr>\n",
       "  </thead>\n",
       "  <tbody>\n",
       "    <tr>\n",
       "      <th>0</th>\n",
       "      <td>41.26369</td>\n",
       "      <td>0</td>\n",
       "      <td>(2012)</td>\n",
       "      <td>Makkah</td>\n",
       "      <td>143954n</td>\n",
       "      <td>21.628962766</td>\n",
       "    </tr>\n",
       "    <tr>\n",
       "      <th>1</th>\n",
       "      <td>41.26369</td>\n",
       "      <td>1</td>\n",
       "      <td>(1994)</td>\n",
       "      <td>Makkah</td>\n",
       "      <td>75349n</td>\n",
       "      <td>21.628962766</td>\n",
       "    </tr>\n",
       "    <tr>\n",
       "      <th>2</th>\n",
       "      <td>41.26369</td>\n",
       "      <td>2</td>\n",
       "      <td>(1998)</td>\n",
       "      <td>Makkah</td>\n",
       "      <td>86082n</td>\n",
       "      <td>21.628962766</td>\n",
       "    </tr>\n",
       "  </tbody>\n",
       "</table>\n",
       "</div>"
      ],
      "text/plain": [
       "       col1 id    Year Administritive_Area Driving_Liceses  geo_point_2d\n",
       "0  41.26369  0  (2012)              Makkah         143954n  21.628962766\n",
       "1  41.26369  1  (1994)              Makkah          75349n  21.628962766\n",
       "2  41.26369  2  (1998)              Makkah          86082n  21.628962766"
      ]
     },
     "execution_count": 22,
     "metadata": {},
     "output_type": "execute_result"
    }
   ],
   "source": [
    "driving_licenses.drop('index2',inplace=True , axis=1)\n",
    "driving_licenses.head(3)"
   ]
  },
  {
   "cell_type": "code",
   "execution_count": 23,
   "metadata": {},
   "outputs": [],
   "source": [
    "driving_licenses=driving_licenses.assign(g=driving_licenses['col1'])"
   ]
  },
  {
   "cell_type": "code",
   "execution_count": 24,
   "metadata": {},
   "outputs": [
    {
     "data": {
      "text/html": [
       "<div>\n",
       "<style scoped>\n",
       "    .dataframe tbody tr th:only-of-type {\n",
       "        vertical-align: middle;\n",
       "    }\n",
       "\n",
       "    .dataframe tbody tr th {\n",
       "        vertical-align: top;\n",
       "    }\n",
       "\n",
       "    .dataframe thead th {\n",
       "        text-align: right;\n",
       "    }\n",
       "</style>\n",
       "<table border=\"1\" class=\"dataframe\">\n",
       "  <thead>\n",
       "    <tr style=\"text-align: right;\">\n",
       "      <th></th>\n",
       "      <th>id</th>\n",
       "      <th>Year</th>\n",
       "      <th>Administritive_Area</th>\n",
       "      <th>Driving_Liceses</th>\n",
       "      <th>geo_point_2d</th>\n",
       "      <th>g</th>\n",
       "    </tr>\n",
       "  </thead>\n",
       "  <tbody>\n",
       "    <tr>\n",
       "      <th>0</th>\n",
       "      <td>0</td>\n",
       "      <td>(2012)</td>\n",
       "      <td>Makkah</td>\n",
       "      <td>143954n</td>\n",
       "      <td>21.628962766</td>\n",
       "      <td>41.26369</td>\n",
       "    </tr>\n",
       "    <tr>\n",
       "      <th>1</th>\n",
       "      <td>1</td>\n",
       "      <td>(1994)</td>\n",
       "      <td>Makkah</td>\n",
       "      <td>75349n</td>\n",
       "      <td>21.628962766</td>\n",
       "      <td>41.26369</td>\n",
       "    </tr>\n",
       "    <tr>\n",
       "      <th>2</th>\n",
       "      <td>2</td>\n",
       "      <td>(1998)</td>\n",
       "      <td>Makkah</td>\n",
       "      <td>86082n</td>\n",
       "      <td>21.628962766</td>\n",
       "      <td>41.26369</td>\n",
       "    </tr>\n",
       "  </tbody>\n",
       "</table>\n",
       "</div>"
      ],
      "text/plain": [
       "  id    Year Administritive_Area Driving_Liceses  geo_point_2d         g\n",
       "0  0  (2012)              Makkah         143954n  21.628962766  41.26369\n",
       "1  1  (1994)              Makkah          75349n  21.628962766  41.26369\n",
       "2  2  (1998)              Makkah          86082n  21.628962766  41.26369"
      ]
     },
     "execution_count": 24,
     "metadata": {},
     "output_type": "execute_result"
    }
   ],
   "source": [
    "driving_licenses.drop('col1',inplace=True , axis=1)\n",
    "driving_licenses.head(3)"
   ]
  },
  {
   "cell_type": "code",
   "execution_count": 25,
   "metadata": {},
   "outputs": [
    {
     "data": {
      "text/plain": [
       "id               object\n",
       "d                object\n",
       "Year             object\n",
       "Region           object\n",
       "Indicator        object\n",
       "Value            object\n",
       "geo_point_2d     object\n",
       "g               float64\n",
       "dtype: object"
      ]
     },
     "execution_count": 25,
     "metadata": {},
     "output_type": "execute_result"
    }
   ],
   "source": [
    "#Check the type of each column after splitted\n",
    "traffic_accidents.dtypes"
   ]
  },
  {
   "cell_type": "code",
   "execution_count": 26,
   "metadata": {},
   "outputs": [
    {
     "data": {
      "text/plain": [
       "id                      object\n",
       "Year                    object\n",
       "Administritive_Area     object\n",
       "Driving_Liceses         object\n",
       "geo_point_2d            object\n",
       "g                      float64\n",
       "dtype: object"
      ]
     },
     "execution_count": 26,
     "metadata": {},
     "output_type": "execute_result"
    }
   ],
   "source": [
    "driving_licenses.dtypes"
   ]
  },
  {
   "cell_type": "code",
   "execution_count": 27,
   "metadata": {},
   "outputs": [
    {
     "data": {
      "text/plain": [
       "id               object\n",
       "d                object\n",
       "Year              int32\n",
       "Region           object\n",
       "Indicator        object\n",
       "Value             int32\n",
       "geo_point_2d    float32\n",
       "g               float64\n",
       "dtype: object"
      ]
     },
     "execution_count": 27,
     "metadata": {},
     "output_type": "execute_result"
    }
   ],
   "source": [
    "# Now start to re-type incorrectly typed data in traffic_accidents\n",
    "\n",
    "\n",
    "traffic_accidents['Year'] = traffic_accidents['Year'].map(lambda cell: cell.replace('(','').replace(')',''))\n",
    "traffic_accidents['Year'] = traffic_accidents['Year'].astype(int)\n",
    "# I can convert year into datetype but there is missing of day and month values\n",
    "#traffic_accidents['Year'] = pd.to_timedelta(traffic_accidents['Year'])\n",
    "                                    \n",
    "traffic_accidents['Region'] = traffic_accidents['Region'].astype(str)\n",
    "\n",
    "#traffic_accidents['Indicator'] = traffic_accidents['Indicator'].map(lambda cell: cell.replace('-',','))\n",
    "#traffic_accidents[['No_of_Casualtie-Injured', 'No_of_Casualties-Dead' , 'No_of_Accidents' ]]=traffic_accidents.Indicator.astype(str).str.split()\n",
    "#traffic_accidents['Indicator'] = traffic_accidents['Indicator'].values.tolist()\n",
    "  \n",
    "traffic_accidents['Value'] = traffic_accidents['Value'].map(lambda cell: cell.replace('n',' '))\n",
    "traffic_accidents['Value'] = traffic_accidents['Value'].astype(int)\n",
    "\n",
    "traffic_accidents['geo_point_2d'] = pd.to_numeric(traffic_accidents['geo_point_2d'], downcast=\"float\")\n",
    "\n",
    "traffic_accidents.dtypes"
   ]
  },
  {
   "cell_type": "code",
   "execution_count": 28,
   "metadata": {},
   "outputs": [
    {
     "data": {
      "text/plain": [
       "id                      object\n",
       "Year                     int32\n",
       "Administritive_Area     object\n",
       "Driving_Liceses          int32\n",
       "geo_point_2d           float32\n",
       "g                      float64\n",
       "dtype: object"
      ]
     },
     "execution_count": 28,
     "metadata": {},
     "output_type": "execute_result"
    }
   ],
   "source": [
    "# Re-type incorrectly typed data in driving_licenses\n",
    "\n",
    "driving_licenses['Year'] = driving_licenses['Year'].map(lambda cell: cell.replace('(','').replace(')',''))\n",
    "driving_licenses['Year'] = driving_licenses['Year'].astype(int)\n",
    "# I can convert year into datetype but there is missing of day and month values\n",
    "#driving_licenses['Year'] = pd.to_timedelta(driving_licenses['Year'])\n",
    "                                    \n",
    "driving_licenses['Administritive_Area'] = driving_licenses['Administritive_Area'].astype(str)\n",
    "  \n",
    "driving_licenses['Driving_Liceses'] = driving_licenses['Driving_Liceses'].map(lambda cell: cell.replace('n',' '))\n",
    "driving_licenses['Driving_Liceses'] = driving_licenses['Driving_Liceses'].astype(int)\n",
    "\n",
    "driving_licenses['geo_point_2d'] = pd.to_numeric(driving_licenses['geo_point_2d'], downcast=\"float\")\n",
    "\n",
    "driving_licenses.dtypes"
   ]
  },
  {
   "cell_type": "markdown",
   "metadata": {},
   "source": [
    "- Make new columns `x` and `y` using `geo_point_2d`"
   ]
  },
  {
   "cell_type": "code",
   "execution_count": 29,
   "metadata": {},
   "outputs": [],
   "source": [
    "traffic_accidents[['x']]=traffic_accidents.geo_point_2d.astype(str)\n",
    "traffic_accidents[['y']]=traffic_accidents.g.astype(str)"
   ]
  },
  {
   "cell_type": "code",
   "execution_count": 30,
   "metadata": {},
   "outputs": [
    {
     "data": {
      "text/html": [
       "<div>\n",
       "<style scoped>\n",
       "    .dataframe tbody tr th:only-of-type {\n",
       "        vertical-align: middle;\n",
       "    }\n",
       "\n",
       "    .dataframe tbody tr th {\n",
       "        vertical-align: top;\n",
       "    }\n",
       "\n",
       "    .dataframe thead th {\n",
       "        text-align: right;\n",
       "    }\n",
       "</style>\n",
       "<table border=\"1\" class=\"dataframe\">\n",
       "  <thead>\n",
       "    <tr style=\"text-align: right;\">\n",
       "      <th></th>\n",
       "      <th>Year</th>\n",
       "      <th>Region</th>\n",
       "      <th>Indicator</th>\n",
       "      <th>Value</th>\n",
       "      <th>x</th>\n",
       "      <th>y</th>\n",
       "    </tr>\n",
       "  </thead>\n",
       "  <tbody>\n",
       "    <tr>\n",
       "      <th>0</th>\n",
       "      <td>2016</td>\n",
       "      <td>Makkah</td>\n",
       "      <td>No. of Casualties - Injured</td>\n",
       "      <td>12383</td>\n",
       "      <td>21.628963</td>\n",
       "      <td>41.2636898334</td>\n",
       "    </tr>\n",
       "    <tr>\n",
       "      <th>1</th>\n",
       "      <td>2016</td>\n",
       "      <td>Eastern Region</td>\n",
       "      <td>No. of Casualties - Dead</td>\n",
       "      <td>1113</td>\n",
       "      <td>23.28833</td>\n",
       "      <td>50.1478302439</td>\n",
       "    </tr>\n",
       "    <tr>\n",
       "      <th>2</th>\n",
       "      <td>2016</td>\n",
       "      <td>Tabouk</td>\n",
       "      <td>No. of Casualties - Dead</td>\n",
       "      <td>434</td>\n",
       "      <td>27.901655</td>\n",
       "      <td>37.2598581394</td>\n",
       "    </tr>\n",
       "  </tbody>\n",
       "</table>\n",
       "</div>"
      ],
      "text/plain": [
       "   Year          Region                    Indicator  Value          x  \\\n",
       "0  2016          Makkah  No. of Casualties - Injured  12383  21.628963   \n",
       "1  2016  Eastern Region     No. of Casualties - Dead   1113   23.28833   \n",
       "2  2016          Tabouk     No. of Casualties - Dead    434  27.901655   \n",
       "\n",
       "               y  \n",
       "0  41.2636898334  \n",
       "1  50.1478302439  \n",
       "2  37.2598581394  "
      ]
     },
     "execution_count": 30,
     "metadata": {},
     "output_type": "execute_result"
    }
   ],
   "source": [
    "traffic_accidents.drop('geo_point_2d',inplace=True , axis=1)\n",
    "traffic_accidents.drop('g',inplace=True , axis=1)\n",
    "traffic_accidents.drop('d',inplace=True , axis=1)\n",
    "traffic_accidents.drop('id',inplace=True , axis=1)\n",
    "\n",
    "traffic_accidents.head(3)"
   ]
  },
  {
   "cell_type": "code",
   "execution_count": 31,
   "metadata": {},
   "outputs": [],
   "source": [
    "driving_licenses[['x']]=driving_licenses.geo_point_2d.astype(str)\n",
    "driving_licenses[['y']]=driving_licenses.g.astype(str)"
   ]
  },
  {
   "cell_type": "code",
   "execution_count": 32,
   "metadata": {},
   "outputs": [
    {
     "data": {
      "text/html": [
       "<div>\n",
       "<style scoped>\n",
       "    .dataframe tbody tr th:only-of-type {\n",
       "        vertical-align: middle;\n",
       "    }\n",
       "\n",
       "    .dataframe tbody tr th {\n",
       "        vertical-align: top;\n",
       "    }\n",
       "\n",
       "    .dataframe thead th {\n",
       "        text-align: right;\n",
       "    }\n",
       "</style>\n",
       "<table border=\"1\" class=\"dataframe\">\n",
       "  <thead>\n",
       "    <tr style=\"text-align: right;\">\n",
       "      <th></th>\n",
       "      <th>Year</th>\n",
       "      <th>Administritive_Area</th>\n",
       "      <th>Driving_Liceses</th>\n",
       "      <th>x</th>\n",
       "      <th>y</th>\n",
       "    </tr>\n",
       "  </thead>\n",
       "  <tbody>\n",
       "    <tr>\n",
       "      <th>0</th>\n",
       "      <td>2012</td>\n",
       "      <td>Makkah</td>\n",
       "      <td>143954</td>\n",
       "      <td>21.628963</td>\n",
       "      <td>41.2636898334</td>\n",
       "    </tr>\n",
       "    <tr>\n",
       "      <th>1</th>\n",
       "      <td>1994</td>\n",
       "      <td>Makkah</td>\n",
       "      <td>75349</td>\n",
       "      <td>21.628963</td>\n",
       "      <td>41.2636898334</td>\n",
       "    </tr>\n",
       "    <tr>\n",
       "      <th>2</th>\n",
       "      <td>1998</td>\n",
       "      <td>Makkah</td>\n",
       "      <td>86082</td>\n",
       "      <td>21.628963</td>\n",
       "      <td>41.2636898334</td>\n",
       "    </tr>\n",
       "  </tbody>\n",
       "</table>\n",
       "</div>"
      ],
      "text/plain": [
       "   Year Administritive_Area  Driving_Liceses          x              y\n",
       "0  2012              Makkah           143954  21.628963  41.2636898334\n",
       "1  1994              Makkah            75349  21.628963  41.2636898334\n",
       "2  1998              Makkah            86082  21.628963  41.2636898334"
      ]
     },
     "execution_count": 32,
     "metadata": {},
     "output_type": "execute_result"
    }
   ],
   "source": [
    "driving_licenses.drop('geo_point_2d',inplace=True , axis=1)\n",
    "driving_licenses.drop('g',inplace=True , axis=1)\n",
    "driving_licenses.drop('id',inplace=True , axis=1)\n",
    "driving_licenses.head(3)"
   ]
  },
  {
   "cell_type": "markdown",
   "metadata": {},
   "source": [
    "- Fix any individual values preventing other columns from being the appropriate type."
   ]
  },
  {
   "cell_type": "code",
   "execution_count": 33,
   "metadata": {},
   "outputs": [],
   "source": [
    "traffic_accidents['x'] = traffic_accidents['x'].map(lambda cell: cell.replace('nan','0'))\n",
    "traffic_accidents['y'] = traffic_accidents['y'].astype(str).replace('nan','0')"
   ]
  },
  {
   "cell_type": "code",
   "execution_count": 34,
   "metadata": {},
   "outputs": [
    {
     "data": {
      "text/html": [
       "<div>\n",
       "<style scoped>\n",
       "    .dataframe tbody tr th:only-of-type {\n",
       "        vertical-align: middle;\n",
       "    }\n",
       "\n",
       "    .dataframe tbody tr th {\n",
       "        vertical-align: top;\n",
       "    }\n",
       "\n",
       "    .dataframe thead th {\n",
       "        text-align: right;\n",
       "    }\n",
       "</style>\n",
       "<table border=\"1\" class=\"dataframe\">\n",
       "  <thead>\n",
       "    <tr style=\"text-align: right;\">\n",
       "      <th></th>\n",
       "      <th>Year</th>\n",
       "      <th>Region</th>\n",
       "      <th>Indicator</th>\n",
       "      <th>Value</th>\n",
       "      <th>x</th>\n",
       "      <th>y</th>\n",
       "    </tr>\n",
       "  </thead>\n",
       "  <tbody>\n",
       "    <tr>\n",
       "      <th>0</th>\n",
       "      <td>2016</td>\n",
       "      <td>Makkah</td>\n",
       "      <td>No. of Casualties - Injured</td>\n",
       "      <td>12383</td>\n",
       "      <td>21.628963</td>\n",
       "      <td>41.263690</td>\n",
       "    </tr>\n",
       "    <tr>\n",
       "      <th>1</th>\n",
       "      <td>2016</td>\n",
       "      <td>Eastern Region</td>\n",
       "      <td>No. of Casualties - Dead</td>\n",
       "      <td>1113</td>\n",
       "      <td>23.288330</td>\n",
       "      <td>50.147830</td>\n",
       "    </tr>\n",
       "    <tr>\n",
       "      <th>2</th>\n",
       "      <td>2016</td>\n",
       "      <td>Tabouk</td>\n",
       "      <td>No. of Casualties - Dead</td>\n",
       "      <td>434</td>\n",
       "      <td>27.901655</td>\n",
       "      <td>37.259858</td>\n",
       "    </tr>\n",
       "  </tbody>\n",
       "</table>\n",
       "</div>"
      ],
      "text/plain": [
       "   Year          Region                    Indicator  Value          x  \\\n",
       "0  2016          Makkah  No. of Casualties - Injured  12383  21.628963   \n",
       "1  2016  Eastern Region     No. of Casualties - Dead   1113  23.288330   \n",
       "2  2016          Tabouk     No. of Casualties - Dead    434  27.901655   \n",
       "\n",
       "           y  \n",
       "0  41.263690  \n",
       "1  50.147830  \n",
       "2  37.259858  "
      ]
     },
     "execution_count": 34,
     "metadata": {},
     "output_type": "execute_result"
    }
   ],
   "source": [
    "traffic_accidents['x'] = traffic_accidents['x'].astype(str).astype(float)\n",
    "\n",
    "traffic_accidents['y'] = traffic_accidents['y'].astype(str).astype(float)\n",
    "\n",
    "traffic_accidents.head(3)"
   ]
  },
  {
   "cell_type": "code",
   "execution_count": 35,
   "metadata": {},
   "outputs": [],
   "source": [
    "driving_licenses['x'] = driving_licenses['x'].map(lambda cell: cell.replace('nan','0'))\n",
    "driving_licenses['y'] = driving_licenses['y'].astype(str).replace('nan','0')"
   ]
  },
  {
   "cell_type": "code",
   "execution_count": 36,
   "metadata": {},
   "outputs": [
    {
     "data": {
      "text/html": [
       "<div>\n",
       "<style scoped>\n",
       "    .dataframe tbody tr th:only-of-type {\n",
       "        vertical-align: middle;\n",
       "    }\n",
       "\n",
       "    .dataframe tbody tr th {\n",
       "        vertical-align: top;\n",
       "    }\n",
       "\n",
       "    .dataframe thead th {\n",
       "        text-align: right;\n",
       "    }\n",
       "</style>\n",
       "<table border=\"1\" class=\"dataframe\">\n",
       "  <thead>\n",
       "    <tr style=\"text-align: right;\">\n",
       "      <th></th>\n",
       "      <th>Year</th>\n",
       "      <th>Administritive_Area</th>\n",
       "      <th>Driving_Liceses</th>\n",
       "      <th>x</th>\n",
       "      <th>y</th>\n",
       "    </tr>\n",
       "  </thead>\n",
       "  <tbody>\n",
       "    <tr>\n",
       "      <th>0</th>\n",
       "      <td>2012</td>\n",
       "      <td>Makkah</td>\n",
       "      <td>143954</td>\n",
       "      <td>21.628963</td>\n",
       "      <td>41.26369</td>\n",
       "    </tr>\n",
       "    <tr>\n",
       "      <th>1</th>\n",
       "      <td>1994</td>\n",
       "      <td>Makkah</td>\n",
       "      <td>75349</td>\n",
       "      <td>21.628963</td>\n",
       "      <td>41.26369</td>\n",
       "    </tr>\n",
       "    <tr>\n",
       "      <th>2</th>\n",
       "      <td>1998</td>\n",
       "      <td>Makkah</td>\n",
       "      <td>86082</td>\n",
       "      <td>21.628963</td>\n",
       "      <td>41.26369</td>\n",
       "    </tr>\n",
       "  </tbody>\n",
       "</table>\n",
       "</div>"
      ],
      "text/plain": [
       "   Year Administritive_Area  Driving_Liceses          x         y\n",
       "0  2012              Makkah           143954  21.628963  41.26369\n",
       "1  1994              Makkah            75349  21.628963  41.26369\n",
       "2  1998              Makkah            86082  21.628963  41.26369"
      ]
     },
     "execution_count": 36,
     "metadata": {},
     "output_type": "execute_result"
    }
   ],
   "source": [
    "driving_licenses['x']=driving_licenses['x'].astype(str).astype(float)\n",
    "\n",
    "driving_licenses['y'] =driving_licenses['y'].astype(str).astype(float)\n",
    "\n",
    "driving_licenses.head(3)"
   ]
  },
  {
   "cell_type": "markdown",
   "metadata": {},
   "source": [
    "- Finish your data modifications by making sure the columns are now typed appropriately."
   ]
  },
  {
   "cell_type": "code",
   "execution_count": 37,
   "metadata": {},
   "outputs": [
    {
     "data": {
      "text/html": [
       "<div>\n",
       "<style scoped>\n",
       "    .dataframe tbody tr th:only-of-type {\n",
       "        vertical-align: middle;\n",
       "    }\n",
       "\n",
       "    .dataframe tbody tr th {\n",
       "        vertical-align: top;\n",
       "    }\n",
       "\n",
       "    .dataframe thead th {\n",
       "        text-align: right;\n",
       "    }\n",
       "</style>\n",
       "<table border=\"1\" class=\"dataframe\">\n",
       "  <thead>\n",
       "    <tr style=\"text-align: right;\">\n",
       "      <th></th>\n",
       "      <th>Year</th>\n",
       "      <th>Region</th>\n",
       "      <th>Indicator</th>\n",
       "      <th>Value</th>\n",
       "      <th>x</th>\n",
       "      <th>y</th>\n",
       "    </tr>\n",
       "  </thead>\n",
       "  <tbody>\n",
       "    <tr>\n",
       "      <th>0</th>\n",
       "      <td>2016</td>\n",
       "      <td>Makkah</td>\n",
       "      <td>No. of Casualties - Injured</td>\n",
       "      <td>12383</td>\n",
       "      <td>21.628963</td>\n",
       "      <td>41.263690</td>\n",
       "    </tr>\n",
       "    <tr>\n",
       "      <th>1</th>\n",
       "      <td>2016</td>\n",
       "      <td>Eastern Region</td>\n",
       "      <td>No. of Casualties - Dead</td>\n",
       "      <td>1113</td>\n",
       "      <td>23.288330</td>\n",
       "      <td>50.147830</td>\n",
       "    </tr>\n",
       "    <tr>\n",
       "      <th>2</th>\n",
       "      <td>2016</td>\n",
       "      <td>Tabouk</td>\n",
       "      <td>No. of Casualties - Dead</td>\n",
       "      <td>434</td>\n",
       "      <td>27.901655</td>\n",
       "      <td>37.259858</td>\n",
       "    </tr>\n",
       "  </tbody>\n",
       "</table>\n",
       "</div>"
      ],
      "text/plain": [
       "   Year          Region                    Indicator  Value          x  \\\n",
       "0  2016          Makkah  No. of Casualties - Injured  12383  21.628963   \n",
       "1  2016  Eastern Region     No. of Casualties - Dead   1113  23.288330   \n",
       "2  2016          Tabouk     No. of Casualties - Dead    434  27.901655   \n",
       "\n",
       "           y  \n",
       "0  41.263690  \n",
       "1  50.147830  \n",
       "2  37.259858  "
      ]
     },
     "execution_count": 37,
     "metadata": {},
     "output_type": "execute_result"
    }
   ],
   "source": [
    "traffic_accidents.head(3)"
   ]
  },
  {
   "cell_type": "code",
   "execution_count": 38,
   "metadata": {},
   "outputs": [
    {
     "data": {
      "text/html": [
       "<div>\n",
       "<style scoped>\n",
       "    .dataframe tbody tr th:only-of-type {\n",
       "        vertical-align: middle;\n",
       "    }\n",
       "\n",
       "    .dataframe tbody tr th {\n",
       "        vertical-align: top;\n",
       "    }\n",
       "\n",
       "    .dataframe thead th {\n",
       "        text-align: right;\n",
       "    }\n",
       "</style>\n",
       "<table border=\"1\" class=\"dataframe\">\n",
       "  <thead>\n",
       "    <tr style=\"text-align: right;\">\n",
       "      <th></th>\n",
       "      <th>Year</th>\n",
       "      <th>Administritive_Area</th>\n",
       "      <th>Driving_Liceses</th>\n",
       "      <th>x</th>\n",
       "      <th>y</th>\n",
       "    </tr>\n",
       "  </thead>\n",
       "  <tbody>\n",
       "    <tr>\n",
       "      <th>0</th>\n",
       "      <td>2012</td>\n",
       "      <td>Makkah</td>\n",
       "      <td>143954</td>\n",
       "      <td>21.628963</td>\n",
       "      <td>41.26369</td>\n",
       "    </tr>\n",
       "    <tr>\n",
       "      <th>1</th>\n",
       "      <td>1994</td>\n",
       "      <td>Makkah</td>\n",
       "      <td>75349</td>\n",
       "      <td>21.628963</td>\n",
       "      <td>41.26369</td>\n",
       "    </tr>\n",
       "    <tr>\n",
       "      <th>2</th>\n",
       "      <td>1998</td>\n",
       "      <td>Makkah</td>\n",
       "      <td>86082</td>\n",
       "      <td>21.628963</td>\n",
       "      <td>41.26369</td>\n",
       "    </tr>\n",
       "  </tbody>\n",
       "</table>\n",
       "</div>"
      ],
      "text/plain": [
       "   Year Administritive_Area  Driving_Liceses          x         y\n",
       "0  2012              Makkah           143954  21.628963  41.26369\n",
       "1  1994              Makkah            75349  21.628963  41.26369\n",
       "2  1998              Makkah            86082  21.628963  41.26369"
      ]
     },
     "execution_count": 38,
     "metadata": {},
     "output_type": "execute_result"
    }
   ],
   "source": [
    "driving_licenses.head(3)"
   ]
  },
  {
   "cell_type": "markdown",
   "metadata": {},
   "source": [
    "- Display the data types again to confirm they are correct."
   ]
  },
  {
   "cell_type": "code",
   "execution_count": 39,
   "metadata": {},
   "outputs": [
    {
     "data": {
      "text/plain": [
       "Year           int32\n",
       "Region        object\n",
       "Indicator     object\n",
       "Value          int32\n",
       "x            float64\n",
       "y            float64\n",
       "dtype: object"
      ]
     },
     "execution_count": 39,
     "metadata": {},
     "output_type": "execute_result"
    }
   ],
   "source": [
    "traffic_accidents.dtypes\n",
    "#traffic_accidents.info()"
   ]
  },
  {
   "cell_type": "code",
   "execution_count": 40,
   "metadata": {},
   "outputs": [
    {
     "data": {
      "text/plain": [
       "Year                     int32\n",
       "Administritive_Area     object\n",
       "Driving_Liceses          int32\n",
       "x                      float64\n",
       "y                      float64\n",
       "dtype: object"
      ]
     },
     "execution_count": 40,
     "metadata": {},
     "output_type": "execute_result"
    }
   ],
   "source": [
    "driving_licenses.dtypes"
   ]
  },
  {
   "cell_type": "markdown",
   "metadata": {},
   "source": [
    "#### 7. Rename columns\n",
    "Change the names of the columns to more expressive names so that you can tell the difference the Driving Licenses  columns and the & Traffic Accidents columns. Your solution should map all column names being changed at once (no repeated singular name-changes). **We will be combining these two datasets, and so you should name columns in an appropriate way**.\n",
    "\n",
    "**Guidelines**:\n",
    "- Column names should be all lowercase (you will thank yourself when you start pushing data to SQL later in the course)\n",
    "- Column names should not contain spaces (underscores will suffice--this allows for using the `df.column_name` method to access columns in addition to `df['column_name']`.\n",
    "- Column names should be unique and informative (the only feature that we actually share between dataframes is the state).\n",
    "- Please also fix any typos you see in the column names."
   ]
  },
  {
   "cell_type": "code",
   "execution_count": 41,
   "metadata": {},
   "outputs": [],
   "source": [
    "traffic_accidents = traffic_accidents.rename(columns={\n",
    "                     'Year':'year', 'Region':'region', \n",
    "                    'Indicator':'accidents_category', 'Value':'no_of_accidents'\n",
    "            })"
   ]
  },
  {
   "cell_type": "code",
   "execution_count": 42,
   "metadata": {},
   "outputs": [],
   "source": [
    "#traffic_accidents.head(3)"
   ]
  },
  {
   "cell_type": "code",
   "execution_count": 43,
   "metadata": {},
   "outputs": [],
   "source": [
    "driving_licenses = driving_licenses.rename(columns={\n",
    "                   'id':'id', 'Year':'year',\n",
    "                   'Administritive_Area':'region', \n",
    "                   'Driving_Liceses':'no.driving_liceses'  \n",
    "})"
   ]
  },
  {
   "cell_type": "markdown",
   "metadata": {},
   "source": [
    "#### 8. Create a data dictionary\n",
    "\n",
    "Now that we've fixed our data, and given it appropriate names, let's create a [data dictionary](http://library.ucmerced.edu/node/10249). \n",
    "\n",
    "A data dictionary provides a quick overview of features/variables/columns, alongside data types and descriptions. The more descriptive you can be, the more useful this document is.\n",
    "\n",
    "Example of a Fictional Data Dictionary Entry: \n",
    "\n",
    "|Feature|Type|Dataset|Description|\n",
    "|---|---|---|---|\n",
    "|**county_pop**|*integer*|2010 census|The population of the county (units in thousands, where 2.5 represents 2500 people).| \n",
    "|**per_poverty**|*float*|2010 census|The percent of the county over the age of 18 living below the 200% of official US poverty rate (units percent to two decimal places 98.10 means 98.1%)|\n",
    "\n",
    "[Here's a quick link to a short guide for formatting markdown in Jupyter notebooks](https://jupyter-notebook.readthedocs.io/en/stable/examples/Notebook/Working%20With%20Markdown%20Cells.html).\n",
    "\n",
    "Provided is the skeleton for formatting a markdown table, with columns headers that will help you create a data dictionary to quickly summarize your data, as well as some examples. **This would be a great thing to copy and paste into your custom README for this project.**"
   ]
  },
  {
   "cell_type": "markdown",
   "metadata": {},
   "source": [
    "#### Data Dictionary\n",
    "\n",
    "Explanation of each feature name in the Data Dictionary Entry:\n",
    "\n",
    "#### Traffic_Accidents Dataset\n",
    "|Feature|Type|Dataset|Description|\n",
    "|---|---|---|---|\n",
    "|**year**|int|Traffic_Accidents|Year of Traffic_Accidents that shows the date and chronology of when it happened| \n",
    "|**region**|object|Traffic_Accidents|The region of Traffic_Accidents shows the place of a scene in where the event area| \n",
    "|**accidents_category**|object|Traffic_Accidents|Shows a list of No. of Casualties, Injured and No. of Casualties, Dead, also shows No. of Accidents indicated with the region| \n",
    "|**no_of_accidents**|int|Traffic_Accidents|The value of Traffic_Accidents shows the sum of numbers of indicators for each region, how many indicators of the region that accident occurred| \n",
    "|**x**|float|Traffic_Accidents|Shows the X-coordinates of the geographical location|\n",
    "|**y**|float|Traffic_Accidents|Shows the Y-coordinates of the geographical location||\n",
    "\n",
    "#### Driving_Licenses Dataset\n",
    "|Feature|Type|Dataset|Description|\n",
    "|---|---|---|---|\n",
    "|**year**|int|Driving_Licenses|Shows the date of each number of driving licenses per administrative region|\n",
    "|**Administritive_Area**|object|Driving_Licenses|It displays the administrative areas of all no.driving licenses|\n",
    "|**no.driving_liceses**|int|Driving_Licenses|The number of driving licenses for each administrative area appears in each year|\n",
    "|**x**|float|Driving_Licenses|Shows the X-coordinates of the geographical location|\n",
    "|**y**|float|Driving_Licenses|Shows the Y-coordinates of the geographical location|\n"
   ]
  },
  {
   "cell_type": "markdown",
   "metadata": {},
   "source": [
    "#### 9. Drop unnecessary rows\n",
    "\n",
    "This study concerns accident and license in regions/area. Please do the followings:\n",
    "0. Which rows are not associated with regions?\n",
    "\n",
    "A row that is different from the region entities is \"Total\" and causes false results and should be removed\n",
    "\n",
    "1. Confirm the numbers of all regions add up to total.\n",
    "2. Remove the rows that are not associated with regions"
   ]
  },
  {
   "cell_type": "code",
   "execution_count": 44,
   "metadata": {},
   "outputs": [
    {
     "data": {
      "text/html": [
       "<div>\n",
       "<style scoped>\n",
       "    .dataframe tbody tr th:only-of-type {\n",
       "        vertical-align: middle;\n",
       "    }\n",
       "\n",
       "    .dataframe tbody tr th {\n",
       "        vertical-align: top;\n",
       "    }\n",
       "\n",
       "    .dataframe thead th {\n",
       "        text-align: right;\n",
       "    }\n",
       "</style>\n",
       "<table border=\"1\" class=\"dataframe\">\n",
       "  <thead>\n",
       "    <tr style=\"text-align: right;\">\n",
       "      <th></th>\n",
       "      <th>year</th>\n",
       "      <th>region</th>\n",
       "      <th>accidents_category</th>\n",
       "      <th>no_of_accidents</th>\n",
       "      <th>x</th>\n",
       "      <th>y</th>\n",
       "    </tr>\n",
       "  </thead>\n",
       "  <tbody>\n",
       "    <tr>\n",
       "      <th>0</th>\n",
       "      <td>2016</td>\n",
       "      <td>Makkah</td>\n",
       "      <td>No. of Casualties - Injured</td>\n",
       "      <td>12383</td>\n",
       "      <td>21.628963</td>\n",
       "      <td>41.263690</td>\n",
       "    </tr>\n",
       "    <tr>\n",
       "      <th>1</th>\n",
       "      <td>2016</td>\n",
       "      <td>Eastern Region</td>\n",
       "      <td>No. of Casualties - Dead</td>\n",
       "      <td>1113</td>\n",
       "      <td>23.288330</td>\n",
       "      <td>50.147830</td>\n",
       "    </tr>\n",
       "    <tr>\n",
       "      <th>2</th>\n",
       "      <td>2016</td>\n",
       "      <td>Tabouk</td>\n",
       "      <td>No. of Casualties - Dead</td>\n",
       "      <td>434</td>\n",
       "      <td>27.901655</td>\n",
       "      <td>37.259858</td>\n",
       "    </tr>\n",
       "  </tbody>\n",
       "</table>\n",
       "</div>"
      ],
      "text/plain": [
       "   year          region           accidents_category  no_of_accidents  \\\n",
       "0  2016          Makkah  No. of Casualties - Injured            12383   \n",
       "1  2016  Eastern Region     No. of Casualties - Dead             1113   \n",
       "2  2016          Tabouk     No. of Casualties - Dead              434   \n",
       "\n",
       "           x          y  \n",
       "0  21.628963  41.263690  \n",
       "1  23.288330  50.147830  \n",
       "2  27.901655  37.259858  "
      ]
     },
     "execution_count": 44,
     "metadata": {},
     "output_type": "execute_result"
    }
   ],
   "source": [
    "traffic_accidents.region.unique()\n",
    "#Confirm the numbers of all regions add up to total.\n",
    "traffic_accidents[traffic_accidents.region == 'Total']\n",
    "#traffic_accidents.groupby(\"region\").sum().sort_values(\"Total\", ascending=False)\n",
    "traffic_accidents.head(3)"
   ]
  },
  {
   "cell_type": "code",
   "execution_count": 45,
   "metadata": {
    "scrolled": true
   },
   "outputs": [
    {
     "data": {
      "text/html": [
       "<div>\n",
       "<style scoped>\n",
       "    .dataframe tbody tr th:only-of-type {\n",
       "        vertical-align: middle;\n",
       "    }\n",
       "\n",
       "    .dataframe tbody tr th {\n",
       "        vertical-align: top;\n",
       "    }\n",
       "\n",
       "    .dataframe thead th {\n",
       "        text-align: right;\n",
       "    }\n",
       "</style>\n",
       "<table border=\"1\" class=\"dataframe\">\n",
       "  <thead>\n",
       "    <tr style=\"text-align: right;\">\n",
       "      <th></th>\n",
       "      <th>year</th>\n",
       "      <th>region</th>\n",
       "      <th>accidents_category</th>\n",
       "      <th>no_of_accidents</th>\n",
       "      <th>x</th>\n",
       "      <th>y</th>\n",
       "    </tr>\n",
       "  </thead>\n",
       "  <tbody>\n",
       "    <tr>\n",
       "      <th>0</th>\n",
       "      <td>2016</td>\n",
       "      <td>Makkah</td>\n",
       "      <td>No. of Casualties - Injured</td>\n",
       "      <td>12383</td>\n",
       "      <td>21.628963</td>\n",
       "      <td>41.263690</td>\n",
       "    </tr>\n",
       "    <tr>\n",
       "      <th>1</th>\n",
       "      <td>2016</td>\n",
       "      <td>Eastern Region</td>\n",
       "      <td>No. of Casualties - Dead</td>\n",
       "      <td>1113</td>\n",
       "      <td>23.288330</td>\n",
       "      <td>50.147830</td>\n",
       "    </tr>\n",
       "    <tr>\n",
       "      <th>2</th>\n",
       "      <td>2016</td>\n",
       "      <td>Tabouk</td>\n",
       "      <td>No. of Casualties - Dead</td>\n",
       "      <td>434</td>\n",
       "      <td>27.901655</td>\n",
       "      <td>37.259858</td>\n",
       "    </tr>\n",
       "  </tbody>\n",
       "</table>\n",
       "</div>"
      ],
      "text/plain": [
       "   year          region           accidents_category  no_of_accidents  \\\n",
       "0  2016          Makkah  No. of Casualties - Injured            12383   \n",
       "1  2016  Eastern Region     No. of Casualties - Dead             1113   \n",
       "2  2016          Tabouk     No. of Casualties - Dead              434   \n",
       "\n",
       "           x          y  \n",
       "0  21.628963  41.263690  \n",
       "1  23.288330  50.147830  \n",
       "2  27.901655  37.259858  "
      ]
     },
     "execution_count": 45,
     "metadata": {},
     "output_type": "execute_result"
    }
   ],
   "source": [
    "#Remove the rows that are not associated with regions and duplicate\n",
    "drop_1 =traffic_accidents[ traffic_accidents['region'] == 'Total' ].index\n",
    "traffic_accidents.drop(drop_1 , inplace=True)\n",
    "traffic_accidents.head(3)"
   ]
  },
  {
   "cell_type": "code",
   "execution_count": 46,
   "metadata": {},
   "outputs": [
    {
     "data": {
      "text/html": [
       "<div>\n",
       "<style scoped>\n",
       "    .dataframe tbody tr th:only-of-type {\n",
       "        vertical-align: middle;\n",
       "    }\n",
       "\n",
       "    .dataframe tbody tr th {\n",
       "        vertical-align: top;\n",
       "    }\n",
       "\n",
       "    .dataframe thead th {\n",
       "        text-align: right;\n",
       "    }\n",
       "</style>\n",
       "<table border=\"1\" class=\"dataframe\">\n",
       "  <thead>\n",
       "    <tr style=\"text-align: right;\">\n",
       "      <th></th>\n",
       "      <th>year</th>\n",
       "      <th>region</th>\n",
       "      <th>no.driving_liceses</th>\n",
       "      <th>x</th>\n",
       "      <th>y</th>\n",
       "    </tr>\n",
       "  </thead>\n",
       "  <tbody>\n",
       "    <tr>\n",
       "      <th>0</th>\n",
       "      <td>2012</td>\n",
       "      <td>Makkah</td>\n",
       "      <td>143954</td>\n",
       "      <td>21.628963</td>\n",
       "      <td>41.26369</td>\n",
       "    </tr>\n",
       "    <tr>\n",
       "      <th>1</th>\n",
       "      <td>1994</td>\n",
       "      <td>Makkah</td>\n",
       "      <td>75349</td>\n",
       "      <td>21.628963</td>\n",
       "      <td>41.26369</td>\n",
       "    </tr>\n",
       "    <tr>\n",
       "      <th>2</th>\n",
       "      <td>1998</td>\n",
       "      <td>Makkah</td>\n",
       "      <td>86082</td>\n",
       "      <td>21.628963</td>\n",
       "      <td>41.26369</td>\n",
       "    </tr>\n",
       "  </tbody>\n",
       "</table>\n",
       "</div>"
      ],
      "text/plain": [
       "   year  region  no.driving_liceses          x         y\n",
       "0  2012  Makkah              143954  21.628963  41.26369\n",
       "1  1994  Makkah               75349  21.628963  41.26369\n",
       "2  1998  Makkah               86082  21.628963  41.26369"
      ]
     },
     "execution_count": 46,
     "metadata": {},
     "output_type": "execute_result"
    }
   ],
   "source": [
    "driving_licenses.region.unique()\n",
    "driving_licenses[driving_licenses.region == 'Total']\n",
    "driving_licenses.head(3)"
   ]
  },
  {
   "cell_type": "code",
   "execution_count": 47,
   "metadata": {},
   "outputs": [
    {
     "data": {
      "text/html": [
       "<div>\n",
       "<style scoped>\n",
       "    .dataframe tbody tr th:only-of-type {\n",
       "        vertical-align: middle;\n",
       "    }\n",
       "\n",
       "    .dataframe tbody tr th {\n",
       "        vertical-align: top;\n",
       "    }\n",
       "\n",
       "    .dataframe thead th {\n",
       "        text-align: right;\n",
       "    }\n",
       "</style>\n",
       "<table border=\"1\" class=\"dataframe\">\n",
       "  <thead>\n",
       "    <tr style=\"text-align: right;\">\n",
       "      <th></th>\n",
       "      <th>year</th>\n",
       "      <th>region</th>\n",
       "      <th>no.driving_liceses</th>\n",
       "      <th>x</th>\n",
       "      <th>y</th>\n",
       "    </tr>\n",
       "  </thead>\n",
       "  <tbody>\n",
       "    <tr>\n",
       "      <th>0</th>\n",
       "      <td>2012</td>\n",
       "      <td>Makkah</td>\n",
       "      <td>143954</td>\n",
       "      <td>21.628963</td>\n",
       "      <td>41.26369</td>\n",
       "    </tr>\n",
       "    <tr>\n",
       "      <th>1</th>\n",
       "      <td>1994</td>\n",
       "      <td>Makkah</td>\n",
       "      <td>75349</td>\n",
       "      <td>21.628963</td>\n",
       "      <td>41.26369</td>\n",
       "    </tr>\n",
       "    <tr>\n",
       "      <th>2</th>\n",
       "      <td>1998</td>\n",
       "      <td>Makkah</td>\n",
       "      <td>86082</td>\n",
       "      <td>21.628963</td>\n",
       "      <td>41.26369</td>\n",
       "    </tr>\n",
       "  </tbody>\n",
       "</table>\n",
       "</div>"
      ],
      "text/plain": [
       "   year  region  no.driving_liceses          x         y\n",
       "0  2012  Makkah              143954  21.628963  41.26369\n",
       "1  1994  Makkah               75349  21.628963  41.26369\n",
       "2  1998  Makkah               86082  21.628963  41.26369"
      ]
     },
     "execution_count": 47,
     "metadata": {},
     "output_type": "execute_result"
    }
   ],
   "source": [
    "dropIndex =driving_licenses[ driving_licenses['region'] == 'Total' ].index\n",
    "driving_licenses.drop(dropIndex , inplace=True)\n",
    "driving_licenses.head(3)"
   ]
  },
  {
   "cell_type": "markdown",
   "metadata": {},
   "source": [
    "#### 10a. Data formats\n",
    "Is the License data in long or wide format? How about the Accident data? And why?\n",
    "* The Driving_Licenses dataset in wide format \n",
    "* The Traffic_Accidents dataset in long format (lots of entities some columns have to separate)"
   ]
  },
  {
   "cell_type": "code",
   "execution_count": 48,
   "metadata": {},
   "outputs": [
    {
     "name": "stdout",
     "output_type": "stream",
     "text": [
      "The Driving License data in wide format      year  region  no.driving_liceses          x          y\n",
      "0    2012  Makkah              143954  21.628963  41.263690\n",
      "1    1994  Makkah               75349  21.628963  41.263690\n",
      "2    1998  Makkah               86082  21.628963  41.263690\n",
      "3    2004  Makkah               86636  21.628963  41.263690\n",
      "4    2005  Makkah               65099  21.628963  41.263690\n",
      "..    ...     ...                 ...        ...        ...\n",
      "345  2000  Tabouk                8473  27.901655  37.259858\n",
      "346  2006  Tabouk                8259  27.901655  37.259858\n",
      "347  2013    Hail                9731  27.400846  41.440696\n",
      "348  1997    Hail                6606  27.400846  41.440696\n",
      "349  1999    Hail                3139  27.400846  41.440696\n",
      "\n",
      "[325 rows x 5 columns]\n",
      "The Traffic Accident data in long format     year          region           accidents_category  no_of_accidents  \\\n",
      "0   2016          Makkah  No. of Casualties - Injured            12383   \n",
      "1   2016  Eastern Region     No. of Casualties - Dead             1113   \n",
      "2   2016          Tabouk     No. of Casualties - Dead              434   \n",
      "3   2016            Hail     No. of Casualties - Dead              299   \n",
      "4   2016            Hail             No. of Accidents            10199   \n",
      "..   ...             ...                          ...              ...   \n",
      "79  2017            Asir  No. of Casualties - Injured             2368   \n",
      "80  2017            Hail  No. of Casualties - Injured              773   \n",
      "81  2017        Al-Baaha     No. of Casualties - Dead              134   \n",
      "82  2017        Al-Baaha             No. of Accidents             1414   \n",
      "83  2017        Al-Baaha  No. of Casualties - Injured             1007   \n",
      "\n",
      "            x          y  \n",
      "0   21.628963  41.263690  \n",
      "1   23.288330  50.147830  \n",
      "2   27.901655  37.259858  \n",
      "3   27.400846  41.440696  \n",
      "4   27.400846  41.440696  \n",
      "..        ...        ...  \n",
      "79  19.138784  42.941470  \n",
      "80  27.400846  41.440696  \n",
      "81  20.148405  41.466548  \n",
      "82  20.148405  41.466548  \n",
      "83  20.148405  41.466548  \n",
      "\n",
      "[78 rows x 6 columns]\n"
     ]
    }
   ],
   "source": [
    "# As we can see the Driving License data in wide format \n",
    "print('The Driving License data in wide format {}'.format(driving_licenses))\n",
    "# As we can see the Accident data in long format (lots of rows)\n",
    "print('The Traffic Accident data in long format {}'.format(traffic_accidents))"
   ]
  },
  {
   "cell_type": "markdown",
   "metadata": {},
   "source": [
    "#### 10b. Changing formats\n",
    "Which format would work best for both dataframes? Transform the datasets to the same format before merging in the next task."
   ]
  },
  {
   "cell_type": "code",
   "execution_count": 49,
   "metadata": {},
   "outputs": [
    {
     "data": {
      "text/html": [
       "<div>\n",
       "<style scoped>\n",
       "    .dataframe tbody tr th:only-of-type {\n",
       "        vertical-align: middle;\n",
       "    }\n",
       "\n",
       "    .dataframe tbody tr th {\n",
       "        vertical-align: top;\n",
       "    }\n",
       "\n",
       "    .dataframe thead th {\n",
       "        text-align: right;\n",
       "    }\n",
       "</style>\n",
       "<table border=\"1\" class=\"dataframe\">\n",
       "  <thead>\n",
       "    <tr style=\"text-align: right;\">\n",
       "      <th></th>\n",
       "      <th>accidents_category</th>\n",
       "      <th>No. of Accidents</th>\n",
       "      <th>No. of Casualties - Dead</th>\n",
       "      <th>No. of Casualties - Injured</th>\n",
       "    </tr>\n",
       "    <tr>\n",
       "      <th>year</th>\n",
       "      <th>region</th>\n",
       "      <th></th>\n",
       "      <th></th>\n",
       "      <th></th>\n",
       "    </tr>\n",
       "  </thead>\n",
       "  <tbody>\n",
       "    <tr>\n",
       "      <th rowspan=\"13\" valign=\"top\">2016</th>\n",
       "      <th>Al-Baaha</th>\n",
       "      <td>3618</td>\n",
       "      <td>185</td>\n",
       "      <td>1227</td>\n",
       "    </tr>\n",
       "    <tr>\n",
       "      <th>Al-Jouf</th>\n",
       "      <td>10212</td>\n",
       "      <td>245</td>\n",
       "      <td>920</td>\n",
       "    </tr>\n",
       "    <tr>\n",
       "      <th>Asir</th>\n",
       "      <td>32684</td>\n",
       "      <td>983</td>\n",
       "      <td>2541</td>\n",
       "    </tr>\n",
       "    <tr>\n",
       "      <th>Eastern Region</th>\n",
       "      <td>101619</td>\n",
       "      <td>1113</td>\n",
       "      <td>4893</td>\n",
       "    </tr>\n",
       "    <tr>\n",
       "      <th>Hail</th>\n",
       "      <td>10199</td>\n",
       "      <td>299</td>\n",
       "      <td>932</td>\n",
       "    </tr>\n",
       "    <tr>\n",
       "      <th>Jazan</th>\n",
       "      <td>25873</td>\n",
       "      <td>514</td>\n",
       "      <td>2259</td>\n",
       "    </tr>\n",
       "    <tr>\n",
       "      <th>Madinah</th>\n",
       "      <td>14475</td>\n",
       "      <td>822</td>\n",
       "      <td>4184</td>\n",
       "    </tr>\n",
       "    <tr>\n",
       "      <th>Makkah</th>\n",
       "      <td>134838</td>\n",
       "      <td>2243</td>\n",
       "      <td>12383</td>\n",
       "    </tr>\n",
       "    <tr>\n",
       "      <th>Najran</th>\n",
       "      <td>3235</td>\n",
       "      <td>173</td>\n",
       "      <td>706</td>\n",
       "    </tr>\n",
       "    <tr>\n",
       "      <th>Northern Boarder</th>\n",
       "      <td>13196</td>\n",
       "      <td>193</td>\n",
       "      <td>631</td>\n",
       "    </tr>\n",
       "    <tr>\n",
       "      <th>Qassim</th>\n",
       "      <td>25664</td>\n",
       "      <td>397</td>\n",
       "      <td>1513</td>\n",
       "    </tr>\n",
       "    <tr>\n",
       "      <th>Riyadh</th>\n",
       "      <td>141736</td>\n",
       "      <td>1430</td>\n",
       "      <td>4207</td>\n",
       "    </tr>\n",
       "    <tr>\n",
       "      <th>Tabouk</th>\n",
       "      <td>16031</td>\n",
       "      <td>434</td>\n",
       "      <td>1724</td>\n",
       "    </tr>\n",
       "    <tr>\n",
       "      <th rowspan=\"7\" valign=\"top\">2017</th>\n",
       "      <th>Al-Baaha</th>\n",
       "      <td>1414</td>\n",
       "      <td>134</td>\n",
       "      <td>1007</td>\n",
       "    </tr>\n",
       "    <tr>\n",
       "      <th>Al-Jouf</th>\n",
       "      <td>10469</td>\n",
       "      <td>240</td>\n",
       "      <td>862</td>\n",
       "    </tr>\n",
       "    <tr>\n",
       "      <th>Asir</th>\n",
       "      <td>25245</td>\n",
       "      <td>828</td>\n",
       "      <td>2368</td>\n",
       "    </tr>\n",
       "    <tr>\n",
       "      <th>Eastern Region</th>\n",
       "      <td>81433</td>\n",
       "      <td>963</td>\n",
       "      <td>4073</td>\n",
       "    </tr>\n",
       "    <tr>\n",
       "      <th>Hail</th>\n",
       "      <td>9379</td>\n",
       "      <td>265</td>\n",
       "      <td>773</td>\n",
       "    </tr>\n",
       "    <tr>\n",
       "      <th>Jazan</th>\n",
       "      <td>22161</td>\n",
       "      <td>466</td>\n",
       "      <td>2207</td>\n",
       "    </tr>\n",
       "    <tr>\n",
       "      <th>Madinah</th>\n",
       "      <td>16070</td>\n",
       "      <td>580</td>\n",
       "      <td>2917</td>\n",
       "    </tr>\n",
       "  </tbody>\n",
       "</table>\n",
       "</div>"
      ],
      "text/plain": [
       "accidents_category     No. of Accidents  No. of Casualties - Dead  \\\n",
       "year region                                                         \n",
       "2016 Al-Baaha                      3618                       185   \n",
       "     Al-Jouf                      10212                       245   \n",
       "     Asir                         32684                       983   \n",
       "     Eastern Region              101619                      1113   \n",
       "     Hail                         10199                       299   \n",
       "     Jazan                        25873                       514   \n",
       "     Madinah                      14475                       822   \n",
       "     Makkah                      134838                      2243   \n",
       "     Najran                        3235                       173   \n",
       "     Northern Boarder             13196                       193   \n",
       "     Qassim                       25664                       397   \n",
       "     Riyadh                      141736                      1430   \n",
       "     Tabouk                       16031                       434   \n",
       "2017 Al-Baaha                      1414                       134   \n",
       "     Al-Jouf                      10469                       240   \n",
       "     Asir                         25245                       828   \n",
       "     Eastern Region               81433                       963   \n",
       "     Hail                          9379                       265   \n",
       "     Jazan                        22161                       466   \n",
       "     Madinah                      16070                       580   \n",
       "\n",
       "accidents_category     No. of Casualties - Injured  \n",
       "year region                                         \n",
       "2016 Al-Baaha                                 1227  \n",
       "     Al-Jouf                                   920  \n",
       "     Asir                                     2541  \n",
       "     Eastern Region                           4893  \n",
       "     Hail                                      932  \n",
       "     Jazan                                    2259  \n",
       "     Madinah                                  4184  \n",
       "     Makkah                                  12383  \n",
       "     Najran                                    706  \n",
       "     Northern Boarder                          631  \n",
       "     Qassim                                   1513  \n",
       "     Riyadh                                   4207  \n",
       "     Tabouk                                   1724  \n",
       "2017 Al-Baaha                                 1007  \n",
       "     Al-Jouf                                   862  \n",
       "     Asir                                     2368  \n",
       "     Eastern Region                           4073  \n",
       "     Hail                                      773  \n",
       "     Jazan                                    2207  \n",
       "     Madinah                                  2917  "
      ]
     },
     "execution_count": 49,
     "metadata": {},
     "output_type": "execute_result"
    }
   ],
   "source": [
    "#traffic_accidents dataset long to wide\n",
    "#,aggfunc=np.sum ,fill_value=0\n",
    "traffic_accidents_wide=traffic_accidents.pivot_table(index=['year','region'], columns='accidents_category', values='no_of_accidents',fill_value=0)\n",
    "#df3=df3.bfill(axis=1)\n",
    "#df3.reset_index()\n",
    "traffic_accidents_wide.head(20)\n"
   ]
  },
  {
   "cell_type": "markdown",
   "metadata": {},
   "source": [
    "#### 11. Merge dataframes\n",
    "\n",
    "Join the Driving Licenses & Traffic Accidents dataframes using the **region** and **year** in each dataframe as the key. Assign this to a new variable. Which join should you use to preserve the most data?"
   ]
  },
  {
   "cell_type": "code",
   "execution_count": 50,
   "metadata": {},
   "outputs": [
    {
     "data": {
      "text/plain": [
       "array(['Makkah', 'Eastern Region', 'Tabouk', 'Hail', 'Northern Boarder',\n",
       "       'Jazan', 'Al-Jouf', 'Al-Baaha', 'Riyadh', 'Madinah', 'Qassim',\n",
       "       'Najran', 'Asir'], dtype=object)"
      ]
     },
     "execution_count": 50,
     "metadata": {},
     "output_type": "execute_result"
    }
   ],
   "source": [
    "#Before I start to merge I have to make sure that region entities are unique and no duplicate from these two dataframes\n",
    "traffic_accidents.region.unique()"
   ]
  },
  {
   "cell_type": "code",
   "execution_count": 51,
   "metadata": {},
   "outputs": [
    {
     "data": {
      "text/plain": [
       "array(['Makkah', 'Madinah', 'Al-Qaseem', 'Eastern', 'Assir', 'Tabouk',\n",
       "       'Hail', 'Northern Boarder', 'Jazan', 'Najran', 'Al-Baha',\n",
       "       'Al-Jouf', 'Riyadh'], dtype=object)"
      ]
     },
     "execution_count": 51,
     "metadata": {},
     "output_type": "execute_result"
    }
   ],
   "source": [
    "driving_licenses.region.unique()"
   ]
  },
  {
   "cell_type": "code",
   "execution_count": 52,
   "metadata": {},
   "outputs": [],
   "source": [
    "#Rename the region entities to be the same names for these two datasets and avoid duplicates\n",
    "driving_licenses['region']=driving_licenses['region'].replace('Eastern','Eastern Region')\n",
    "driving_licenses['region']=driving_licenses['region'].replace('Assir','Asir')\n",
    "driving_licenses['region']=driving_licenses['region'].replace('Al-Qaseem','Qassim')\n",
    "driving_licenses['region']=driving_licenses['region'].replace('Al-Baha','Al-Baaha')\n"
   ]
  },
  {
   "cell_type": "code",
   "execution_count": 53,
   "metadata": {},
   "outputs": [],
   "source": [
    "#I can also replace the region entities name from traffic_accidents \n",
    "#traffic_accidents['region']=traffic_accidents['region'].replace('Qassim','Al-Qaseem')\n",
    "#traffic_accidents['region']=traffic_accidents['region'].replace('Al-Baaha','Al-Baha')\n"
   ]
  },
  {
   "cell_type": "code",
   "execution_count": 54,
   "metadata": {},
   "outputs": [],
   "source": [
    "# Now I can merge traffic_accidents_wide with driving_licenses datasets by using outer join to preserve the most data\n",
    "df_merge=pd.merge(traffic_accidents_wide,driving_licenses ,on=['region' , 'year'],how='outer')"
   ]
  },
  {
   "cell_type": "code",
   "execution_count": 55,
   "metadata": {},
   "outputs": [
    {
     "data": {
      "text/html": [
       "<div>\n",
       "<style scoped>\n",
       "    .dataframe tbody tr th:only-of-type {\n",
       "        vertical-align: middle;\n",
       "    }\n",
       "\n",
       "    .dataframe tbody tr th {\n",
       "        vertical-align: top;\n",
       "    }\n",
       "\n",
       "    .dataframe thead th {\n",
       "        text-align: right;\n",
       "    }\n",
       "</style>\n",
       "<table border=\"1\" class=\"dataframe\">\n",
       "  <thead>\n",
       "    <tr style=\"text-align: right;\">\n",
       "      <th></th>\n",
       "      <th>region</th>\n",
       "      <th>year</th>\n",
       "      <th>no_of_accidents</th>\n",
       "      <th>no_of_casualties_dead</th>\n",
       "      <th>no_of_casualties_injured</th>\n",
       "      <th>no.driving_liceses</th>\n",
       "      <th>x</th>\n",
       "      <th>y</th>\n",
       "    </tr>\n",
       "  </thead>\n",
       "  <tbody>\n",
       "    <tr>\n",
       "      <th>0</th>\n",
       "      <td>Al-Baaha</td>\n",
       "      <td>2016</td>\n",
       "      <td>3618.0</td>\n",
       "      <td>185.0</td>\n",
       "      <td>1227.0</td>\n",
       "      <td>4614</td>\n",
       "      <td>20.148405</td>\n",
       "      <td>41.466548</td>\n",
       "    </tr>\n",
       "    <tr>\n",
       "      <th>1</th>\n",
       "      <td>Al-Jouf</td>\n",
       "      <td>2016</td>\n",
       "      <td>10212.0</td>\n",
       "      <td>245.0</td>\n",
       "      <td>920.0</td>\n",
       "      <td>9371</td>\n",
       "      <td>29.967745</td>\n",
       "      <td>39.557037</td>\n",
       "    </tr>\n",
       "    <tr>\n",
       "      <th>2</th>\n",
       "      <td>Asir</td>\n",
       "      <td>2016</td>\n",
       "      <td>32684.0</td>\n",
       "      <td>983.0</td>\n",
       "      <td>2541.0</td>\n",
       "      <td>41367</td>\n",
       "      <td>19.138784</td>\n",
       "      <td>42.941470</td>\n",
       "    </tr>\n",
       "    <tr>\n",
       "      <th>3</th>\n",
       "      <td>Eastern Region</td>\n",
       "      <td>2016</td>\n",
       "      <td>101619.0</td>\n",
       "      <td>1113.0</td>\n",
       "      <td>4893.0</td>\n",
       "      <td>142307</td>\n",
       "      <td>23.288330</td>\n",
       "      <td>50.147830</td>\n",
       "    </tr>\n",
       "    <tr>\n",
       "      <th>4</th>\n",
       "      <td>Hail</td>\n",
       "      <td>2016</td>\n",
       "      <td>10199.0</td>\n",
       "      <td>299.0</td>\n",
       "      <td>932.0</td>\n",
       "      <td>54507</td>\n",
       "      <td>27.400846</td>\n",
       "      <td>41.440696</td>\n",
       "    </tr>\n",
       "  </tbody>\n",
       "</table>\n",
       "</div>"
      ],
      "text/plain": [
       "           region  year  no_of_accidents  no_of_casualties_dead  \\\n",
       "0        Al-Baaha  2016           3618.0                  185.0   \n",
       "1         Al-Jouf  2016          10212.0                  245.0   \n",
       "2            Asir  2016          32684.0                  983.0   \n",
       "3  Eastern Region  2016         101619.0                 1113.0   \n",
       "4            Hail  2016          10199.0                  299.0   \n",
       "\n",
       "   no_of_casualties_injured  no.driving_liceses          x          y  \n",
       "0                    1227.0                4614  20.148405  41.466548  \n",
       "1                     920.0                9371  29.967745  39.557037  \n",
       "2                    2541.0               41367  19.138784  42.941470  \n",
       "3                    4893.0              142307  23.288330  50.147830  \n",
       "4                     932.0               54507  27.400846  41.440696  "
      ]
     },
     "execution_count": 55,
     "metadata": {},
     "output_type": "execute_result"
    }
   ],
   "source": [
    "df_merge = df_merge.rename(columns={\n",
    "                     'No. of Accidents':'no_of_accidents', 'No. of Casualties - Dead':'no_of_casualties_dead', \n",
    "                    'No. of Casualties - Injured':'no_of_casualties_injured'\n",
    "            })\n",
    "df_merge.head()"
   ]
  },
  {
   "cell_type": "markdown",
   "metadata": {},
   "source": [
    "#### 12. Save your cleaned, merged dataframe\n",
    "\n",
    "Use a relative path to save out your data as `combined_datasets.csv`."
   ]
  },
  {
   "cell_type": "code",
   "execution_count": 56,
   "metadata": {},
   "outputs": [],
   "source": [
    "df_merge.to_csv('combined_datasets.csv')"
   ]
  },
  {
   "cell_type": "markdown",
   "metadata": {},
   "source": [
    "## Exploratory Data Analysis\n",
    "\n",
    "\n",
    "### Summary Statistics\n",
    "Transpose the output of pandas `describe` method to create a quick overview of each numeric feature."
   ]
  },
  {
   "cell_type": "code",
   "execution_count": 57,
   "metadata": {},
   "outputs": [
    {
     "data": {
      "text/html": [
       "<div>\n",
       "<style scoped>\n",
       "    .dataframe tbody tr th:only-of-type {\n",
       "        vertical-align: middle;\n",
       "    }\n",
       "\n",
       "    .dataframe tbody tr th {\n",
       "        vertical-align: top;\n",
       "    }\n",
       "\n",
       "    .dataframe thead th {\n",
       "        text-align: right;\n",
       "    }\n",
       "</style>\n",
       "<table border=\"1\" class=\"dataframe\">\n",
       "  <thead>\n",
       "    <tr style=\"text-align: right;\">\n",
       "      <th></th>\n",
       "      <th>year</th>\n",
       "      <th>no_of_accidents</th>\n",
       "      <th>no_of_casualties_dead</th>\n",
       "      <th>no_of_casualties_injured</th>\n",
       "      <th>no.driving_liceses</th>\n",
       "      <th>x</th>\n",
       "      <th>y</th>\n",
       "    </tr>\n",
       "  </thead>\n",
       "  <tbody>\n",
       "    <tr>\n",
       "      <th>count</th>\n",
       "      <td>325.000000</td>\n",
       "      <td>26.000000</td>\n",
       "      <td>26.000000</td>\n",
       "      <td>26.000000</td>\n",
       "      <td>325.000000</td>\n",
       "      <td>325.000000</td>\n",
       "      <td>325.000000</td>\n",
       "    </tr>\n",
       "    <tr>\n",
       "      <th>mean</th>\n",
       "      <td>2005.000000</td>\n",
       "      <td>38225.692308</td>\n",
       "      <td>635.384615</td>\n",
       "      <td>2743.038462</td>\n",
       "      <td>28915.347692</td>\n",
       "      <td>23.810447</td>\n",
       "      <td>42.602789</td>\n",
       "    </tr>\n",
       "    <tr>\n",
       "      <th>std</th>\n",
       "      <td>7.222222</td>\n",
       "      <td>46493.705035</td>\n",
       "      <td>549.783381</td>\n",
       "      <td>2922.641127</td>\n",
       "      <td>47419.058819</td>\n",
       "      <td>4.197988</td>\n",
       "      <td>3.254196</td>\n",
       "    </tr>\n",
       "    <tr>\n",
       "      <th>min</th>\n",
       "      <td>1993.000000</td>\n",
       "      <td>1414.000000</td>\n",
       "      <td>112.000000</td>\n",
       "      <td>374.000000</td>\n",
       "      <td>915.000000</td>\n",
       "      <td>17.207232</td>\n",
       "      <td>37.259858</td>\n",
       "    </tr>\n",
       "    <tr>\n",
       "      <th>25%</th>\n",
       "      <td>1999.000000</td>\n",
       "      <td>10276.250000</td>\n",
       "      <td>241.250000</td>\n",
       "      <td>923.000000</td>\n",
       "      <td>4846.000000</td>\n",
       "      <td>20.148405</td>\n",
       "      <td>41.263690</td>\n",
       "    </tr>\n",
       "    <tr>\n",
       "      <th>50%</th>\n",
       "      <td>2005.000000</td>\n",
       "      <td>16050.500000</td>\n",
       "      <td>415.500000</td>\n",
       "      <td>1618.500000</td>\n",
       "      <td>10267.000000</td>\n",
       "      <td>23.288330</td>\n",
       "      <td>41.817119</td>\n",
       "    </tr>\n",
       "    <tr>\n",
       "      <th>75%</th>\n",
       "      <td>2011.000000</td>\n",
       "      <td>30981.250000</td>\n",
       "      <td>929.250000</td>\n",
       "      <td>3784.000000</td>\n",
       "      <td>25423.000000</td>\n",
       "      <td>27.400846</td>\n",
       "      <td>43.343000</td>\n",
       "    </tr>\n",
       "    <tr>\n",
       "      <th>max</th>\n",
       "      <td>2017.000000</td>\n",
       "      <td>145541.000000</td>\n",
       "      <td>2243.000000</td>\n",
       "      <td>12383.000000</td>\n",
       "      <td>495307.000000</td>\n",
       "      <td>30.197075</td>\n",
       "      <td>50.147830</td>\n",
       "    </tr>\n",
       "  </tbody>\n",
       "</table>\n",
       "</div>"
      ],
      "text/plain": [
       "              year  no_of_accidents  no_of_casualties_dead  \\\n",
       "count   325.000000        26.000000              26.000000   \n",
       "mean   2005.000000     38225.692308             635.384615   \n",
       "std       7.222222     46493.705035             549.783381   \n",
       "min    1993.000000      1414.000000             112.000000   \n",
       "25%    1999.000000     10276.250000             241.250000   \n",
       "50%    2005.000000     16050.500000             415.500000   \n",
       "75%    2011.000000     30981.250000             929.250000   \n",
       "max    2017.000000    145541.000000            2243.000000   \n",
       "\n",
       "       no_of_casualties_injured  no.driving_liceses           x           y  \n",
       "count                 26.000000          325.000000  325.000000  325.000000  \n",
       "mean                2743.038462        28915.347692   23.810447   42.602789  \n",
       "std                 2922.641127        47419.058819    4.197988    3.254196  \n",
       "min                  374.000000          915.000000   17.207232   37.259858  \n",
       "25%                  923.000000         4846.000000   20.148405   41.263690  \n",
       "50%                 1618.500000        10267.000000   23.288330   41.817119  \n",
       "75%                 3784.000000        25423.000000   27.400846   43.343000  \n",
       "max                12383.000000       495307.000000   30.197075   50.147830  "
      ]
     },
     "execution_count": 57,
     "metadata": {},
     "output_type": "execute_result"
    }
   ],
   "source": [
    "df_merge.describe()"
   ]
  },
  {
   "cell_type": "markdown",
   "metadata": {},
   "source": [
    "#### Manually calculate standard deviation\n",
    "\n",
    "$$\\sigma = \\sqrt{\\frac{1}{n}\\sum_{i=1}^n(x_i - \\mu)^2}$$\n",
    "\n",
    "- Write a function to calculate standard deviation using the formula above"
   ]
  },
  {
   "cell_type": "code",
   "execution_count": 58,
   "metadata": {},
   "outputs": [
    {
     "data": {
      "text/plain": [
       "[2860.2828904020994]"
      ]
     },
     "execution_count": 58,
     "metadata": {},
     "output_type": "execute_result"
    }
   ],
   "source": [
    "def std_cacul(n,v):\n",
    "    \n",
    "        dict_1 = dict(n[v])\n",
    "        mean_1=sum(n[v])*1.0/len(n[v])\n",
    "        for key, val in enumerate(dict_1.items()):\n",
    "            std_t=[np.sqrt((sum((val - mean_1)**2)/len(n)))]\n",
    "            return std_t \n",
    "    \n",
    "std_cacul(df_merge,'no_of_accidents')"
   ]
  },
  {
   "cell_type": "code",
   "execution_count": 59,
   "metadata": {},
   "outputs": [
    {
     "data": {
      "text/plain": [
       "nan"
      ]
     },
     "execution_count": 59,
     "metadata": {},
     "output_type": "execute_result"
    }
   ],
   "source": [
    "def mean(cn):\n",
    "    return (sum(cn) / len(cn))\n",
    "\n",
    "def variance(cn):\n",
    "    mean_1 = mean(cn)\n",
    "    return mean([(x - mean_1) ** 2 for x in cn])\n",
    "\n",
    "def stddev(cn):\n",
    "    \n",
    "    return np.sqrt(variance(cn))\n",
    "\n",
    " \n",
    "stddev(df_merge['no_of_accidents'])\n"
   ]
  },
  {
   "cell_type": "markdown",
   "metadata": {},
   "source": [
    "- Use a **dictionary comprehension** to apply your standard deviation function to each numeric column in the dataframe.  **No loops**  \n",
    "- Assign the output to variable `sd` as a dictionary where: \n",
    "    - Each column name is now a key \n",
    "    - That standard deviation of the column is the value \n",
    "     \n",
    "*Example Output :* `{'Driving_Licenses_x': 120, 'Traffic_Accidents_x': 120, ...}`"
   ]
  },
  {
   "cell_type": "code",
   "execution_count": 60,
   "metadata": {},
   "outputs": [],
   "source": [
    "#Code:\n",
    "\n",
    "#numeric_value= ['no_of_accidents', 'no_of_casualties_dead','no_of_casualties_injured','no.driving_liceses']\n",
    "#sd={i:stddev(numeric_value)[i] for i in numeric_value}\n",
    "\n"
   ]
  },
  {
   "cell_type": "markdown",
   "metadata": {},
   "source": [
    "Do your manually calculated standard deviations match up with the output from pandas `describe`? What about numpy's `std` method?"
   ]
  },
  {
   "cell_type": "markdown",
   "metadata": {},
   "source": [
    "Answer:\n",
    "When I calculated NumPy standard deviations manully the result was lower than pandas describe standard deviations,\n",
    "also I faced some nan values and that can solved by choosing numeric values."
   ]
  },
  {
   "cell_type": "markdown",
   "metadata": {},
   "source": [
    "#### Investigate trends in the data\n",
    "Using sorting and/or masking (along with the `.head` method to not print our entire dataframe), consider the following questions:\n",
    "\n",
    "- Which regions have the highest and lowest Driving Licenses based on years (1993 - 2017)\n",
    "- Which regions have the highest and lowest mean Traffic Accidents numbers for years (2016 - 2017)\n",
    "- What are the regions that have more Driving Licenses issued in each year than the year average?\n",
    "- What are the regions that have more Traffic Accidents happened in each year than the year average?\n",
    "\n",
    "Based on what you've just observed, have you identified any regions that you're especially interested in? **Make a note of these and state *why* you think they're interesting**.\n",
    "\n",
    "**You should comment on your findings at each step in a markdown cell below your code block**. Make sure you include at least one example of sorting your dataframe by a column, and one example of using boolean filtering (i.e., masking) to select a subset of the dataframe."
   ]
  },
  {
   "cell_type": "markdown",
   "metadata": {},
   "source": [
    "#### Which regions have the highest and lowest Driving Licenses based on years (1993 - 2017)"
   ]
  },
  {
   "cell_type": "code",
   "execution_count": 61,
   "metadata": {},
   "outputs": [
    {
     "data": {
      "text/html": [
       "<div>\n",
       "<style scoped>\n",
       "    .dataframe tbody tr th:only-of-type {\n",
       "        vertical-align: middle;\n",
       "    }\n",
       "\n",
       "    .dataframe tbody tr th {\n",
       "        vertical-align: top;\n",
       "    }\n",
       "\n",
       "    .dataframe thead th {\n",
       "        text-align: right;\n",
       "    }\n",
       "</style>\n",
       "<table border=\"1\" class=\"dataframe\">\n",
       "  <thead>\n",
       "    <tr style=\"text-align: right;\">\n",
       "      <th></th>\n",
       "      <th>region</th>\n",
       "      <th>year</th>\n",
       "      <th>no_of_accidents</th>\n",
       "      <th>no_of_casualties_dead</th>\n",
       "      <th>no_of_casualties_injured</th>\n",
       "      <th>no.driving_liceses</th>\n",
       "      <th>x</th>\n",
       "      <th>y</th>\n",
       "    </tr>\n",
       "  </thead>\n",
       "  <tbody>\n",
       "    <tr>\n",
       "      <th>0</th>\n",
       "      <td>Al-Baaha</td>\n",
       "      <td>2016</td>\n",
       "      <td>3618.0</td>\n",
       "      <td>185.0</td>\n",
       "      <td>1227.0</td>\n",
       "      <td>4614</td>\n",
       "      <td>20.148405</td>\n",
       "      <td>41.466548</td>\n",
       "    </tr>\n",
       "    <tr>\n",
       "      <th>1</th>\n",
       "      <td>Al-Jouf</td>\n",
       "      <td>2016</td>\n",
       "      <td>10212.0</td>\n",
       "      <td>245.0</td>\n",
       "      <td>920.0</td>\n",
       "      <td>9371</td>\n",
       "      <td>29.967745</td>\n",
       "      <td>39.557037</td>\n",
       "    </tr>\n",
       "    <tr>\n",
       "      <th>2</th>\n",
       "      <td>Asir</td>\n",
       "      <td>2016</td>\n",
       "      <td>32684.0</td>\n",
       "      <td>983.0</td>\n",
       "      <td>2541.0</td>\n",
       "      <td>41367</td>\n",
       "      <td>19.138784</td>\n",
       "      <td>42.941470</td>\n",
       "    </tr>\n",
       "    <tr>\n",
       "      <th>3</th>\n",
       "      <td>Eastern Region</td>\n",
       "      <td>2016</td>\n",
       "      <td>101619.0</td>\n",
       "      <td>1113.0</td>\n",
       "      <td>4893.0</td>\n",
       "      <td>142307</td>\n",
       "      <td>23.288330</td>\n",
       "      <td>50.147830</td>\n",
       "    </tr>\n",
       "    <tr>\n",
       "      <th>4</th>\n",
       "      <td>Hail</td>\n",
       "      <td>2016</td>\n",
       "      <td>10199.0</td>\n",
       "      <td>299.0</td>\n",
       "      <td>932.0</td>\n",
       "      <td>54507</td>\n",
       "      <td>27.400846</td>\n",
       "      <td>41.440696</td>\n",
       "    </tr>\n",
       "  </tbody>\n",
       "</table>\n",
       "</div>"
      ],
      "text/plain": [
       "           region  year  no_of_accidents  no_of_casualties_dead  \\\n",
       "0        Al-Baaha  2016           3618.0                  185.0   \n",
       "1         Al-Jouf  2016          10212.0                  245.0   \n",
       "2            Asir  2016          32684.0                  983.0   \n",
       "3  Eastern Region  2016         101619.0                 1113.0   \n",
       "4            Hail  2016          10199.0                  299.0   \n",
       "\n",
       "   no_of_casualties_injured  no.driving_liceses          x          y  \n",
       "0                    1227.0                4614  20.148405  41.466548  \n",
       "1                     920.0                9371  29.967745  39.557037  \n",
       "2                    2541.0               41367  19.138784  42.941470  \n",
       "3                    4893.0              142307  23.288330  50.147830  \n",
       "4                     932.0               54507  27.400846  41.440696  "
      ]
     },
     "execution_count": 61,
     "metadata": {},
     "output_type": "execute_result"
    }
   ],
   "source": [
    "#code\n",
    "df_merge.head()"
   ]
  },
  {
   "cell_type": "code",
   "execution_count": 62,
   "metadata": {},
   "outputs": [
    {
     "data": {
      "text/html": [
       "<div>\n",
       "<style scoped>\n",
       "    .dataframe tbody tr th:only-of-type {\n",
       "        vertical-align: middle;\n",
       "    }\n",
       "\n",
       "    .dataframe tbody tr th {\n",
       "        vertical-align: top;\n",
       "    }\n",
       "\n",
       "    .dataframe thead th {\n",
       "        text-align: right;\n",
       "    }\n",
       "</style>\n",
       "<table border=\"1\" class=\"dataframe\">\n",
       "  <thead>\n",
       "    <tr style=\"text-align: right;\">\n",
       "      <th></th>\n",
       "      <th>year</th>\n",
       "      <th>region</th>\n",
       "      <th>no.driving_liceses</th>\n",
       "    </tr>\n",
       "  </thead>\n",
       "  <tbody>\n",
       "    <tr>\n",
       "      <th>24</th>\n",
       "      <td>2017</td>\n",
       "      <td>Riyadh</td>\n",
       "      <td>495307</td>\n",
       "    </tr>\n",
       "    <tr>\n",
       "      <th>11</th>\n",
       "      <td>2016</td>\n",
       "      <td>Riyadh</td>\n",
       "      <td>242851</td>\n",
       "    </tr>\n",
       "    <tr>\n",
       "      <th>158</th>\n",
       "      <td>2014</td>\n",
       "      <td>Riyadh</td>\n",
       "      <td>194208</td>\n",
       "    </tr>\n",
       "    <tr>\n",
       "      <th>82</th>\n",
       "      <td>2013</td>\n",
       "      <td>Riyadh</td>\n",
       "      <td>165994</td>\n",
       "    </tr>\n",
       "    <tr>\n",
       "      <th>85</th>\n",
       "      <td>2015</td>\n",
       "      <td>Makkah</td>\n",
       "      <td>157389</td>\n",
       "    </tr>\n",
       "    <tr>\n",
       "      <th>110</th>\n",
       "      <td>2011</td>\n",
       "      <td>Eastern Region</td>\n",
       "      <td>151087</td>\n",
       "    </tr>\n",
       "    <tr>\n",
       "      <th>89</th>\n",
       "      <td>2014</td>\n",
       "      <td>Makkah</td>\n",
       "      <td>149234</td>\n",
       "    </tr>\n",
       "    <tr>\n",
       "      <th>26</th>\n",
       "      <td>2012</td>\n",
       "      <td>Makkah</td>\n",
       "      <td>143954</td>\n",
       "    </tr>\n",
       "    <tr>\n",
       "      <th>20</th>\n",
       "      <td>2017</td>\n",
       "      <td>Makkah</td>\n",
       "      <td>142487</td>\n",
       "    </tr>\n",
       "    <tr>\n",
       "      <th>3</th>\n",
       "      <td>2016</td>\n",
       "      <td>Eastern Region</td>\n",
       "      <td>142307</td>\n",
       "    </tr>\n",
       "  </tbody>\n",
       "</table>\n",
       "</div>"
      ],
      "text/plain": [
       "     year          region  no.driving_liceses\n",
       "24   2017          Riyadh              495307\n",
       "11   2016          Riyadh              242851\n",
       "158  2014          Riyadh              194208\n",
       "82   2013          Riyadh              165994\n",
       "85   2015          Makkah              157389\n",
       "110  2011  Eastern Region              151087\n",
       "89   2014          Makkah              149234\n",
       "26   2012          Makkah              143954\n",
       "20   2017          Makkah              142487\n",
       "3    2016  Eastern Region              142307"
      ]
     },
     "execution_count": 62,
     "metadata": {},
     "output_type": "execute_result"
    }
   ],
   "source": [
    "df_merge.nlargest(10,'no.driving_liceses')[['year','region','no.driving_liceses']]"
   ]
  },
  {
   "cell_type": "code",
   "execution_count": 63,
   "metadata": {},
   "outputs": [
    {
     "data": {
      "text/html": [
       "<div>\n",
       "<style scoped>\n",
       "    .dataframe tbody tr th:only-of-type {\n",
       "        vertical-align: middle;\n",
       "    }\n",
       "\n",
       "    .dataframe tbody tr th {\n",
       "        vertical-align: top;\n",
       "    }\n",
       "\n",
       "    .dataframe thead th {\n",
       "        text-align: right;\n",
       "    }\n",
       "</style>\n",
       "<table border=\"1\" class=\"dataframe\">\n",
       "  <thead>\n",
       "    <tr style=\"text-align: right;\">\n",
       "      <th></th>\n",
       "      <th>year</th>\n",
       "      <th>region</th>\n",
       "      <th>no.driving_liceses</th>\n",
       "    </tr>\n",
       "  </thead>\n",
       "  <tbody>\n",
       "    <tr>\n",
       "      <th>205</th>\n",
       "      <td>2015</td>\n",
       "      <td>Tabouk</td>\n",
       "      <td>915</td>\n",
       "    </tr>\n",
       "    <tr>\n",
       "      <th>177</th>\n",
       "      <td>2007</td>\n",
       "      <td>Al-Baaha</td>\n",
       "      <td>997</td>\n",
       "    </tr>\n",
       "    <tr>\n",
       "      <th>266</th>\n",
       "      <td>1995</td>\n",
       "      <td>Northern Boarder</td>\n",
       "      <td>1318</td>\n",
       "    </tr>\n",
       "    <tr>\n",
       "      <th>164</th>\n",
       "      <td>1996</td>\n",
       "      <td>Northern Boarder</td>\n",
       "      <td>1383</td>\n",
       "    </tr>\n",
       "    <tr>\n",
       "      <th>267</th>\n",
       "      <td>1994</td>\n",
       "      <td>Northern Boarder</td>\n",
       "      <td>1457</td>\n",
       "    </tr>\n",
       "    <tr>\n",
       "      <th>76</th>\n",
       "      <td>1996</td>\n",
       "      <td>Al-Baaha</td>\n",
       "      <td>1468</td>\n",
       "    </tr>\n",
       "    <tr>\n",
       "      <th>58</th>\n",
       "      <td>1993</td>\n",
       "      <td>Northern Boarder</td>\n",
       "      <td>1510</td>\n",
       "    </tr>\n",
       "    <tr>\n",
       "      <th>268</th>\n",
       "      <td>1997</td>\n",
       "      <td>Northern Boarder</td>\n",
       "      <td>1531</td>\n",
       "    </tr>\n",
       "    <tr>\n",
       "      <th>214</th>\n",
       "      <td>2003</td>\n",
       "      <td>Northern Boarder</td>\n",
       "      <td>1705</td>\n",
       "    </tr>\n",
       "    <tr>\n",
       "      <th>60</th>\n",
       "      <td>2005</td>\n",
       "      <td>Northern Boarder</td>\n",
       "      <td>1804</td>\n",
       "    </tr>\n",
       "  </tbody>\n",
       "</table>\n",
       "</div>"
      ],
      "text/plain": [
       "     year            region  no.driving_liceses\n",
       "205  2015            Tabouk                 915\n",
       "177  2007          Al-Baaha                 997\n",
       "266  1995  Northern Boarder                1318\n",
       "164  1996  Northern Boarder                1383\n",
       "267  1994  Northern Boarder                1457\n",
       "76   1996          Al-Baaha                1468\n",
       "58   1993  Northern Boarder                1510\n",
       "268  1997  Northern Boarder                1531\n",
       "214  2003  Northern Boarder                1705\n",
       "60   2005  Northern Boarder                1804"
      ]
     },
     "execution_count": 63,
     "metadata": {},
     "output_type": "execute_result"
    }
   ],
   "source": [
    "df_merge.nsmallest(10,'no.driving_liceses')[['year','region','no.driving_liceses']]"
   ]
  },
  {
   "cell_type": "markdown",
   "metadata": {},
   "source": [
    "###### Which regions have the highest and lowest mean Traffic Accidents numbers for years (2016 - 2017)"
   ]
  },
  {
   "cell_type": "code",
   "execution_count": 64,
   "metadata": {},
   "outputs": [
    {
     "data": {
      "text/html": [
       "<div>\n",
       "<style scoped>\n",
       "    .dataframe tbody tr th:only-of-type {\n",
       "        vertical-align: middle;\n",
       "    }\n",
       "\n",
       "    .dataframe tbody tr th {\n",
       "        vertical-align: top;\n",
       "    }\n",
       "\n",
       "    .dataframe thead tr th {\n",
       "        text-align: left;\n",
       "    }\n",
       "</style>\n",
       "<table border=\"1\" class=\"dataframe\">\n",
       "  <thead>\n",
       "    <tr>\n",
       "      <th></th>\n",
       "      <th>region</th>\n",
       "      <th>mean_accidents_2016</th>\n",
       "    </tr>\n",
       "    <tr>\n",
       "      <th></th>\n",
       "      <th></th>\n",
       "      <th></th>\n",
       "    </tr>\n",
       "  </thead>\n",
       "  <tbody>\n",
       "    <tr>\n",
       "      <th>0</th>\n",
       "      <td>Al-Baaha</td>\n",
       "      <td>3618.0</td>\n",
       "    </tr>\n",
       "    <tr>\n",
       "      <th>1</th>\n",
       "      <td>Al-Jouf</td>\n",
       "      <td>10212.0</td>\n",
       "    </tr>\n",
       "    <tr>\n",
       "      <th>2</th>\n",
       "      <td>Asir</td>\n",
       "      <td>32684.0</td>\n",
       "    </tr>\n",
       "    <tr>\n",
       "      <th>3</th>\n",
       "      <td>Eastern Region</td>\n",
       "      <td>101619.0</td>\n",
       "    </tr>\n",
       "    <tr>\n",
       "      <th>4</th>\n",
       "      <td>Hail</td>\n",
       "      <td>10199.0</td>\n",
       "    </tr>\n",
       "    <tr>\n",
       "      <th>5</th>\n",
       "      <td>Jazan</td>\n",
       "      <td>25873.0</td>\n",
       "    </tr>\n",
       "    <tr>\n",
       "      <th>6</th>\n",
       "      <td>Madinah</td>\n",
       "      <td>14475.0</td>\n",
       "    </tr>\n",
       "    <tr>\n",
       "      <th>7</th>\n",
       "      <td>Makkah</td>\n",
       "      <td>134838.0</td>\n",
       "    </tr>\n",
       "    <tr>\n",
       "      <th>8</th>\n",
       "      <td>Najran</td>\n",
       "      <td>3235.0</td>\n",
       "    </tr>\n",
       "    <tr>\n",
       "      <th>9</th>\n",
       "      <td>Northern Boarder</td>\n",
       "      <td>13196.0</td>\n",
       "    </tr>\n",
       "    <tr>\n",
       "      <th>10</th>\n",
       "      <td>Qassim</td>\n",
       "      <td>25664.0</td>\n",
       "    </tr>\n",
       "    <tr>\n",
       "      <th>11</th>\n",
       "      <td>Riyadh</td>\n",
       "      <td>141736.0</td>\n",
       "    </tr>\n",
       "    <tr>\n",
       "      <th>12</th>\n",
       "      <td>Tabouk</td>\n",
       "      <td>16031.0</td>\n",
       "    </tr>\n",
       "  </tbody>\n",
       "</table>\n",
       "</div>"
      ],
      "text/plain": [
       "              region mean_accidents_2016\n",
       "                                        \n",
       "0           Al-Baaha              3618.0\n",
       "1            Al-Jouf             10212.0\n",
       "2               Asir             32684.0\n",
       "3     Eastern Region            101619.0\n",
       "4               Hail             10199.0\n",
       "5              Jazan             25873.0\n",
       "6            Madinah             14475.0\n",
       "7             Makkah            134838.0\n",
       "8             Najran              3235.0\n",
       "9   Northern Boarder             13196.0\n",
       "10            Qassim             25664.0\n",
       "11            Riyadh            141736.0\n",
       "12            Tabouk             16031.0"
      ]
     },
     "execution_count": 64,
     "metadata": {},
     "output_type": "execute_result"
    }
   ],
   "source": [
    "mean_tra_2016=df_merge[df_merge['year'] == 2016 ].groupby('region').agg({'no_of_accidents':['mean']}) \n",
    "mean_tra_2016.reset_index(inplace=True) \n",
    "mean_tra_2016.rename(columns = {'mean':'','no_of_accidents':'mean_accidents_2016'},inplace=True)\n",
    "mean_tra_2016"
   ]
  },
  {
   "cell_type": "code",
   "execution_count": 65,
   "metadata": {},
   "outputs": [
    {
     "data": {
      "text/html": [
       "<div>\n",
       "<style scoped>\n",
       "    .dataframe tbody tr th:only-of-type {\n",
       "        vertical-align: middle;\n",
       "    }\n",
       "\n",
       "    .dataframe tbody tr th {\n",
       "        vertical-align: top;\n",
       "    }\n",
       "\n",
       "    .dataframe thead tr th {\n",
       "        text-align: left;\n",
       "    }\n",
       "</style>\n",
       "<table border=\"1\" class=\"dataframe\">\n",
       "  <thead>\n",
       "    <tr>\n",
       "      <th></th>\n",
       "      <th>region</th>\n",
       "      <th>no_of_accidents</th>\n",
       "    </tr>\n",
       "    <tr>\n",
       "      <th></th>\n",
       "      <th></th>\n",
       "      <th>mean</th>\n",
       "    </tr>\n",
       "  </thead>\n",
       "  <tbody>\n",
       "    <tr>\n",
       "      <th>0</th>\n",
       "      <td>Al-Baaha</td>\n",
       "      <td>1414.0</td>\n",
       "    </tr>\n",
       "    <tr>\n",
       "      <th>1</th>\n",
       "      <td>Al-Jouf</td>\n",
       "      <td>10469.0</td>\n",
       "    </tr>\n",
       "    <tr>\n",
       "      <th>2</th>\n",
       "      <td>Asir</td>\n",
       "      <td>25245.0</td>\n",
       "    </tr>\n",
       "    <tr>\n",
       "      <th>3</th>\n",
       "      <td>Eastern Region</td>\n",
       "      <td>81433.0</td>\n",
       "    </tr>\n",
       "    <tr>\n",
       "      <th>4</th>\n",
       "      <td>Hail</td>\n",
       "      <td>9379.0</td>\n",
       "    </tr>\n",
       "    <tr>\n",
       "      <th>5</th>\n",
       "      <td>Jazan</td>\n",
       "      <td>22161.0</td>\n",
       "    </tr>\n",
       "    <tr>\n",
       "      <th>6</th>\n",
       "      <td>Madinah</td>\n",
       "      <td>16070.0</td>\n",
       "    </tr>\n",
       "    <tr>\n",
       "      <th>7</th>\n",
       "      <td>Makkah</td>\n",
       "      <td>145541.0</td>\n",
       "    </tr>\n",
       "    <tr>\n",
       "      <th>8</th>\n",
       "      <td>Najran</td>\n",
       "      <td>3193.0</td>\n",
       "    </tr>\n",
       "    <tr>\n",
       "      <th>9</th>\n",
       "      <td>Northern Boarder</td>\n",
       "      <td>11540.0</td>\n",
       "    </tr>\n",
       "    <tr>\n",
       "      <th>10</th>\n",
       "      <td>Qassim</td>\n",
       "      <td>22405.0</td>\n",
       "    </tr>\n",
       "    <tr>\n",
       "      <th>11</th>\n",
       "      <td>Riyadh</td>\n",
       "      <td>99925.0</td>\n",
       "    </tr>\n",
       "    <tr>\n",
       "      <th>12</th>\n",
       "      <td>Tabouk</td>\n",
       "      <td>11713.0</td>\n",
       "    </tr>\n",
       "  </tbody>\n",
       "</table>\n",
       "</div>"
      ],
      "text/plain": [
       "              region no_of_accidents\n",
       "                                mean\n",
       "0           Al-Baaha          1414.0\n",
       "1            Al-Jouf         10469.0\n",
       "2               Asir         25245.0\n",
       "3     Eastern Region         81433.0\n",
       "4               Hail          9379.0\n",
       "5              Jazan         22161.0\n",
       "6            Madinah         16070.0\n",
       "7             Makkah        145541.0\n",
       "8             Najran          3193.0\n",
       "9   Northern Boarder         11540.0\n",
       "10            Qassim         22405.0\n",
       "11            Riyadh         99925.0\n",
       "12            Tabouk         11713.0"
      ]
     },
     "execution_count": 65,
     "metadata": {},
     "output_type": "execute_result"
    }
   ],
   "source": [
    "mean_tra_2017=df_merge[df_merge['year'] == 2017 ].groupby('region').agg({'no_of_accidents':['mean']}) \n",
    "mean_tra_2017.reset_index(inplace=True) \n",
    "mean_tra_2017"
   ]
  },
  {
   "cell_type": "markdown",
   "metadata": {},
   "source": [
    "Now I have to combine between them to find the highest and lowest mean of Traffic Accidents numbers for years (2016 - 2017)"
   ]
  },
  {
   "cell_type": "code",
   "execution_count": 66,
   "metadata": {},
   "outputs": [],
   "source": [
    "mean_2016_2017 = pd.DataFrame(mean_tra_2016)"
   ]
  },
  {
   "cell_type": "code",
   "execution_count": 67,
   "metadata": {},
   "outputs": [
    {
     "data": {
      "text/html": [
       "<div>\n",
       "<style scoped>\n",
       "    .dataframe tbody tr th:only-of-type {\n",
       "        vertical-align: middle;\n",
       "    }\n",
       "\n",
       "    .dataframe tbody tr th {\n",
       "        vertical-align: top;\n",
       "    }\n",
       "\n",
       "    .dataframe thead tr th {\n",
       "        text-align: left;\n",
       "    }\n",
       "</style>\n",
       "<table border=\"1\" class=\"dataframe\">\n",
       "  <thead>\n",
       "    <tr>\n",
       "      <th></th>\n",
       "      <th>region</th>\n",
       "      <th>mean_accidents_2016</th>\n",
       "      <th>mean_accidents_2017</th>\n",
       "    </tr>\n",
       "    <tr>\n",
       "      <th></th>\n",
       "      <th></th>\n",
       "      <th></th>\n",
       "      <th></th>\n",
       "    </tr>\n",
       "  </thead>\n",
       "  <tbody>\n",
       "    <tr>\n",
       "      <th>0</th>\n",
       "      <td>Al-Baaha</td>\n",
       "      <td>3618.0</td>\n",
       "      <td>1414.0</td>\n",
       "    </tr>\n",
       "    <tr>\n",
       "      <th>1</th>\n",
       "      <td>Al-Jouf</td>\n",
       "      <td>10212.0</td>\n",
       "      <td>10469.0</td>\n",
       "    </tr>\n",
       "  </tbody>\n",
       "</table>\n",
       "</div>"
      ],
      "text/plain": [
       "     region mean_accidents_2016 mean_accidents_2017\n",
       "                                                   \n",
       "0  Al-Baaha              3618.0              1414.0\n",
       "1   Al-Jouf             10212.0             10469.0"
      ]
     },
     "execution_count": 67,
     "metadata": {},
     "output_type": "execute_result"
    }
   ],
   "source": [
    "mean_2016_2017['mean_accidents_2017'] = mean_tra_2017['no_of_accidents']\n",
    "mean_2016_2017.head(2)"
   ]
  },
  {
   "cell_type": "code",
   "execution_count": 68,
   "metadata": {},
   "outputs": [
    {
     "data": {
      "text/html": [
       "<div>\n",
       "<style scoped>\n",
       "    .dataframe tbody tr th:only-of-type {\n",
       "        vertical-align: middle;\n",
       "    }\n",
       "\n",
       "    .dataframe tbody tr th {\n",
       "        vertical-align: top;\n",
       "    }\n",
       "\n",
       "    .dataframe thead tr th {\n",
       "        text-align: left;\n",
       "    }\n",
       "</style>\n",
       "<table border=\"1\" class=\"dataframe\">\n",
       "  <thead>\n",
       "    <tr>\n",
       "      <th></th>\n",
       "      <th>region</th>\n",
       "      <th>mean_accidents_2017</th>\n",
       "    </tr>\n",
       "    <tr>\n",
       "      <th></th>\n",
       "      <th></th>\n",
       "      <th></th>\n",
       "    </tr>\n",
       "  </thead>\n",
       "  <tbody>\n",
       "    <tr>\n",
       "      <th>7</th>\n",
       "      <td>Makkah</td>\n",
       "      <td>145541.0</td>\n",
       "    </tr>\n",
       "  </tbody>\n",
       "</table>\n",
       "</div>"
      ],
      "text/plain": [
       "   region mean_accidents_2017\n",
       "                             \n",
       "7  Makkah            145541.0"
      ]
     },
     "execution_count": 68,
     "metadata": {},
     "output_type": "execute_result"
    }
   ],
   "source": [
    "mean_2016_2017.nlargest(1,'mean_accidents_2017')[['region','mean_accidents_2017']]"
   ]
  },
  {
   "cell_type": "code",
   "execution_count": 69,
   "metadata": {},
   "outputs": [
    {
     "data": {
      "text/html": [
       "<div>\n",
       "<style scoped>\n",
       "    .dataframe tbody tr th:only-of-type {\n",
       "        vertical-align: middle;\n",
       "    }\n",
       "\n",
       "    .dataframe tbody tr th {\n",
       "        vertical-align: top;\n",
       "    }\n",
       "\n",
       "    .dataframe thead tr th {\n",
       "        text-align: left;\n",
       "    }\n",
       "</style>\n",
       "<table border=\"1\" class=\"dataframe\">\n",
       "  <thead>\n",
       "    <tr>\n",
       "      <th></th>\n",
       "      <th>region</th>\n",
       "      <th>mean_accidents_2016</th>\n",
       "    </tr>\n",
       "    <tr>\n",
       "      <th></th>\n",
       "      <th></th>\n",
       "      <th></th>\n",
       "    </tr>\n",
       "  </thead>\n",
       "  <tbody>\n",
       "    <tr>\n",
       "      <th>11</th>\n",
       "      <td>Riyadh</td>\n",
       "      <td>141736.0</td>\n",
       "    </tr>\n",
       "  </tbody>\n",
       "</table>\n",
       "</div>"
      ],
      "text/plain": [
       "    region mean_accidents_2016\n",
       "                              \n",
       "11  Riyadh            141736.0"
      ]
     },
     "execution_count": 69,
     "metadata": {},
     "output_type": "execute_result"
    }
   ],
   "source": [
    "mean_2016_2017.nlargest(1,'mean_accidents_2016')[['region','mean_accidents_2016']]"
   ]
  },
  {
   "cell_type": "code",
   "execution_count": 70,
   "metadata": {},
   "outputs": [
    {
     "data": {
      "text/html": [
       "<div>\n",
       "<style scoped>\n",
       "    .dataframe tbody tr th:only-of-type {\n",
       "        vertical-align: middle;\n",
       "    }\n",
       "\n",
       "    .dataframe tbody tr th {\n",
       "        vertical-align: top;\n",
       "    }\n",
       "\n",
       "    .dataframe thead tr th {\n",
       "        text-align: left;\n",
       "    }\n",
       "</style>\n",
       "<table border=\"1\" class=\"dataframe\">\n",
       "  <thead>\n",
       "    <tr>\n",
       "      <th></th>\n",
       "      <th>region</th>\n",
       "      <th>mean_accidents_2017</th>\n",
       "    </tr>\n",
       "    <tr>\n",
       "      <th></th>\n",
       "      <th></th>\n",
       "      <th></th>\n",
       "    </tr>\n",
       "  </thead>\n",
       "  <tbody>\n",
       "    <tr>\n",
       "      <th>0</th>\n",
       "      <td>Al-Baaha</td>\n",
       "      <td>1414.0</td>\n",
       "    </tr>\n",
       "  </tbody>\n",
       "</table>\n",
       "</div>"
      ],
      "text/plain": [
       "     region mean_accidents_2017\n",
       "                               \n",
       "0  Al-Baaha              1414.0"
      ]
     },
     "execution_count": 70,
     "metadata": {},
     "output_type": "execute_result"
    }
   ],
   "source": [
    "mean_2016_2017.nsmallest(1,'mean_accidents_2017')[['region','mean_accidents_2017']]"
   ]
  },
  {
   "cell_type": "code",
   "execution_count": 71,
   "metadata": {},
   "outputs": [
    {
     "data": {
      "text/html": [
       "<div>\n",
       "<style scoped>\n",
       "    .dataframe tbody tr th:only-of-type {\n",
       "        vertical-align: middle;\n",
       "    }\n",
       "\n",
       "    .dataframe tbody tr th {\n",
       "        vertical-align: top;\n",
       "    }\n",
       "\n",
       "    .dataframe thead tr th {\n",
       "        text-align: left;\n",
       "    }\n",
       "</style>\n",
       "<table border=\"1\" class=\"dataframe\">\n",
       "  <thead>\n",
       "    <tr>\n",
       "      <th></th>\n",
       "      <th>region</th>\n",
       "      <th>mean_accidents_2016</th>\n",
       "    </tr>\n",
       "    <tr>\n",
       "      <th></th>\n",
       "      <th></th>\n",
       "      <th></th>\n",
       "    </tr>\n",
       "  </thead>\n",
       "  <tbody>\n",
       "    <tr>\n",
       "      <th>8</th>\n",
       "      <td>Najran</td>\n",
       "      <td>3235.0</td>\n",
       "    </tr>\n",
       "  </tbody>\n",
       "</table>\n",
       "</div>"
      ],
      "text/plain": [
       "   region mean_accidents_2016\n",
       "                             \n",
       "8  Najran              3235.0"
      ]
     },
     "execution_count": 71,
     "metadata": {},
     "output_type": "execute_result"
    }
   ],
   "source": [
    "mean_2016_2017.nsmallest(1,'mean_accidents_2016')[['region','mean_accidents_2016']]"
   ]
  },
  {
   "cell_type": "markdown",
   "metadata": {},
   "source": [
    "###### What are the regions that have more Driving Licenses issued in each year than the year average?\n",
    "\n",
    "I  want to compare years to see which regions Driving Licenses issued in each year through define another dataset"
   ]
  },
  {
   "cell_type": "code",
   "execution_count": 72,
   "metadata": {},
   "outputs": [
    {
     "data": {
      "text/html": [
       "<div>\n",
       "<style scoped>\n",
       "    .dataframe tbody tr th:only-of-type {\n",
       "        vertical-align: middle;\n",
       "    }\n",
       "\n",
       "    .dataframe tbody tr th {\n",
       "        vertical-align: top;\n",
       "    }\n",
       "\n",
       "    .dataframe thead th {\n",
       "        text-align: right;\n",
       "    }\n",
       "</style>\n",
       "<table border=\"1\" class=\"dataframe\">\n",
       "  <thead>\n",
       "    <tr style=\"text-align: right;\">\n",
       "      <th></th>\n",
       "      <th>region</th>\n",
       "      <th>year</th>\n",
       "      <th>no_of_accidents</th>\n",
       "      <th>no_of_casualties_dead</th>\n",
       "      <th>no_of_casualties_injured</th>\n",
       "      <th>no.driving_liceses</th>\n",
       "      <th>x</th>\n",
       "      <th>y</th>\n",
       "    </tr>\n",
       "  </thead>\n",
       "  <tbody>\n",
       "    <tr>\n",
       "      <th>0</th>\n",
       "      <td>Al-Baaha</td>\n",
       "      <td>2016</td>\n",
       "      <td>3618.0</td>\n",
       "      <td>185.0</td>\n",
       "      <td>1227.0</td>\n",
       "      <td>4614</td>\n",
       "      <td>20.148405</td>\n",
       "      <td>41.466548</td>\n",
       "    </tr>\n",
       "    <tr>\n",
       "      <th>1</th>\n",
       "      <td>Al-Jouf</td>\n",
       "      <td>2016</td>\n",
       "      <td>10212.0</td>\n",
       "      <td>245.0</td>\n",
       "      <td>920.0</td>\n",
       "      <td>9371</td>\n",
       "      <td>29.967745</td>\n",
       "      <td>39.557037</td>\n",
       "    </tr>\n",
       "    <tr>\n",
       "      <th>2</th>\n",
       "      <td>Asir</td>\n",
       "      <td>2016</td>\n",
       "      <td>32684.0</td>\n",
       "      <td>983.0</td>\n",
       "      <td>2541.0</td>\n",
       "      <td>41367</td>\n",
       "      <td>19.138784</td>\n",
       "      <td>42.941470</td>\n",
       "    </tr>\n",
       "    <tr>\n",
       "      <th>3</th>\n",
       "      <td>Eastern Region</td>\n",
       "      <td>2016</td>\n",
       "      <td>101619.0</td>\n",
       "      <td>1113.0</td>\n",
       "      <td>4893.0</td>\n",
       "      <td>142307</td>\n",
       "      <td>23.288330</td>\n",
       "      <td>50.147830</td>\n",
       "    </tr>\n",
       "    <tr>\n",
       "      <th>4</th>\n",
       "      <td>Hail</td>\n",
       "      <td>2016</td>\n",
       "      <td>10199.0</td>\n",
       "      <td>299.0</td>\n",
       "      <td>932.0</td>\n",
       "      <td>54507</td>\n",
       "      <td>27.400846</td>\n",
       "      <td>41.440696</td>\n",
       "    </tr>\n",
       "  </tbody>\n",
       "</table>\n",
       "</div>"
      ],
      "text/plain": [
       "           region  year  no_of_accidents  no_of_casualties_dead  \\\n",
       "0        Al-Baaha  2016           3618.0                  185.0   \n",
       "1         Al-Jouf  2016          10212.0                  245.0   \n",
       "2            Asir  2016          32684.0                  983.0   \n",
       "3  Eastern Region  2016         101619.0                 1113.0   \n",
       "4            Hail  2016          10199.0                  299.0   \n",
       "\n",
       "   no_of_casualties_injured  no.driving_liceses          x          y  \n",
       "0                    1227.0                4614  20.148405  41.466548  \n",
       "1                     920.0                9371  29.967745  39.557037  \n",
       "2                    2541.0               41367  19.138784  42.941470  \n",
       "3                    4893.0              142307  23.288330  50.147830  \n",
       "4                     932.0               54507  27.400846  41.440696  "
      ]
     },
     "execution_count": 72,
     "metadata": {},
     "output_type": "execute_result"
    }
   ],
   "source": [
    "df_merge.head()"
   ]
  },
  {
   "cell_type": "code",
   "execution_count": 73,
   "metadata": {},
   "outputs": [],
   "source": [
    "df_merge_compa=df_merge"
   ]
  },
  {
   "cell_type": "code",
   "execution_count": 74,
   "metadata": {},
   "outputs": [],
   "source": [
    "year_comper = df_merge_compa.groupby('year')"
   ]
  },
  {
   "cell_type": "code",
   "execution_count": 75,
   "metadata": {},
   "outputs": [],
   "source": [
    "df_merge_compa['driving_mean']=year_comper['no.driving_liceses'].transform(np.mean)"
   ]
  },
  {
   "cell_type": "markdown",
   "metadata": {},
   "source": [
    "Now that I have finished merging the tables,I can compere the driving_liceses and driving_mean based on year"
   ]
  },
  {
   "cell_type": "code",
   "execution_count": 76,
   "metadata": {
    "scrolled": true
   },
   "outputs": [
    {
     "data": {
      "text/plain": [
       "array(['Riyadh', 'Makkah', 'Qassim', 'Eastern Region', 'Asir', 'Hail'],\n",
       "      dtype=object)"
      ]
     },
     "execution_count": 76,
     "metadata": {},
     "output_type": "execute_result"
    }
   ],
   "source": [
    "merge_compa_1=df_merge_compa[(df_merge_compa['no.driving_liceses'] > df_merge_compa['driving_mean'])][['year','region','no.driving_liceses','driving_mean']].sort_values('year')\n",
    "merge_compa_1.region.unique()"
   ]
  },
  {
   "cell_type": "markdown",
   "metadata": {},
   "source": [
    "###### What are the regions that have more Traffic Accidents happened in each year than the year average?"
   ]
  },
  {
   "cell_type": "code",
   "execution_count": 77,
   "metadata": {},
   "outputs": [
    {
     "data": {
      "text/plain": [
       "array(['Eastern Region', 'Makkah', 'Riyadh'], dtype=object)"
      ]
     },
     "execution_count": 77,
     "metadata": {},
     "output_type": "execute_result"
    }
   ],
   "source": [
    "df_merge_compa['accidents_mean']=year_comper['no_of_accidents'].transform(np.mean)\n",
    "merge_compa_2=df_merge_compa[(df_merge_compa['no_of_accidents'] > df_merge_compa['accidents_mean'])][['year','region','no.driving_liceses','driving_mean']].sort_values('year')\n",
    "merge_compa_2.region.unique()"
   ]
  },
  {
   "cell_type": "markdown",
   "metadata": {},
   "source": [
    "##### Observations: \n",
    "* In 1993 the Northern Boarder was the lowest region Driving Licenses  that has    \n",
    "* In 2017 the number of Driving Licenses is increased by 495307 and the highest region was Riyadh \n",
    "* Riyadh was the highest region with having average traffic accidents numbers 134838 In 2016.\n",
    "* In 2017 Makkah was the highest region in which traffic accidents and the average was 145541\n",
    "* The region with the lowest traffic accidents number in 2017 was Al-Baha, with an average number of 1414\n",
    "* In 2016, Najran had the lowest number of traffic accidents, with an average of 3235.0\n",
    "* The regions with the highest issuance of  driving licenses during the past years were Riyadh, Makkah, Qassim, Eastern Region, Asir and Hail\n",
    "* Eastern Region, Makkah, and Riyadh are the regions that have more Traffic Accidents happened each year than the year average"
   ]
  },
  {
   "cell_type": "markdown",
   "metadata": {},
   "source": [
    "## Visualize the data\n",
    "\n",
    "There's not a magic bullet recommendation for the right number of plots to understand a given dataset, but visualizing your data is *always* a good idea. Not only does it allow you to quickly convey your findings (even if you have a non-technical audience), it will often reveal trends in your data that escaped you when you were looking only at numbers.\n",
    "\n",
    "Some recommendations on plotting:\n",
    "- Plots have titles\n",
    "- Plots have axis labels\n",
    "- Plots have appropriate tick labels\n",
    "- All text is legible in a plot\n",
    "- Plots demonstrate meaningful and valid relationships\n",
    "- Plots are interpreted to aid understanding\n",
    "\n",
    "There is such a thing as too many plots, and there are a *lot* of bad plots. You might make some! (But hopefully not with the guided prompts below)."
   ]
  },
  {
   "cell_type": "markdown",
   "metadata": {},
   "source": [
    "#### Use Seaborn's heatmap with pandas `.corr()` to visualize correlations between all numeric features\n",
    "\n",
    "Heatmaps are generally not appropriate for presentations, and should often be excluded from reports as they can be visually overwhelming. **However**, they can be extremely useful in identify relationships of potential interest (as well as identifying potential collinearity before modeling).\n",
    "\n",
    "*example*:\n",
    "```python\n",
    "sns.heatmap(df.corr())\n",
    "```\n",
    "\n",
    "Please take time to format your output, adding a title. Look through some of the additional arguments and options. (Axis labels aren't really necessary, as long as the title is informative)."
   ]
  },
  {
   "cell_type": "code",
   "execution_count": 78,
   "metadata": {},
   "outputs": [
    {
     "data": {
      "text/plain": [
       "<AxesSubplot:>"
      ]
     },
     "execution_count": 78,
     "metadata": {},
     "output_type": "execute_result"
    },
    {
     "data": {
      "image/png": "[encoded data removed]",
      "text/plain": [
       "<Figure size 432x288 with 2 Axes>"
      ]
     },
     "metadata": {
      "image/png": {
       "height": 353,
       "width": 459
      },
      "needs_background": "light"
     },
     "output_type": "display_data"
    }
   ],
   "source": [
    "sns.heatmap(df_merge.corr())"
   ]
  },
  {
   "cell_type": "code",
   "execution_count": 79,
   "metadata": {},
   "outputs": [],
   "source": [
    "def correlation_heat_map(df):\n",
    "    corrs = df.corr()\n",
    "\n",
    "    # Set the default matplotlib figure size:\n",
    "    fig, ax = plt.subplots(figsize=(11,7))\n",
    "\n",
    "    # Generate a mask for the upper triangle (taken from the Seaborn example gallery):\n",
    "    mask = np.zeros_like(corrs, dtype=np.bool)\n",
    "    mask[np.triu_indices_from(mask)] = True\n",
    "\n",
    "    # Plot the heatmap with Seaborn.\n",
    "    # Assign the matplotlib axis the function returns. This allow us to resize the labels.\n",
    "    ax = sns.heatmap(corrs, mask=mask, annot=True, vmin=-1, vmax=1)\n",
    "\n",
    "    # Resize the labels.\n",
    "    ax.set_xticklabels(ax.xaxis.get_ticklabels(), fontsize=14, rotation=30)\n",
    "    \n",
    "    ax.set_yticklabels(ax.yaxis.get_ticklabels(), fontsize=15, rotation=0)\n",
    "\n",
    "    # If you put plt.show() at the bottom, it prevents those useless printouts from matplotlib.\n",
    "    plt.show()"
   ]
  },
  {
   "cell_type": "code",
   "execution_count": 80,
   "metadata": {},
   "outputs": [
    {
     "data": {
      "image/png": "[encoded data removed]",
      "text/plain": [
       "<Figure size 792x504 with 2 Axes>"
      ]
     },
     "metadata": {
      "image/png": {
       "height": 494,
       "width": 760
      },
      "needs_background": "light"
     },
     "output_type": "display_data"
    }
   ],
   "source": [
    "correlation_heat_map(df_merge.corr())"
   ]
  },
  {
   "cell_type": "markdown",
   "metadata": {},
   "source": [
    "#### Define a custom function to subplot histograms\n",
    "\n",
    "We should write a function that will take the names of 2+ columns and subplot histograms. While you can use pandas plotting or Seaborn here, matplotlib gives you greater control over all aspects of your plots.\n",
    "\n",
    "[Helpful Link for Plotting Multiple Figures](https://matplotlib.org/users/pyplot_tutorial.html#working-with-multiple-figures-and-axes)\n",
    "\n",
    "Here's some starter code:"
   ]
  },
  {
   "cell_type": "code",
   "execution_count": 81,
   "metadata": {},
   "outputs": [],
   "source": [
    "def subplot_histograms(dataframe, list_of_columns, list_of_titles, list_of_xlabels):\n",
    "    nrows = int(np.ceil(len(list_of_columns)/2)) # Makes sure you have enough rows\n",
    "    fig, ax= plt.subplots(nrows=1, ncols=2,figsize=(8,6)) # You'll want to specify your figsize\n",
    "    ax = ax.ravel() # Ravel turns a matrix into a vector, which is easier to iterate\n",
    "    for i, column in enumerate(list_of_columns): # Gives us an index value to get into all our lists\n",
    "        ax[i].hist(dataframe[column]) # feel free to add more settings\n",
    "        # Set titles, labels, etc here for each subplot"
   ]
  },
  {
   "cell_type": "markdown",
   "metadata": {},
   "source": [
    "#### Plot and interpret histograms \n",
    "For each of the following:\n",
    "- Driving Licenses number\n",
    "- Traffic Accidents number\n",
    "\n",
    "Please plot two additional histograms that will help with your understanding of the data"
   ]
  },
  {
   "cell_type": "code",
   "execution_count": 82,
   "metadata": {},
   "outputs": [
    {
     "data": {
      "image/png": "[encoded data removed]",
      "text/plain": [
       "<Figure size 576x432 with 2 Axes>"
      ]
     },
     "metadata": {
      "image/png": {
       "height": 357,
       "width": 497
      },
      "needs_background": "light"
     },
     "output_type": "display_data"
    }
   ],
   "source": [
    "subplot_histograms(df_merge,['no.driving_liceses','no_of_accidents'],['no.driving_liceses','no_of_accidents'],['no.driving_liceses','no_of_accidents'])"
   ]
  },
  {
   "cell_type": "code",
   "execution_count": null,
   "metadata": {},
   "outputs": [],
   "source": []
  },
  {
   "cell_type": "markdown",
   "metadata": {},
   "source": [
    "#### Plot and interpret scatter plots\n",
    "\n",
    "For each of the following:\n",
    "- Driving Licenses vs. Traffic Accidents for 2017\n",
    "- Driving Licenses vs. Traffic Accidents for 2016\n",
    "- Driving Licenses for 2016 vs 2017\n",
    "- Traffic Accidents for 2016 vs 2017\n",
    "\n",
    "Plot the two variables against each other using matplotlib or Seaborn\n",
    "\n",
    "Your plots should show:\n",
    "- Two clearly labeled axes\n",
    "- A proper title\n",
    "- Using colors and symbols that are clear and unmistakable\n",
    "\n",
    "**Feel free to write a custom function, and subplot if you'd like.** Functions save both time and space.\n"
   ]
  },
  {
   "cell_type": "code",
   "execution_count": 83,
   "metadata": {},
   "outputs": [
    {
     "data": {
      "text/html": [
       "<div>\n",
       "<style scoped>\n",
       "    .dataframe tbody tr th:only-of-type {\n",
       "        vertical-align: middle;\n",
       "    }\n",
       "\n",
       "    .dataframe tbody tr th {\n",
       "        vertical-align: top;\n",
       "    }\n",
       "\n",
       "    .dataframe thead th {\n",
       "        text-align: right;\n",
       "    }\n",
       "</style>\n",
       "<table border=\"1\" class=\"dataframe\">\n",
       "  <thead>\n",
       "    <tr style=\"text-align: right;\">\n",
       "      <th></th>\n",
       "      <th>year</th>\n",
       "      <th>no_of_accidents</th>\n",
       "      <th>no_of_casualties_dead</th>\n",
       "      <th>no_of_casualties_injured</th>\n",
       "      <th>no.driving_liceses</th>\n",
       "      <th>x</th>\n",
       "      <th>y</th>\n",
       "      <th>driving_mean</th>\n",
       "      <th>accidents_mean</th>\n",
       "    </tr>\n",
       "  </thead>\n",
       "  <tbody>\n",
       "    <tr>\n",
       "      <th>count</th>\n",
       "      <td>325.000000</td>\n",
       "      <td>26.000000</td>\n",
       "      <td>26.000000</td>\n",
       "      <td>26.000000</td>\n",
       "      <td>325.000000</td>\n",
       "      <td>325.000000</td>\n",
       "      <td>325.000000</td>\n",
       "      <td>325.000000</td>\n",
       "      <td>26.000000</td>\n",
       "    </tr>\n",
       "    <tr>\n",
       "      <th>mean</th>\n",
       "      <td>2005.000000</td>\n",
       "      <td>38225.692308</td>\n",
       "      <td>635.384615</td>\n",
       "      <td>2743.038462</td>\n",
       "      <td>28915.347692</td>\n",
       "      <td>23.810447</td>\n",
       "      <td>42.602789</td>\n",
       "      <td>28915.347692</td>\n",
       "      <td>38225.692308</td>\n",
       "    </tr>\n",
       "    <tr>\n",
       "      <th>std</th>\n",
       "      <td>7.222222</td>\n",
       "      <td>46493.705035</td>\n",
       "      <td>549.783381</td>\n",
       "      <td>2922.641127</td>\n",
       "      <td>47419.058819</td>\n",
       "      <td>4.197988</td>\n",
       "      <td>3.254196</td>\n",
       "      <td>12499.768992</td>\n",
       "      <td>2859.059464</td>\n",
       "    </tr>\n",
       "    <tr>\n",
       "      <th>min</th>\n",
       "      <td>1993.000000</td>\n",
       "      <td>1414.000000</td>\n",
       "      <td>112.000000</td>\n",
       "      <td>374.000000</td>\n",
       "      <td>915.000000</td>\n",
       "      <td>17.207232</td>\n",
       "      <td>37.259858</td>\n",
       "      <td>18278.692308</td>\n",
       "      <td>35422.153846</td>\n",
       "    </tr>\n",
       "    <tr>\n",
       "      <th>25%</th>\n",
       "      <td>1999.000000</td>\n",
       "      <td>10276.250000</td>\n",
       "      <td>241.250000</td>\n",
       "      <td>923.000000</td>\n",
       "      <td>4846.000000</td>\n",
       "      <td>20.148405</td>\n",
       "      <td>41.263690</td>\n",
       "      <td>20672.153846</td>\n",
       "      <td>35422.153846</td>\n",
       "    </tr>\n",
       "    <tr>\n",
       "      <th>50%</th>\n",
       "      <td>2005.000000</td>\n",
       "      <td>16050.500000</td>\n",
       "      <td>415.500000</td>\n",
       "      <td>1618.500000</td>\n",
       "      <td>10267.000000</td>\n",
       "      <td>23.288330</td>\n",
       "      <td>41.817119</td>\n",
       "      <td>25396.769231</td>\n",
       "      <td>38225.692308</td>\n",
       "    </tr>\n",
       "    <tr>\n",
       "      <th>75%</th>\n",
       "      <td>2011.000000</td>\n",
       "      <td>30981.250000</td>\n",
       "      <td>929.250000</td>\n",
       "      <td>3784.000000</td>\n",
       "      <td>25423.000000</td>\n",
       "      <td>27.400846</td>\n",
       "      <td>43.343000</td>\n",
       "      <td>30812.153846</td>\n",
       "      <td>41029.230769</td>\n",
       "    </tr>\n",
       "    <tr>\n",
       "      <th>max</th>\n",
       "      <td>2017.000000</td>\n",
       "      <td>145541.000000</td>\n",
       "      <td>2243.000000</td>\n",
       "      <td>12383.000000</td>\n",
       "      <td>495307.000000</td>\n",
       "      <td>30.197075</td>\n",
       "      <td>50.147830</td>\n",
       "      <td>71397.307692</td>\n",
       "      <td>41029.230769</td>\n",
       "    </tr>\n",
       "  </tbody>\n",
       "</table>\n",
       "</div>"
      ],
      "text/plain": [
       "              year  no_of_accidents  no_of_casualties_dead  \\\n",
       "count   325.000000        26.000000              26.000000   \n",
       "mean   2005.000000     38225.692308             635.384615   \n",
       "std       7.222222     46493.705035             549.783381   \n",
       "min    1993.000000      1414.000000             112.000000   \n",
       "25%    1999.000000     10276.250000             241.250000   \n",
       "50%    2005.000000     16050.500000             415.500000   \n",
       "75%    2011.000000     30981.250000             929.250000   \n",
       "max    2017.000000    145541.000000            2243.000000   \n",
       "\n",
       "       no_of_casualties_injured  no.driving_liceses           x           y  \\\n",
       "count                 26.000000          325.000000  325.000000  325.000000   \n",
       "mean                2743.038462        28915.347692   23.810447   42.602789   \n",
       "std                 2922.641127        47419.058819    4.197988    3.254196   \n",
       "min                  374.000000          915.000000   17.207232   37.259858   \n",
       "25%                  923.000000         4846.000000   20.148405   41.263690   \n",
       "50%                 1618.500000        10267.000000   23.288330   41.817119   \n",
       "75%                 3784.000000        25423.000000   27.400846   43.343000   \n",
       "max                12383.000000       495307.000000   30.197075   50.147830   \n",
       "\n",
       "       driving_mean  accidents_mean  \n",
       "count    325.000000       26.000000  \n",
       "mean   28915.347692    38225.692308  \n",
       "std    12499.768992     2859.059464  \n",
       "min    18278.692308    35422.153846  \n",
       "25%    20672.153846    35422.153846  \n",
       "50%    25396.769231    38225.692308  \n",
       "75%    30812.153846    41029.230769  \n",
       "max    71397.307692    41029.230769  "
      ]
     },
     "execution_count": 83,
     "metadata": {},
     "output_type": "execute_result"
    }
   ],
   "source": [
    "df_merge.describe()"
   ]
  },
  {
   "cell_type": "markdown",
   "metadata": {},
   "source": [
    "###### Driving Licenses vs. Traffic Accidents for 2017"
   ]
  },
  {
   "cell_type": "code",
   "execution_count": 84,
   "metadata": {},
   "outputs": [],
   "source": [
    "#first select Traffic Accidents in the year 2017\n",
    "traffic_year_2017=df_merge[df_merge['year']==2017]['no_of_accidents']"
   ]
  },
  {
   "cell_type": "code",
   "execution_count": 85,
   "metadata": {},
   "outputs": [],
   "source": [
    "#select Driving Licenses in the year 2017\n",
    "driving_year_2017=df_merge[df_merge['year']==2017]['no.driving_liceses']"
   ]
  },
  {
   "cell_type": "code",
   "execution_count": 86,
   "metadata": {},
   "outputs": [
    {
     "data": {
      "image/png": "[encoded data removed]",
      "text/plain": [
       "<Figure size 432x288 with 1 Axes>"
      ]
     },
     "metadata": {
      "image/png": {
       "height": 261,
       "width": 403
      },
      "needs_background": "light"
     },
     "output_type": "display_data"
    }
   ],
   "source": [
    "plt.scatter(traffic_year_2017,driving_year_2017);\n",
    "plt.xlabel('Driving_Liceses_2017');\n",
    "plt.ylabel('No. of Accidents_2017');"
   ]
  },
  {
   "cell_type": "markdown",
   "metadata": {},
   "source": [
    "###### Driving Licenses vs. Traffic Accidents for 2016"
   ]
  },
  {
   "cell_type": "code",
   "execution_count": 87,
   "metadata": {},
   "outputs": [],
   "source": [
    "#year_2016 = df_merge[df_merge['year']==2016]"
   ]
  },
  {
   "cell_type": "code",
   "execution_count": 88,
   "metadata": {},
   "outputs": [],
   "source": [
    "traffic_year_2016=df_merge[df_merge['year']==2016]['no_of_accidents']"
   ]
  },
  {
   "cell_type": "code",
   "execution_count": 89,
   "metadata": {},
   "outputs": [],
   "source": [
    "driving_year_2016=df_merge[df_merge['year']==2016]['no.driving_liceses']"
   ]
  },
  {
   "cell_type": "code",
   "execution_count": 90,
   "metadata": {},
   "outputs": [
    {
     "data": {
      "image/png": "[encoded data removed]",
      "text/plain": [
       "<Figure size 432x288 with 1 Axes>"
      ]
     },
     "metadata": {
      "image/png": {
       "height": 261,
       "width": 403
      },
      "needs_background": "light"
     },
     "output_type": "display_data"
    }
   ],
   "source": [
    "plt.scatter(traffic_year_2016,driving_year_2016);\n",
    "plt.xlabel('Driving_Liceses_2016');\n",
    "plt.ylabel('No. of Accidents_2016');"
   ]
  },
  {
   "cell_type": "markdown",
   "metadata": {},
   "source": [
    "###### Driving Licenses for 2016 vs 2017"
   ]
  },
  {
   "cell_type": "code",
   "execution_count": 91,
   "metadata": {},
   "outputs": [
    {
     "data": {
      "image/png": "[encoded data removed]",
      "text/plain": [
       "<Figure size 432x288 with 1 Axes>"
      ]
     },
     "metadata": {
      "image/png": {
       "height": 261,
       "width": 413
      },
      "needs_background": "light"
     },
     "output_type": "display_data"
    }
   ],
   "source": [
    "plt.scatter(driving_year_2016,driving_year_2017, color='#f67088');\n",
    "plt.xlabel('Driving_Liceses');\n",
    "plt.ylabel('No. of Accidents');"
   ]
  },
  {
   "cell_type": "markdown",
   "metadata": {},
   "source": [
    "###### Traffic Accidents for 2016 vs 2017"
   ]
  },
  {
   "cell_type": "code",
   "execution_count": 92,
   "metadata": {},
   "outputs": [
    {
     "data": {
      "image/png": "[encoded data removed]",
      "text/plain": [
       "<Figure size 432x288 with 1 Axes>"
      ]
     },
     "metadata": {
      "image/png": {
       "height": 261,
       "width": 403
      },
      "needs_background": "light"
     },
     "output_type": "display_data"
    }
   ],
   "source": [
    "plt.scatter(traffic_year_2016,traffic_year_2017,color='#f67088');\n",
    "plt.xlabel('Driving_Liceses');\n",
    "plt.ylabel('No. of Accidents');"
   ]
  },
  {
   "cell_type": "markdown",
   "metadata": {},
   "source": [
    "#### Plot and interpret boxplots\n",
    "\n",
    "For each numeric variable in the dataframe create a boxplot using Seaborn. Boxplots demonstrate central tendency and spread in variables. In a certain sense, these are somewhat redundant with histograms, but you may be better able to identify clear outliers or differences in IQR, etc.\n",
    "\n",
    "Multiple values can be plotted to a single boxplot as long as they are of the same relative scale (meaning they have similar min/max values).\n",
    "\n",
    "Each boxplot should:\n",
    "- Only include variables of a similar scale\n",
    "- Have clear labels for each variable\n",
    "- Have appropriate titles and labels"
   ]
  },
  {
   "cell_type": "code",
   "execution_count": 93,
   "metadata": {},
   "outputs": [
    {
     "data": {
      "image/png": "[encoded data removed]",
      "text/plain": [
       "<Figure size 1728x288 with 1 Axes>"
      ]
     },
     "metadata": {
      "image/png": {
       "height": 261,
       "width": 1353
      },
      "needs_background": "light"
     },
     "output_type": "display_data"
    }
   ],
   "source": [
    "fig, ax = plt.subplots(figsize=(24, 4))\n",
    "sns.boxplot(x='year',  orient='h', fliersize=8, linewidth=1.5, saturation=1, ax=ax ,data=df_merge);"
   ]
  },
  {
   "cell_type": "code",
   "execution_count": 94,
   "metadata": {},
   "outputs": [
    {
     "data": {
      "image/png": "[encoded data removed]",
      "text/plain": [
       "<Figure size 1728x288 with 1 Axes>"
      ]
     },
     "metadata": {
      "image/png": {
       "height": 261,
       "width": 1353
      },
      "needs_background": "light"
     },
     "output_type": "display_data"
    }
   ],
   "source": [
    "#no_of_accidents\tno_of_casualties_dead\tno_of_casualties_injured\tno.driving_liceses\tx\ty\tdriving_mean\n",
    "fig, ax = plt.subplots(figsize=(24,4))\n",
    "sns.boxplot(x='no_of_casualties_injured',  orient='h', fliersize=8, linewidth=1.5, saturation=1, ax=ax ,data=df_merge);"
   ]
  },
  {
   "cell_type": "code",
   "execution_count": 95,
   "metadata": {},
   "outputs": [
    {
     "data": {
      "image/png": "[encoded data removed]",
      "text/plain": [
       "<Figure size 1728x288 with 1 Axes>"
      ]
     },
     "metadata": {
      "image/png": {
       "height": 261,
       "width": 1353
      },
      "needs_background": "light"
     },
     "output_type": "display_data"
    }
   ],
   "source": [
    "fig, ax = plt.subplots(figsize=(24,4))\n",
    "sns.boxplot(x='no_of_casualties_dead',  orient='h', fliersize=8, linewidth=1.5, saturation=1, ax=ax ,data=df_merge);"
   ]
  },
  {
   "cell_type": "code",
   "execution_count": 96,
   "metadata": {},
   "outputs": [
    {
     "data": {
      "image/png": "[encoded data removed]",
      "text/plain": [
       "<Figure size 1728x288 with 1 Axes>"
      ]
     },
     "metadata": {
      "image/png": {
       "height": 261,
       "width": 1353
      },
      "needs_background": "light"
     },
     "output_type": "display_data"
    }
   ],
   "source": [
    "fig, ax = plt.subplots(figsize=(24,4))\n",
    "sns.boxplot(x='no.driving_liceses',  orient='h', fliersize=8, linewidth=1.5, saturation=1, ax=ax ,data=df_merge);"
   ]
  },
  {
   "cell_type": "code",
   "execution_count": 97,
   "metadata": {},
   "outputs": [
    {
     "data": {
      "image/png": "[encoded data removed]",
      "text/plain": [
       "<Figure size 864x432 with 1 Axes>"
      ]
     },
     "metadata": {
      "image/png": {
       "height": 385,
       "width": 801
      },
      "needs_background": "light"
     },
     "output_type": "display_data"
    }
   ],
   "source": [
    "fig = plt.figure(figsize=(12,6))\n",
    "ax = fig.gca()\n",
    "df_merge\n",
    "sns.boxplot(data=df_merge, orient='h', fliersize=3, linewidth=4, \n",
    "                 saturation=1, ax=ax)\n",
    "\n",
    "ax.set_title('numerical variables boxplot\\n')\n",
    "plt.show()"
   ]
  },
  {
   "cell_type": "markdown",
   "metadata": {},
   "source": [
    "#### Feel free to do additional plots below\n",
    "*(do research and choose your own chart types & variables)*\n",
    "\n",
    "Are there any additional trends or relationships you haven't explored? Was there something interesting you saw that you'd like to dive further into? It's likely that there are a few more plots you might want to generate to support your narrative and recommendations that you are building toward. **As always, make sure you're interpreting your plots as you go**."
   ]
  },
  {
   "cell_type": "code",
   "execution_count": 98,
   "metadata": {},
   "outputs": [
    {
     "data": {
      "text/html": [
       "<div>\n",
       "<style scoped>\n",
       "    .dataframe tbody tr th:only-of-type {\n",
       "        vertical-align: middle;\n",
       "    }\n",
       "\n",
       "    .dataframe tbody tr th {\n",
       "        vertical-align: top;\n",
       "    }\n",
       "\n",
       "    .dataframe thead th {\n",
       "        text-align: right;\n",
       "    }\n",
       "</style>\n",
       "<table border=\"1\" class=\"dataframe\">\n",
       "  <thead>\n",
       "    <tr style=\"text-align: right;\">\n",
       "      <th></th>\n",
       "      <th>region</th>\n",
       "      <th>year</th>\n",
       "      <th>no_of_accidents</th>\n",
       "      <th>no_of_casualties_dead</th>\n",
       "      <th>no_of_casualties_injured</th>\n",
       "      <th>no.driving_liceses</th>\n",
       "      <th>x</th>\n",
       "      <th>y</th>\n",
       "      <th>driving_mean</th>\n",
       "      <th>accidents_mean</th>\n",
       "    </tr>\n",
       "  </thead>\n",
       "  <tbody>\n",
       "    <tr>\n",
       "      <th>0</th>\n",
       "      <td>Al-Baaha</td>\n",
       "      <td>2016</td>\n",
       "      <td>3618.0</td>\n",
       "      <td>185.0</td>\n",
       "      <td>1227.0</td>\n",
       "      <td>4614</td>\n",
       "      <td>20.148405</td>\n",
       "      <td>41.466548</td>\n",
       "      <td>53616.692308</td>\n",
       "      <td>41029.230769</td>\n",
       "    </tr>\n",
       "    <tr>\n",
       "      <th>1</th>\n",
       "      <td>Al-Jouf</td>\n",
       "      <td>2016</td>\n",
       "      <td>10212.0</td>\n",
       "      <td>245.0</td>\n",
       "      <td>920.0</td>\n",
       "      <td>9371</td>\n",
       "      <td>29.967745</td>\n",
       "      <td>39.557037</td>\n",
       "      <td>53616.692308</td>\n",
       "      <td>41029.230769</td>\n",
       "    </tr>\n",
       "    <tr>\n",
       "      <th>2</th>\n",
       "      <td>Asir</td>\n",
       "      <td>2016</td>\n",
       "      <td>32684.0</td>\n",
       "      <td>983.0</td>\n",
       "      <td>2541.0</td>\n",
       "      <td>41367</td>\n",
       "      <td>19.138784</td>\n",
       "      <td>42.941470</td>\n",
       "      <td>53616.692308</td>\n",
       "      <td>41029.230769</td>\n",
       "    </tr>\n",
       "    <tr>\n",
       "      <th>3</th>\n",
       "      <td>Eastern Region</td>\n",
       "      <td>2016</td>\n",
       "      <td>101619.0</td>\n",
       "      <td>1113.0</td>\n",
       "      <td>4893.0</td>\n",
       "      <td>142307</td>\n",
       "      <td>23.288330</td>\n",
       "      <td>50.147830</td>\n",
       "      <td>53616.692308</td>\n",
       "      <td>41029.230769</td>\n",
       "    </tr>\n",
       "    <tr>\n",
       "      <th>4</th>\n",
       "      <td>Hail</td>\n",
       "      <td>2016</td>\n",
       "      <td>10199.0</td>\n",
       "      <td>299.0</td>\n",
       "      <td>932.0</td>\n",
       "      <td>54507</td>\n",
       "      <td>27.400846</td>\n",
       "      <td>41.440696</td>\n",
       "      <td>53616.692308</td>\n",
       "      <td>41029.230769</td>\n",
       "    </tr>\n",
       "  </tbody>\n",
       "</table>\n",
       "</div>"
      ],
      "text/plain": [
       "           region  year  no_of_accidents  no_of_casualties_dead  \\\n",
       "0        Al-Baaha  2016           3618.0                  185.0   \n",
       "1         Al-Jouf  2016          10212.0                  245.0   \n",
       "2            Asir  2016          32684.0                  983.0   \n",
       "3  Eastern Region  2016         101619.0                 1113.0   \n",
       "4            Hail  2016          10199.0                  299.0   \n",
       "\n",
       "   no_of_casualties_injured  no.driving_liceses          x          y  \\\n",
       "0                    1227.0                4614  20.148405  41.466548   \n",
       "1                     920.0                9371  29.967745  39.557037   \n",
       "2                    2541.0               41367  19.138784  42.941470   \n",
       "3                    4893.0              142307  23.288330  50.147830   \n",
       "4                     932.0               54507  27.400846  41.440696   \n",
       "\n",
       "   driving_mean  accidents_mean  \n",
       "0  53616.692308    41029.230769  \n",
       "1  53616.692308    41029.230769  \n",
       "2  53616.692308    41029.230769  \n",
       "3  53616.692308    41029.230769  \n",
       "4  53616.692308    41029.230769  "
      ]
     },
     "execution_count": 98,
     "metadata": {},
     "output_type": "execute_result"
    }
   ],
   "source": [
    "df_merge.head()"
   ]
  },
  {
   "cell_type": "code",
   "execution_count": 125,
   "metadata": {},
   "outputs": [
    {
     "data": {
      "image/png": "[encoded data removed]",
      "text/plain": [
       "<Figure size 432x288 with 1 Axes>"
      ]
     },
     "metadata": {
      "image/png": {
       "height": 261,
       "width": 380
      },
      "needs_background": "light"
     },
     "output_type": "display_data"
    }
   ],
   "source": [
    "#graph of mean of accidents in 2016\n",
    "\n",
    "plt.hist(mean_2016_2017)\n",
    "plt.xlabel(\"region\")\n",
    "plt.ylabel(\"mean_accidents_2016\")\n",
    "plt.show()\n"
   ]
  },
  {
   "cell_type": "code",
   "execution_count": 100,
   "metadata": {},
   "outputs": [
    {
     "data": {
      "image/png": "[encoded data removed]",
      "text/plain": [
       "<Figure size 432x288 with 1 Axes>"
      ]
     },
     "metadata": {
      "image/png": {
       "height": 261,
       "width": 380
      },
      "needs_background": "light"
     },
     "output_type": "display_data"
    }
   ],
   "source": [
    "#graph of mean of accidents in 2017\n",
    "plt.hist(mean_2016_2017,bins=20)\n",
    "plt.xlabel(\"region\")\n",
    "plt.ylabel(\"mean_accidents_2017\")\n",
    "plt.show()"
   ]
  },
  {
   "cell_type": "markdown",
   "metadata": {},
   "source": [
    "## Descriptive and Inferential Statistics"
   ]
  },
  {
   "cell_type": "markdown",
   "metadata": {},
   "source": [
    "#### Summarizing Distributions\n",
    "\n",
    "Above, we used pandas `describe` to provide quick summary statistics of our numeric columns. We also demonstrated many visual relationships.\n",
    "\n",
    "As data scientists, having a complete understanding of data is imperative prior to modeling.\n",
    "\n",
    "While we will continue to build our analytic tools, we know that measures of *central tendency*, *spread*, and *shape/skewness* provide a quick summary of distributions.\n",
    "\n",
    "For each variable in your data, summarize the underlying distributions (in words & statistics)\n",
    " - Be thorough in your verbal description of these distributions.\n",
    " - Be sure to back up these summaries with statistics."
   ]
  },
  {
   "cell_type": "markdown",
   "metadata": {},
   "source": [
    "Answers:"
   ]
  },
  {
   "cell_type": "markdown",
   "metadata": {},
   "source": [
    "#### We generally assuming that data we sample from a population will be normally distributed. Do we observe this trend?"
   ]
  },
  {
   "cell_type": "markdown",
   "metadata": {},
   "source": [
    "Answer:\n",
    "No i found the data are not normally distribution"
   ]
  },
  {
   "cell_type": "markdown",
   "metadata": {},
   "source": [
    "Does This Assumption Hold for:\n",
    "    - Driving Licenses\n",
    "    - Traffic Accidents\n",
    "Explain your answers for each distribution and how you think this will affect estimates made from these data."
   ]
  },
  {
   "cell_type": "markdown",
   "metadata": {},
   "source": [
    "Answer:\n",
    "The data is not normally distributed and there are outliers. I think the dataset is small ,so the distribution looked skewed. if  the data increased, the distribution will be more normal"
   ]
  },
  {
   "cell_type": "markdown",
   "metadata": {},
   "source": [
    "#### Statistical Evaluation of Distributions \n",
    "\n",
    "**If you feel it's appropriate**, using methods we discussed in class, run hypothesis tests to compare variables of interest in our dataset. "
   ]
  },
  {
   "cell_type": "code",
   "execution_count": 101,
   "metadata": {
    "scrolled": true
   },
   "outputs": [
    {
     "data": {
      "text/html": [
       "<div>\n",
       "<style scoped>\n",
       "    .dataframe tbody tr th:only-of-type {\n",
       "        vertical-align: middle;\n",
       "    }\n",
       "\n",
       "    .dataframe tbody tr th {\n",
       "        vertical-align: top;\n",
       "    }\n",
       "\n",
       "    .dataframe thead th {\n",
       "        text-align: right;\n",
       "    }\n",
       "</style>\n",
       "<table border=\"1\" class=\"dataframe\">\n",
       "  <thead>\n",
       "    <tr style=\"text-align: right;\">\n",
       "      <th></th>\n",
       "      <th>year</th>\n",
       "      <th>no_of_accidents</th>\n",
       "      <th>no_of_casualties_dead</th>\n",
       "      <th>no_of_casualties_injured</th>\n",
       "      <th>no.driving_liceses</th>\n",
       "      <th>x</th>\n",
       "      <th>y</th>\n",
       "      <th>driving_mean</th>\n",
       "      <th>accidents_mean</th>\n",
       "    </tr>\n",
       "  </thead>\n",
       "  <tbody>\n",
       "    <tr>\n",
       "      <th>count</th>\n",
       "      <td>325.000000</td>\n",
       "      <td>26.000000</td>\n",
       "      <td>26.000000</td>\n",
       "      <td>26.000000</td>\n",
       "      <td>325.000000</td>\n",
       "      <td>325.000000</td>\n",
       "      <td>325.000000</td>\n",
       "      <td>325.000000</td>\n",
       "      <td>26.000000</td>\n",
       "    </tr>\n",
       "    <tr>\n",
       "      <th>mean</th>\n",
       "      <td>2005.000000</td>\n",
       "      <td>38225.692308</td>\n",
       "      <td>635.384615</td>\n",
       "      <td>2743.038462</td>\n",
       "      <td>28915.347692</td>\n",
       "      <td>23.810447</td>\n",
       "      <td>42.602789</td>\n",
       "      <td>28915.347692</td>\n",
       "      <td>38225.692308</td>\n",
       "    </tr>\n",
       "    <tr>\n",
       "      <th>std</th>\n",
       "      <td>7.222222</td>\n",
       "      <td>46493.705035</td>\n",
       "      <td>549.783381</td>\n",
       "      <td>2922.641127</td>\n",
       "      <td>47419.058819</td>\n",
       "      <td>4.197988</td>\n",
       "      <td>3.254196</td>\n",
       "      <td>12499.768992</td>\n",
       "      <td>2859.059464</td>\n",
       "    </tr>\n",
       "    <tr>\n",
       "      <th>min</th>\n",
       "      <td>1993.000000</td>\n",
       "      <td>1414.000000</td>\n",
       "      <td>112.000000</td>\n",
       "      <td>374.000000</td>\n",
       "      <td>915.000000</td>\n",
       "      <td>17.207232</td>\n",
       "      <td>37.259858</td>\n",
       "      <td>18278.692308</td>\n",
       "      <td>35422.153846</td>\n",
       "    </tr>\n",
       "    <tr>\n",
       "      <th>25%</th>\n",
       "      <td>1999.000000</td>\n",
       "      <td>10276.250000</td>\n",
       "      <td>241.250000</td>\n",
       "      <td>923.000000</td>\n",
       "      <td>4846.000000</td>\n",
       "      <td>20.148405</td>\n",
       "      <td>41.263690</td>\n",
       "      <td>20672.153846</td>\n",
       "      <td>35422.153846</td>\n",
       "    </tr>\n",
       "    <tr>\n",
       "      <th>50%</th>\n",
       "      <td>2005.000000</td>\n",
       "      <td>16050.500000</td>\n",
       "      <td>415.500000</td>\n",
       "      <td>1618.500000</td>\n",
       "      <td>10267.000000</td>\n",
       "      <td>23.288330</td>\n",
       "      <td>41.817119</td>\n",
       "      <td>25396.769231</td>\n",
       "      <td>38225.692308</td>\n",
       "    </tr>\n",
       "    <tr>\n",
       "      <th>75%</th>\n",
       "      <td>2011.000000</td>\n",
       "      <td>30981.250000</td>\n",
       "      <td>929.250000</td>\n",
       "      <td>3784.000000</td>\n",
       "      <td>25423.000000</td>\n",
       "      <td>27.400846</td>\n",
       "      <td>43.343000</td>\n",
       "      <td>30812.153846</td>\n",
       "      <td>41029.230769</td>\n",
       "    </tr>\n",
       "    <tr>\n",
       "      <th>max</th>\n",
       "      <td>2017.000000</td>\n",
       "      <td>145541.000000</td>\n",
       "      <td>2243.000000</td>\n",
       "      <td>12383.000000</td>\n",
       "      <td>495307.000000</td>\n",
       "      <td>30.197075</td>\n",
       "      <td>50.147830</td>\n",
       "      <td>71397.307692</td>\n",
       "      <td>41029.230769</td>\n",
       "    </tr>\n",
       "  </tbody>\n",
       "</table>\n",
       "</div>"
      ],
      "text/plain": [
       "              year  no_of_accidents  no_of_casualties_dead  \\\n",
       "count   325.000000        26.000000              26.000000   \n",
       "mean   2005.000000     38225.692308             635.384615   \n",
       "std       7.222222     46493.705035             549.783381   \n",
       "min    1993.000000      1414.000000             112.000000   \n",
       "25%    1999.000000     10276.250000             241.250000   \n",
       "50%    2005.000000     16050.500000             415.500000   \n",
       "75%    2011.000000     30981.250000             929.250000   \n",
       "max    2017.000000    145541.000000            2243.000000   \n",
       "\n",
       "       no_of_casualties_injured  no.driving_liceses           x           y  \\\n",
       "count                 26.000000          325.000000  325.000000  325.000000   \n",
       "mean                2743.038462        28915.347692   23.810447   42.602789   \n",
       "std                 2922.641127        47419.058819    4.197988    3.254196   \n",
       "min                  374.000000          915.000000   17.207232   37.259858   \n",
       "25%                  923.000000         4846.000000   20.148405   41.263690   \n",
       "50%                 1618.500000        10267.000000   23.288330   41.817119   \n",
       "75%                 3784.000000        25423.000000   27.400846   43.343000   \n",
       "max                12383.000000       495307.000000   30.197075   50.147830   \n",
       "\n",
       "       driving_mean  accidents_mean  \n",
       "count    325.000000       26.000000  \n",
       "mean   28915.347692    38225.692308  \n",
       "std    12499.768992     2859.059464  \n",
       "min    18278.692308    35422.153846  \n",
       "25%    20672.153846    35422.153846  \n",
       "50%    25396.769231    38225.692308  \n",
       "75%    30812.153846    41029.230769  \n",
       "max    71397.307692    41029.230769  "
      ]
     },
     "execution_count": 101,
     "metadata": {},
     "output_type": "execute_result"
    }
   ],
   "source": [
    "df_merge.describe()"
   ]
  },
  {
   "cell_type": "markdown",
   "metadata": {},
   "source": [
    "I want to compare between mode , mean and median, to see if the mean of columns are greater than median"
   ]
  },
  {
   "cell_type": "code",
   "execution_count": 102,
   "metadata": {},
   "outputs": [
    {
     "name": "stdout",
     "output_type": "stream",
     "text": [
      "Mean:  38225.692307692305 \n",
      "Median:  16050.5 \n",
      "Mode:  1414.0\n"
     ]
    }
   ],
   "source": [
    "var_tend = df_merge['no_of_accidents']\n",
    "mean=var_tend.mean()\n",
    "median=var_tend.median()\n",
    "mode=var_tend.mode()\n",
    "print('Mean: ',mean,'\\nMedian: ',median,'\\nMode: ',mode[0])"
   ]
  },
  {
   "cell_type": "code",
   "execution_count": 103,
   "metadata": {},
   "outputs": [
    {
     "data": {
      "image/png": "[encoded data removed]",
      "text/plain": [
       "<Figure size 720x360 with 1 Axes>"
      ]
     },
     "metadata": {
      "image/png": {
       "height": 316,
       "width": 606
      },
      "needs_background": "light"
     },
     "output_type": "display_data"
    }
   ],
   "source": [
    "plt.figure(figsize=(10,5))\n",
    "plt.hist(var_tend,bins=100)\n",
    "plt.axvline(mean,label='Mean')\n",
    "plt.axvline(median,label='Median')\n",
    "plt.axvline(mode[0],label='Mode')\n",
    "plt.xlabel('no_of_accidents')\n",
    "plt.ylabel('Frequency')\n",
    "plt.legend()\n",
    "plt.show()"
   ]
  },
  {
   "cell_type": "markdown",
   "metadata": {},
   "source": [
    "As we can see the graph in positive skewd"
   ]
  },
  {
   "cell_type": "code",
   "execution_count": 104,
   "metadata": {},
   "outputs": [
    {
     "data": {
      "text/plain": [
       "144127.0"
      ]
     },
     "execution_count": 104,
     "metadata": {},
     "output_type": "execute_result"
    }
   ],
   "source": [
    "df_merge['no_of_accidents'].max()-df_merge['no_of_accidents'].min()"
   ]
  },
  {
   "cell_type": "code",
   "execution_count": 105,
   "metadata": {},
   "outputs": [
    {
     "data": {
      "text/plain": [
       "2161664607.9015384"
      ]
     },
     "execution_count": 105,
     "metadata": {},
     "output_type": "execute_result"
    }
   ],
   "source": [
    "df_merge['no_of_accidents'].var()"
   ]
  },
  {
   "cell_type": "code",
   "execution_count": 106,
   "metadata": {},
   "outputs": [
    {
     "data": {
      "text/plain": [
       "46493.70503521459"
      ]
     },
     "execution_count": 106,
     "metadata": {},
     "output_type": "execute_result"
    }
   ],
   "source": [
    "sqrt(df_merge['no_of_accidents'].var())"
   ]
  },
  {
   "cell_type": "code",
   "execution_count": 107,
   "metadata": {},
   "outputs": [
    {
     "data": {
      "text/plain": [
       "16050.5"
      ]
     },
     "execution_count": 107,
     "metadata": {},
     "output_type": "execute_result"
    }
   ],
   "source": [
    "df_merge['no_of_accidents'].quantile(0.5)"
   ]
  },
  {
   "cell_type": "code",
   "execution_count": 108,
   "metadata": {},
   "outputs": [
    {
     "data": {
      "text/plain": [
       "30981.25"
      ]
     },
     "execution_count": 108,
     "metadata": {},
     "output_type": "execute_result"
    }
   ],
   "source": [
    "q3 = df_merge['no_of_accidents'].quantile(0.75)\n",
    "q3"
   ]
  },
  {
   "cell_type": "code",
   "execution_count": 109,
   "metadata": {},
   "outputs": [
    {
     "data": {
      "text/plain": [
       "10276.25"
      ]
     },
     "execution_count": 109,
     "metadata": {},
     "output_type": "execute_result"
    }
   ],
   "source": [
    "#25th percentile\n",
    "q1 = df_merge['no_of_accidents'].quantile(0.25)\n",
    "q1"
   ]
  },
  {
   "cell_type": "code",
   "execution_count": 110,
   "metadata": {},
   "outputs": [
    {
     "data": {
      "text/plain": [
       "20705.0"
      ]
     },
     "execution_count": 110,
     "metadata": {},
     "output_type": "execute_result"
    }
   ],
   "source": [
    "#interquartile range\n",
    "IQR = q3  - q1\n",
    "IQR"
   ]
  },
  {
   "cell_type": "code",
   "execution_count": 111,
   "metadata": {},
   "outputs": [
    {
     "data": {
      "image/png": "[encoded data removed]",
      "text/plain": [
       "<Figure size 1800x288 with 1 Axes>"
      ]
     },
     "metadata": {
      "image/png": {
       "height": 261,
       "width": 1409
      },
      "needs_background": "light"
     },
     "output_type": "display_data"
    }
   ],
   "source": [
    "fig, ax = plt.subplots(figsize=(25, 4))\n",
    "sns.boxplot(x='no_of_accidents',orient='h', fliersize=8, linewidth=2, saturation=6, ax=ax ,data=df_merge);"
   ]
  },
  {
   "cell_type": "markdown",
   "metadata": {},
   "source": [
    "#### Statistical Evaluation of Distributions \n",
    "\n",
    "**If you feel it's appropriate**, using methods we discussed in class, run hypothesis tests to compare variables of interest in our dataset."
   ]
  },
  {
   "cell_type": "code",
   "execution_count": 112,
   "metadata": {},
   "outputs": [
    {
     "name": "stdout",
     "output_type": "stream",
     "text": [
      "The null hypothesis can be rejected for the no_of_accidents feature \n",
      "The null hypothesis can be rejected for the no_of_casualties_dead feature \n",
      "The null hypothesis can be rejected for the no_of_casualties_injured feature \n",
      "The null hypothesis can be rejected for the no.driving_liceses feature \n"
     ]
    }
   ],
   "source": [
    "from scipy.stats import normaltest, skew\n",
    "\n",
    "numeric_columns = ['no_of_accidents','no_of_casualties_dead','no_of_casualties_injured','no.driving_liceses']\n",
    "for i in numeric_columns:\n",
    "    if normaltest(df_merge[i].dropna())[1]<0.01: \n",
    "             print(\"The null hypothesis can be rejected for the {} feature \".format(i))\n",
    "    else:\n",
    "             print(\"The null hypothesis cannot be rejected for the {} feature \".format(i))"
   ]
  },
  {
   "cell_type": "code",
   "execution_count": 113,
   "metadata": {},
   "outputs": [
    {
     "name": "stdout",
     "output_type": "stream",
     "text": [
      "distribution is skewed positive for the no_of_accidents feature \n",
      "distribution is skewed positive for the no_of_casualties_dead feature \n",
      "distribution is skewed positive for the no_of_casualties_injured feature \n",
      "distribution is skewed positive for the no.driving_liceses feature \n"
     ]
    }
   ],
   "source": [
    "for i in numeric_columns:\n",
    "    if skew(df_merge[i].dropna())>0: \n",
    "             print(\"distribution is skewed positive for the {} feature \".format(i))\n",
    "    elif skew(df_merge[i].dropna())<0:\n",
    "             print(\"distribution is skewed negative for the {} feature \".format(i))\n",
    "    else:\n",
    "             print(\"no skeweness for the {} feature \".format(i))"
   ]
  },
  {
   "cell_type": "markdown",
   "metadata": {},
   "source": [
    "## Outside Research"
   ]
  },
  {
   "cell_type": "markdown",
   "metadata": {},
   "source": [
    "Based upon your observations, choose **three** regions that demonstrate interesting trends in the number of driving licenses and traffic accidents. Spend some time doing outside research on provincial and central policies that might influence these rates, and summarize your findings below. **Feel free to go back and create new plots that highlight these states of interest**. If you bring in any outside tables or charts, make sure you are explicit about having borrowed them. If you quote any text, make sure that it renders as being quoted. (Make sure that you cite your sources -- check with you local instructor for citation preferences)."
   ]
  },
  {
   "cell_type": "markdown",
   "metadata": {},
   "source": [
    "Answer:"
   ]
  },
  {
   "cell_type": "code",
   "execution_count": 114,
   "metadata": {},
   "outputs": [
    {
     "data": {
      "text/html": [
       "<div>\n",
       "<style scoped>\n",
       "    .dataframe tbody tr th:only-of-type {\n",
       "        vertical-align: middle;\n",
       "    }\n",
       "\n",
       "    .dataframe tbody tr th {\n",
       "        vertical-align: top;\n",
       "    }\n",
       "\n",
       "    .dataframe thead tr th {\n",
       "        text-align: left;\n",
       "    }\n",
       "\n",
       "    .dataframe thead tr:last-of-type th {\n",
       "        text-align: right;\n",
       "    }\n",
       "</style>\n",
       "<table border=\"1\" class=\"dataframe\">\n",
       "  <thead>\n",
       "    <tr>\n",
       "      <th></th>\n",
       "      <th></th>\n",
       "      <th>no_of_accidents</th>\n",
       "      <th>no_of_casualties_dead</th>\n",
       "      <th>no_of_casualties_injured</th>\n",
       "    </tr>\n",
       "    <tr>\n",
       "      <th></th>\n",
       "      <th></th>\n",
       "      <th>sum</th>\n",
       "      <th>sum</th>\n",
       "      <th>sum</th>\n",
       "    </tr>\n",
       "    <tr>\n",
       "      <th>region</th>\n",
       "      <th>year</th>\n",
       "      <th></th>\n",
       "      <th></th>\n",
       "      <th></th>\n",
       "    </tr>\n",
       "  </thead>\n",
       "  <tbody>\n",
       "    <tr>\n",
       "      <th rowspan=\"5\" valign=\"top\">Al-Baaha</th>\n",
       "      <th>1993</th>\n",
       "      <td>0.0</td>\n",
       "      <td>0.0</td>\n",
       "      <td>0.0</td>\n",
       "    </tr>\n",
       "    <tr>\n",
       "      <th>1994</th>\n",
       "      <td>0.0</td>\n",
       "      <td>0.0</td>\n",
       "      <td>0.0</td>\n",
       "    </tr>\n",
       "    <tr>\n",
       "      <th>1995</th>\n",
       "      <td>0.0</td>\n",
       "      <td>0.0</td>\n",
       "      <td>0.0</td>\n",
       "    </tr>\n",
       "    <tr>\n",
       "      <th>1996</th>\n",
       "      <td>0.0</td>\n",
       "      <td>0.0</td>\n",
       "      <td>0.0</td>\n",
       "    </tr>\n",
       "    <tr>\n",
       "      <th>1997</th>\n",
       "      <td>0.0</td>\n",
       "      <td>0.0</td>\n",
       "      <td>0.0</td>\n",
       "    </tr>\n",
       "    <tr>\n",
       "      <th>...</th>\n",
       "      <th>...</th>\n",
       "      <td>...</td>\n",
       "      <td>...</td>\n",
       "      <td>...</td>\n",
       "    </tr>\n",
       "    <tr>\n",
       "      <th rowspan=\"5\" valign=\"top\">Tabouk</th>\n",
       "      <th>2013</th>\n",
       "      <td>0.0</td>\n",
       "      <td>0.0</td>\n",
       "      <td>0.0</td>\n",
       "    </tr>\n",
       "    <tr>\n",
       "      <th>2014</th>\n",
       "      <td>0.0</td>\n",
       "      <td>0.0</td>\n",
       "      <td>0.0</td>\n",
       "    </tr>\n",
       "    <tr>\n",
       "      <th>2015</th>\n",
       "      <td>0.0</td>\n",
       "      <td>0.0</td>\n",
       "      <td>0.0</td>\n",
       "    </tr>\n",
       "    <tr>\n",
       "      <th>2016</th>\n",
       "      <td>16031.0</td>\n",
       "      <td>434.0</td>\n",
       "      <td>1724.0</td>\n",
       "    </tr>\n",
       "    <tr>\n",
       "      <th>2017</th>\n",
       "      <td>11713.0</td>\n",
       "      <td>348.0</td>\n",
       "      <td>1243.0</td>\n",
       "    </tr>\n",
       "  </tbody>\n",
       "</table>\n",
       "<p>325 rows × 3 columns</p>\n",
       "</div>"
      ],
      "text/plain": [
       "              no_of_accidents no_of_casualties_dead no_of_casualties_injured\n",
       "                          sum                   sum                      sum\n",
       "region   year                                                               \n",
       "Al-Baaha 1993             0.0                   0.0                      0.0\n",
       "         1994             0.0                   0.0                      0.0\n",
       "         1995             0.0                   0.0                      0.0\n",
       "         1996             0.0                   0.0                      0.0\n",
       "         1997             0.0                   0.0                      0.0\n",
       "...                       ...                   ...                      ...\n",
       "Tabouk   2013             0.0                   0.0                      0.0\n",
       "         2014             0.0                   0.0                      0.0\n",
       "         2015             0.0                   0.0                      0.0\n",
       "         2016         16031.0                 434.0                   1724.0\n",
       "         2017         11713.0                 348.0                   1243.0\n",
       "\n",
       "[325 rows x 3 columns]"
      ]
     },
     "execution_count": 114,
     "metadata": {},
     "output_type": "execute_result"
    }
   ],
   "source": [
    "df_merge.groupby(['region','year']).agg({'no_of_accidents':['sum'],'no_of_casualties_dead':['sum'],'no_of_casualties_injured':['sum']},inplace=True)"
   ]
  },
  {
   "cell_type": "code",
   "execution_count": 115,
   "metadata": {},
   "outputs": [
    {
     "data": {
      "text/html": [
       "<div>\n",
       "<style scoped>\n",
       "    .dataframe tbody tr th:only-of-type {\n",
       "        vertical-align: middle;\n",
       "    }\n",
       "\n",
       "    .dataframe tbody tr th {\n",
       "        vertical-align: top;\n",
       "    }\n",
       "\n",
       "    .dataframe thead th {\n",
       "        text-align: right;\n",
       "    }\n",
       "</style>\n",
       "<table border=\"1\" class=\"dataframe\">\n",
       "  <thead>\n",
       "    <tr style=\"text-align: right;\">\n",
       "      <th></th>\n",
       "      <th>region</th>\n",
       "      <th>year</th>\n",
       "    </tr>\n",
       "  </thead>\n",
       "  <tbody>\n",
       "    <tr>\n",
       "      <th>20</th>\n",
       "      <td>Makkah</td>\n",
       "      <td>2017</td>\n",
       "    </tr>\n",
       "    <tr>\n",
       "      <th>11</th>\n",
       "      <td>Riyadh</td>\n",
       "      <td>2016</td>\n",
       "    </tr>\n",
       "    <tr>\n",
       "      <th>7</th>\n",
       "      <td>Makkah</td>\n",
       "      <td>2016</td>\n",
       "    </tr>\n",
       "    <tr>\n",
       "      <th>3</th>\n",
       "      <td>Eastern Region</td>\n",
       "      <td>2016</td>\n",
       "    </tr>\n",
       "    <tr>\n",
       "      <th>24</th>\n",
       "      <td>Riyadh</td>\n",
       "      <td>2017</td>\n",
       "    </tr>\n",
       "    <tr>\n",
       "      <th>16</th>\n",
       "      <td>Eastern Region</td>\n",
       "      <td>2017</td>\n",
       "    </tr>\n",
       "    <tr>\n",
       "      <th>2</th>\n",
       "      <td>Asir</td>\n",
       "      <td>2016</td>\n",
       "    </tr>\n",
       "    <tr>\n",
       "      <th>5</th>\n",
       "      <td>Jazan</td>\n",
       "      <td>2016</td>\n",
       "    </tr>\n",
       "    <tr>\n",
       "      <th>10</th>\n",
       "      <td>Qassim</td>\n",
       "      <td>2016</td>\n",
       "    </tr>\n",
       "    <tr>\n",
       "      <th>15</th>\n",
       "      <td>Asir</td>\n",
       "      <td>2017</td>\n",
       "    </tr>\n",
       "  </tbody>\n",
       "</table>\n",
       "</div>"
      ],
      "text/plain": [
       "            region  year\n",
       "20          Makkah  2017\n",
       "11          Riyadh  2016\n",
       "7           Makkah  2016\n",
       "3   Eastern Region  2016\n",
       "24          Riyadh  2017\n",
       "16  Eastern Region  2017\n",
       "2             Asir  2016\n",
       "5            Jazan  2016\n",
       "10          Qassim  2016\n",
       "15            Asir  2017"
      ]
     },
     "execution_count": 115,
     "metadata": {},
     "output_type": "execute_result"
    }
   ],
   "source": [
    "df_merge.nlargest(10,'no_of_accidents')[['region','year']]"
   ]
  },
  {
   "cell_type": "code",
   "execution_count": 117,
   "metadata": {},
   "outputs": [
    {
     "data": {
      "text/html": [
       "<div>\n",
       "<style scoped>\n",
       "    .dataframe tbody tr th:only-of-type {\n",
       "        vertical-align: middle;\n",
       "    }\n",
       "\n",
       "    .dataframe tbody tr th {\n",
       "        vertical-align: top;\n",
       "    }\n",
       "\n",
       "    .dataframe thead th {\n",
       "        text-align: right;\n",
       "    }\n",
       "</style>\n",
       "<table border=\"1\" class=\"dataframe\">\n",
       "  <thead>\n",
       "    <tr style=\"text-align: right;\">\n",
       "      <th></th>\n",
       "      <th>region</th>\n",
       "      <th>year</th>\n",
       "    </tr>\n",
       "  </thead>\n",
       "  <tbody>\n",
       "    <tr>\n",
       "      <th>13</th>\n",
       "      <td>Al-Baaha</td>\n",
       "      <td>2017</td>\n",
       "    </tr>\n",
       "    <tr>\n",
       "      <th>21</th>\n",
       "      <td>Najran</td>\n",
       "      <td>2017</td>\n",
       "    </tr>\n",
       "    <tr>\n",
       "      <th>8</th>\n",
       "      <td>Najran</td>\n",
       "      <td>2016</td>\n",
       "    </tr>\n",
       "    <tr>\n",
       "      <th>0</th>\n",
       "      <td>Al-Baaha</td>\n",
       "      <td>2016</td>\n",
       "    </tr>\n",
       "    <tr>\n",
       "      <th>17</th>\n",
       "      <td>Hail</td>\n",
       "      <td>2017</td>\n",
       "    </tr>\n",
       "    <tr>\n",
       "      <th>4</th>\n",
       "      <td>Hail</td>\n",
       "      <td>2016</td>\n",
       "    </tr>\n",
       "    <tr>\n",
       "      <th>1</th>\n",
       "      <td>Al-Jouf</td>\n",
       "      <td>2016</td>\n",
       "    </tr>\n",
       "    <tr>\n",
       "      <th>14</th>\n",
       "      <td>Al-Jouf</td>\n",
       "      <td>2017</td>\n",
       "    </tr>\n",
       "    <tr>\n",
       "      <th>22</th>\n",
       "      <td>Northern Boarder</td>\n",
       "      <td>2017</td>\n",
       "    </tr>\n",
       "    <tr>\n",
       "      <th>25</th>\n",
       "      <td>Tabouk</td>\n",
       "      <td>2017</td>\n",
       "    </tr>\n",
       "  </tbody>\n",
       "</table>\n",
       "</div>"
      ],
      "text/plain": [
       "              region  year\n",
       "13          Al-Baaha  2017\n",
       "21            Najran  2017\n",
       "8             Najran  2016\n",
       "0           Al-Baaha  2016\n",
       "17              Hail  2017\n",
       "4               Hail  2016\n",
       "1            Al-Jouf  2016\n",
       "14           Al-Jouf  2017\n",
       "22  Northern Boarder  2017\n",
       "25            Tabouk  2017"
      ]
     },
     "execution_count": 117,
     "metadata": {},
     "output_type": "execute_result"
    }
   ],
   "source": [
    "df_merge.nsmallest(10,'no_of_accidents')[['region','year']]"
   ]
  },
  {
   "cell_type": "markdown",
   "metadata": {},
   "source": [
    "I would like to see traffic accidents in the eastern region,because it is one of the regions that recorded a high rate in 2016"
   ]
  },
  {
   "cell_type": "code",
   "execution_count": 118,
   "metadata": {},
   "outputs": [
    {
     "data": {
      "text/html": [
       "<div>\n",
       "<style scoped>\n",
       "    .dataframe tbody tr th:only-of-type {\n",
       "        vertical-align: middle;\n",
       "    }\n",
       "\n",
       "    .dataframe tbody tr th {\n",
       "        vertical-align: top;\n",
       "    }\n",
       "\n",
       "    .dataframe thead th {\n",
       "        text-align: right;\n",
       "    }\n",
       "</style>\n",
       "<table border=\"1\" class=\"dataframe\">\n",
       "  <thead>\n",
       "    <tr style=\"text-align: right;\">\n",
       "      <th></th>\n",
       "      <th>region</th>\n",
       "      <th>year</th>\n",
       "      <th>no_of_accidents</th>\n",
       "      <th>no_of_casualties_dead</th>\n",
       "      <th>no_of_casualties_injured</th>\n",
       "      <th>no.driving_liceses</th>\n",
       "      <th>x</th>\n",
       "      <th>y</th>\n",
       "      <th>driving_mean</th>\n",
       "      <th>accidents_mean</th>\n",
       "    </tr>\n",
       "  </thead>\n",
       "  <tbody>\n",
       "    <tr>\n",
       "      <th>3</th>\n",
       "      <td>Eastern Region</td>\n",
       "      <td>2016</td>\n",
       "      <td>101619.0</td>\n",
       "      <td>1113.0</td>\n",
       "      <td>4893.0</td>\n",
       "      <td>142307</td>\n",
       "      <td>23.28833</td>\n",
       "      <td>50.14783</td>\n",
       "      <td>53616.692308</td>\n",
       "      <td>41029.230769</td>\n",
       "    </tr>\n",
       "    <tr>\n",
       "      <th>16</th>\n",
       "      <td>Eastern Region</td>\n",
       "      <td>2017</td>\n",
       "      <td>81433.0</td>\n",
       "      <td>963.0</td>\n",
       "      <td>4073.0</td>\n",
       "      <td>126816</td>\n",
       "      <td>23.28833</td>\n",
       "      <td>50.14783</td>\n",
       "      <td>71397.307692</td>\n",
       "      <td>35422.153846</td>\n",
       "    </tr>\n",
       "    <tr>\n",
       "      <th>42</th>\n",
       "      <td>Eastern Region</td>\n",
       "      <td>2015</td>\n",
       "      <td>NaN</td>\n",
       "      <td>NaN</td>\n",
       "      <td>NaN</td>\n",
       "      <td>135752</td>\n",
       "      <td>23.28833</td>\n",
       "      <td>50.14783</td>\n",
       "      <td>33495.307692</td>\n",
       "      <td>NaN</td>\n",
       "    </tr>\n",
       "    <tr>\n",
       "      <th>110</th>\n",
       "      <td>Eastern Region</td>\n",
       "      <td>2011</td>\n",
       "      <td>NaN</td>\n",
       "      <td>NaN</td>\n",
       "      <td>NaN</td>\n",
       "      <td>151087</td>\n",
       "      <td>23.28833</td>\n",
       "      <td>50.14783</td>\n",
       "      <td>30812.153846</td>\n",
       "      <td>NaN</td>\n",
       "    </tr>\n",
       "    <tr>\n",
       "      <th>111</th>\n",
       "      <td>Eastern Region</td>\n",
       "      <td>2012</td>\n",
       "      <td>NaN</td>\n",
       "      <td>NaN</td>\n",
       "      <td>NaN</td>\n",
       "      <td>129971</td>\n",
       "      <td>23.28833</td>\n",
       "      <td>50.14783</td>\n",
       "      <td>31631.076923</td>\n",
       "      <td>NaN</td>\n",
       "    </tr>\n",
       "    <tr>\n",
       "      <th>190</th>\n",
       "      <td>Eastern Region</td>\n",
       "      <td>2013</td>\n",
       "      <td>NaN</td>\n",
       "      <td>NaN</td>\n",
       "      <td>NaN</td>\n",
       "      <td>123325</td>\n",
       "      <td>23.28833</td>\n",
       "      <td>50.14783</td>\n",
       "      <td>43485.692308</td>\n",
       "      <td>NaN</td>\n",
       "    </tr>\n",
       "    <tr>\n",
       "      <th>191</th>\n",
       "      <td>Eastern Region</td>\n",
       "      <td>1996</td>\n",
       "      <td>NaN</td>\n",
       "      <td>NaN</td>\n",
       "      <td>NaN</td>\n",
       "      <td>8461</td>\n",
       "      <td>23.28833</td>\n",
       "      <td>50.14783</td>\n",
       "      <td>18278.692308</td>\n",
       "      <td>NaN</td>\n",
       "    </tr>\n",
       "    <tr>\n",
       "      <th>192</th>\n",
       "      <td>Eastern Region</td>\n",
       "      <td>2002</td>\n",
       "      <td>NaN</td>\n",
       "      <td>NaN</td>\n",
       "      <td>NaN</td>\n",
       "      <td>85035</td>\n",
       "      <td>23.28833</td>\n",
       "      <td>50.14783</td>\n",
       "      <td>21695.230769</td>\n",
       "      <td>NaN</td>\n",
       "    </tr>\n",
       "    <tr>\n",
       "      <th>193</th>\n",
       "      <td>Eastern Region</td>\n",
       "      <td>2000</td>\n",
       "      <td>NaN</td>\n",
       "      <td>NaN</td>\n",
       "      <td>NaN</td>\n",
       "      <td>65767</td>\n",
       "      <td>23.28833</td>\n",
       "      <td>50.14783</td>\n",
       "      <td>21018.307692</td>\n",
       "      <td>NaN</td>\n",
       "    </tr>\n",
       "    <tr>\n",
       "      <th>194</th>\n",
       "      <td>Eastern Region</td>\n",
       "      <td>2001</td>\n",
       "      <td>NaN</td>\n",
       "      <td>NaN</td>\n",
       "      <td>NaN</td>\n",
       "      <td>74119</td>\n",
       "      <td>23.28833</td>\n",
       "      <td>50.14783</td>\n",
       "      <td>20363.461538</td>\n",
       "      <td>NaN</td>\n",
       "    </tr>\n",
       "    <tr>\n",
       "      <th>195</th>\n",
       "      <td>Eastern Region</td>\n",
       "      <td>2006</td>\n",
       "      <td>NaN</td>\n",
       "      <td>NaN</td>\n",
       "      <td>NaN</td>\n",
       "      <td>79517</td>\n",
       "      <td>23.28833</td>\n",
       "      <td>50.14783</td>\n",
       "      <td>20577.538462</td>\n",
       "      <td>NaN</td>\n",
       "    </tr>\n",
       "    <tr>\n",
       "      <th>196</th>\n",
       "      <td>Eastern Region</td>\n",
       "      <td>2007</td>\n",
       "      <td>NaN</td>\n",
       "      <td>NaN</td>\n",
       "      <td>NaN</td>\n",
       "      <td>106511</td>\n",
       "      <td>23.28833</td>\n",
       "      <td>50.14783</td>\n",
       "      <td>25488.923077</td>\n",
       "      <td>NaN</td>\n",
       "    </tr>\n",
       "    <tr>\n",
       "      <th>197</th>\n",
       "      <td>Eastern Region</td>\n",
       "      <td>2008</td>\n",
       "      <td>NaN</td>\n",
       "      <td>NaN</td>\n",
       "      <td>NaN</td>\n",
       "      <td>104626</td>\n",
       "      <td>23.28833</td>\n",
       "      <td>50.14783</td>\n",
       "      <td>25396.769231</td>\n",
       "      <td>NaN</td>\n",
       "    </tr>\n",
       "    <tr>\n",
       "      <th>244</th>\n",
       "      <td>Eastern Region</td>\n",
       "      <td>2014</td>\n",
       "      <td>NaN</td>\n",
       "      <td>NaN</td>\n",
       "      <td>NaN</td>\n",
       "      <td>121774</td>\n",
       "      <td>23.28833</td>\n",
       "      <td>50.14783</td>\n",
       "      <td>48108.769231</td>\n",
       "      <td>NaN</td>\n",
       "    </tr>\n",
       "    <tr>\n",
       "      <th>245</th>\n",
       "      <td>Eastern Region</td>\n",
       "      <td>2010</td>\n",
       "      <td>NaN</td>\n",
       "      <td>NaN</td>\n",
       "      <td>NaN</td>\n",
       "      <td>110295</td>\n",
       "      <td>23.28833</td>\n",
       "      <td>50.14783</td>\n",
       "      <td>29731.538462</td>\n",
       "      <td>NaN</td>\n",
       "    </tr>\n",
       "    <tr>\n",
       "      <th>246</th>\n",
       "      <td>Eastern Region</td>\n",
       "      <td>1995</td>\n",
       "      <td>NaN</td>\n",
       "      <td>NaN</td>\n",
       "      <td>NaN</td>\n",
       "      <td>7831</td>\n",
       "      <td>23.28833</td>\n",
       "      <td>50.14783</td>\n",
       "      <td>19375.230769</td>\n",
       "      <td>NaN</td>\n",
       "    </tr>\n",
       "    <tr>\n",
       "      <th>247</th>\n",
       "      <td>Eastern Region</td>\n",
       "      <td>1994</td>\n",
       "      <td>NaN</td>\n",
       "      <td>NaN</td>\n",
       "      <td>NaN</td>\n",
       "      <td>10918</td>\n",
       "      <td>23.28833</td>\n",
       "      <td>50.14783</td>\n",
       "      <td>23347.692308</td>\n",
       "      <td>NaN</td>\n",
       "    </tr>\n",
       "    <tr>\n",
       "      <th>248</th>\n",
       "      <td>Eastern Region</td>\n",
       "      <td>1997</td>\n",
       "      <td>NaN</td>\n",
       "      <td>NaN</td>\n",
       "      <td>NaN</td>\n",
       "      <td>58814</td>\n",
       "      <td>23.28833</td>\n",
       "      <td>50.14783</td>\n",
       "      <td>22253.538462</td>\n",
       "      <td>NaN</td>\n",
       "    </tr>\n",
       "    <tr>\n",
       "      <th>249</th>\n",
       "      <td>Eastern Region</td>\n",
       "      <td>2003</td>\n",
       "      <td>NaN</td>\n",
       "      <td>NaN</td>\n",
       "      <td>NaN</td>\n",
       "      <td>82697</td>\n",
       "      <td>23.28833</td>\n",
       "      <td>50.14783</td>\n",
       "      <td>19604.461538</td>\n",
       "      <td>NaN</td>\n",
       "    </tr>\n",
       "    <tr>\n",
       "      <th>250</th>\n",
       "      <td>Eastern Region</td>\n",
       "      <td>2009</td>\n",
       "      <td>NaN</td>\n",
       "      <td>NaN</td>\n",
       "      <td>NaN</td>\n",
       "      <td>108544</td>\n",
       "      <td>23.28833</td>\n",
       "      <td>50.14783</td>\n",
       "      <td>28944.230769</td>\n",
       "      <td>NaN</td>\n",
       "    </tr>\n",
       "    <tr>\n",
       "      <th>308</th>\n",
       "      <td>Eastern Region</td>\n",
       "      <td>1993</td>\n",
       "      <td>NaN</td>\n",
       "      <td>NaN</td>\n",
       "      <td>NaN</td>\n",
       "      <td>9964</td>\n",
       "      <td>23.28833</td>\n",
       "      <td>50.14783</td>\n",
       "      <td>22684.076923</td>\n",
       "      <td>NaN</td>\n",
       "    </tr>\n",
       "    <tr>\n",
       "      <th>309</th>\n",
       "      <td>Eastern Region</td>\n",
       "      <td>1999</td>\n",
       "      <td>NaN</td>\n",
       "      <td>NaN</td>\n",
       "      <td>NaN</td>\n",
       "      <td>64973</td>\n",
       "      <td>23.28833</td>\n",
       "      <td>50.14783</td>\n",
       "      <td>25554.615385</td>\n",
       "      <td>NaN</td>\n",
       "    </tr>\n",
       "    <tr>\n",
       "      <th>310</th>\n",
       "      <td>Eastern Region</td>\n",
       "      <td>1998</td>\n",
       "      <td>NaN</td>\n",
       "      <td>NaN</td>\n",
       "      <td>NaN</td>\n",
       "      <td>70650</td>\n",
       "      <td>23.28833</td>\n",
       "      <td>50.14783</td>\n",
       "      <td>26026.923077</td>\n",
       "      <td>NaN</td>\n",
       "    </tr>\n",
       "    <tr>\n",
       "      <th>311</th>\n",
       "      <td>Eastern Region</td>\n",
       "      <td>2004</td>\n",
       "      <td>NaN</td>\n",
       "      <td>NaN</td>\n",
       "      <td>NaN</td>\n",
       "      <td>84984</td>\n",
       "      <td>23.28833</td>\n",
       "      <td>50.14783</td>\n",
       "      <td>20672.153846</td>\n",
       "      <td>NaN</td>\n",
       "    </tr>\n",
       "    <tr>\n",
       "      <th>312</th>\n",
       "      <td>Eastern Region</td>\n",
       "      <td>2005</td>\n",
       "      <td>NaN</td>\n",
       "      <td>NaN</td>\n",
       "      <td>NaN</td>\n",
       "      <td>82505</td>\n",
       "      <td>23.28833</td>\n",
       "      <td>50.14783</td>\n",
       "      <td>19323.307692</td>\n",
       "      <td>NaN</td>\n",
       "    </tr>\n",
       "  </tbody>\n",
       "</table>\n",
       "</div>"
      ],
      "text/plain": [
       "             region  year  no_of_accidents  no_of_casualties_dead  \\\n",
       "3    Eastern Region  2016         101619.0                 1113.0   \n",
       "16   Eastern Region  2017          81433.0                  963.0   \n",
       "42   Eastern Region  2015              NaN                    NaN   \n",
       "110  Eastern Region  2011              NaN                    NaN   \n",
       "111  Eastern Region  2012              NaN                    NaN   \n",
       "190  Eastern Region  2013              NaN                    NaN   \n",
       "191  Eastern Region  1996              NaN                    NaN   \n",
       "192  Eastern Region  2002              NaN                    NaN   \n",
       "193  Eastern Region  2000              NaN                    NaN   \n",
       "194  Eastern Region  2001              NaN                    NaN   \n",
       "195  Eastern Region  2006              NaN                    NaN   \n",
       "196  Eastern Region  2007              NaN                    NaN   \n",
       "197  Eastern Region  2008              NaN                    NaN   \n",
       "244  Eastern Region  2014              NaN                    NaN   \n",
       "245  Eastern Region  2010              NaN                    NaN   \n",
       "246  Eastern Region  1995              NaN                    NaN   \n",
       "247  Eastern Region  1994              NaN                    NaN   \n",
       "248  Eastern Region  1997              NaN                    NaN   \n",
       "249  Eastern Region  2003              NaN                    NaN   \n",
       "250  Eastern Region  2009              NaN                    NaN   \n",
       "308  Eastern Region  1993              NaN                    NaN   \n",
       "309  Eastern Region  1999              NaN                    NaN   \n",
       "310  Eastern Region  1998              NaN                    NaN   \n",
       "311  Eastern Region  2004              NaN                    NaN   \n",
       "312  Eastern Region  2005              NaN                    NaN   \n",
       "\n",
       "     no_of_casualties_injured  no.driving_liceses         x         y  \\\n",
       "3                      4893.0              142307  23.28833  50.14783   \n",
       "16                     4073.0              126816  23.28833  50.14783   \n",
       "42                        NaN              135752  23.28833  50.14783   \n",
       "110                       NaN              151087  23.28833  50.14783   \n",
       "111                       NaN              129971  23.28833  50.14783   \n",
       "190                       NaN              123325  23.28833  50.14783   \n",
       "191                       NaN                8461  23.28833  50.14783   \n",
       "192                       NaN               85035  23.28833  50.14783   \n",
       "193                       NaN               65767  23.28833  50.14783   \n",
       "194                       NaN               74119  23.28833  50.14783   \n",
       "195                       NaN               79517  23.28833  50.14783   \n",
       "196                       NaN              106511  23.28833  50.14783   \n",
       "197                       NaN              104626  23.28833  50.14783   \n",
       "244                       NaN              121774  23.28833  50.14783   \n",
       "245                       NaN              110295  23.28833  50.14783   \n",
       "246                       NaN                7831  23.28833  50.14783   \n",
       "247                       NaN               10918  23.28833  50.14783   \n",
       "248                       NaN               58814  23.28833  50.14783   \n",
       "249                       NaN               82697  23.28833  50.14783   \n",
       "250                       NaN              108544  23.28833  50.14783   \n",
       "308                       NaN                9964  23.28833  50.14783   \n",
       "309                       NaN               64973  23.28833  50.14783   \n",
       "310                       NaN               70650  23.28833  50.14783   \n",
       "311                       NaN               84984  23.28833  50.14783   \n",
       "312                       NaN               82505  23.28833  50.14783   \n",
       "\n",
       "     driving_mean  accidents_mean  \n",
       "3    53616.692308    41029.230769  \n",
       "16   71397.307692    35422.153846  \n",
       "42   33495.307692             NaN  \n",
       "110  30812.153846             NaN  \n",
       "111  31631.076923             NaN  \n",
       "190  43485.692308             NaN  \n",
       "191  18278.692308             NaN  \n",
       "192  21695.230769             NaN  \n",
       "193  21018.307692             NaN  \n",
       "194  20363.461538             NaN  \n",
       "195  20577.538462             NaN  \n",
       "196  25488.923077             NaN  \n",
       "197  25396.769231             NaN  \n",
       "244  48108.769231             NaN  \n",
       "245  29731.538462             NaN  \n",
       "246  19375.230769             NaN  \n",
       "247  23347.692308             NaN  \n",
       "248  22253.538462             NaN  \n",
       "249  19604.461538             NaN  \n",
       "250  28944.230769             NaN  \n",
       "308  22684.076923             NaN  \n",
       "309  25554.615385             NaN  \n",
       "310  26026.923077             NaN  \n",
       "311  20672.153846             NaN  \n",
       "312  19323.307692             NaN  "
      ]
     },
     "execution_count": 118,
     "metadata": {},
     "output_type": "execute_result"
    }
   ],
   "source": [
    "df_merge[df_merge['region']== 'Eastern Region']"
   ]
  },
  {
   "cell_type": "code",
   "execution_count": 124,
   "metadata": {},
   "outputs": [
    {
     "name": "stderr",
     "output_type": "stream",
     "text": [
      "C:\\anaconda\\lib\\site-packages\\ipykernel_launcher.py:1: UserWarning: Boolean Series key will be reindexed to match DataFrame index.\n",
      "  \"\"\"Entry point for launching an IPython kernel.\n"
     ]
    },
    {
     "data": {
      "text/html": [
       "<div>\n",
       "<style scoped>\n",
       "    .dataframe tbody tr th:only-of-type {\n",
       "        vertical-align: middle;\n",
       "    }\n",
       "\n",
       "    .dataframe tbody tr th {\n",
       "        vertical-align: top;\n",
       "    }\n",
       "\n",
       "    .dataframe thead th {\n",
       "        text-align: right;\n",
       "    }\n",
       "</style>\n",
       "<table border=\"1\" class=\"dataframe\">\n",
       "  <thead>\n",
       "    <tr style=\"text-align: right;\">\n",
       "      <th></th>\n",
       "      <th>region</th>\n",
       "      <th>year</th>\n",
       "      <th>no_of_accidents</th>\n",
       "      <th>no_of_casualties_dead</th>\n",
       "      <th>no_of_casualties_injured</th>\n",
       "      <th>no.driving_liceses</th>\n",
       "      <th>x</th>\n",
       "      <th>y</th>\n",
       "      <th>driving_mean</th>\n",
       "      <th>accidents_mean</th>\n",
       "    </tr>\n",
       "  </thead>\n",
       "  <tbody>\n",
       "    <tr>\n",
       "      <th>3</th>\n",
       "      <td>Eastern Region</td>\n",
       "      <td>2016</td>\n",
       "      <td>101619.0</td>\n",
       "      <td>1113.0</td>\n",
       "      <td>4893.0</td>\n",
       "      <td>142307</td>\n",
       "      <td>23.28833</td>\n",
       "      <td>50.14783</td>\n",
       "      <td>53616.692308</td>\n",
       "      <td>41029.230769</td>\n",
       "    </tr>\n",
       "  </tbody>\n",
       "</table>\n",
       "</div>"
      ],
      "text/plain": [
       "           region  year  no_of_accidents  no_of_casualties_dead  \\\n",
       "3  Eastern Region  2016         101619.0                 1113.0   \n",
       "\n",
       "   no_of_casualties_injured  no.driving_liceses         x         y  \\\n",
       "3                    4893.0              142307  23.28833  50.14783   \n",
       "\n",
       "   driving_mean  accidents_mean  \n",
       "3  53616.692308    41029.230769  "
      ]
     },
     "execution_count": 124,
     "metadata": {},
     "output_type": "execute_result"
    }
   ],
   "source": [
    "df_merge[df_merge['region']=='Eastern Region'][df_merge['year']==2016]"
   ]
  },
  {
   "cell_type": "markdown",
   "metadata": {},
   "source": [
    "I found data from the Eastern Region traffic that it decreased the accidint rate in 2018, after developing plans and strategies to solve the problem. This databset is not updated and needs more data to be able to delve into my research"
   ]
  },
  {
   "cell_type": "code",
   "execution_count": 123,
   "metadata": {},
   "outputs": [
    {
     "data": {
      "text/plain": [
       "array(['Al-Baaha', 'Al-Jouf', 'Asir', 'Eastern Region', 'Hail', 'Jazan',\n",
       "       'Madinah', 'Makkah', 'Najran', 'Northern Boarder', 'Qassim',\n",
       "       'Riyadh', 'Tabouk'], dtype=object)"
      ]
     },
     "execution_count": 123,
     "metadata": {},
     "output_type": "execute_result"
    }
   ],
   "source": [
    "df_merge.region.unique()"
   ]
  },
  {
   "cell_type": "markdown",
   "metadata": {},
   "source": [
    "Summary, I noticed that in most regions in 2017, traffic accidents decreased with an increase in the issued of driving licenses, except for some regions Makkah ,Madinah and Al-jawf"
   ]
  },
  {
   "cell_type": "markdown",
   "metadata": {},
   "source": [
    "## Conclusions and Recommendations"
   ]
  },
  {
   "cell_type": "markdown",
   "metadata": {},
   "source": [
    "- Based on your exploration of the data, what are you key takeaways and recommendations?\n",
    "- Are there additional data you desire that would better inform your investigations?"
   ]
  },
  {
   "cell_type": "markdown",
   "metadata": {},
   "source": [
    "Answer:\n",
    "Based on past data from the accident dataset, we can refer to multiple parameters, such as some issues with Data Set not all of the data appearing ,Each datasets are not clearly stated there is no day and month.  In Dataset driver's licenses, the drivers ages are not mentioned in order to find out the highest age group that causes traffic accidents.\n",
    "\n",
    "\n",
    "\n",
    "I recommend solutions to reduce accidents in the Kingdom of Saudi Arabia, which found that Riyadh and Makkah are the highest rate of increase in traffic accidents. Through knowing the area, can be educated people about the importance of adhering to traffic instructions and modifying or closing dangerous roads and street lighting in some remote areas.  In the driving test center, drivers must be trained and sensitized, and the quality of the tests provided must be ensured"
   ]
  },
  {
   "cell_type": "code",
   "execution_count": null,
   "metadata": {},
   "outputs": [],
   "source": []
  }
 ],
 "metadata": {
  "anaconda-cloud": {},
  "kernelspec": {
   "display_name": "Python 3",
   "language": "python",
   "name": "python3"
  },
  "language_info": {
   "codemirror_mode": {
    "name": "ipython",
    "version": 3
   },
   "file_extension": ".py",
   "mimetype": "text/x-python",
   "name": "python",
   "nbconvert_exporter": "python",
   "pygments_lexer": "ipython3",
   "version": "3.7.4"
  }
 },
 "nbformat": 4,
 "nbformat_minor": 2
}
